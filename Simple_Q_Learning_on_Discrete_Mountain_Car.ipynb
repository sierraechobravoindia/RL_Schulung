{
  "nbformat": 4,
  "nbformat_minor": 0,
  "metadata": {
    "anaconda-cloud": {},
    "kernelspec": {
      "display_name": "Python 3.6 (tensorflow)",
      "language": "python",
      "name": "tensorflow"
    },
    "language_info": {
      "codemirror_mode": {
        "name": "ipython",
        "version": 3
      },
      "file_extension": ".py",
      "mimetype": "text/x-python",
      "name": "python",
      "nbconvert_exporter": "python",
      "pygments_lexer": "ipython3",
      "version": "3.7.7"
    },
    "colab": {
      "name": "Simple Q-Learning on Discrete Mountain Car.ipynb",
      "provenance": [],
      "collapsed_sections": [],
      "include_colab_link": true
    }
  },
  "cells": [
    {
      "cell_type": "markdown",
      "metadata": {
        "id": "view-in-github",
        "colab_type": "text"
      },
      "source": [
        "<a href=\"https://colab.research.google.com/github/sierraechobravoindia/RL_Schulung/blob/main/Simple_Q_Learning_on_Discrete_Mountain_Car.ipynb\" target=\"_parent\"><img src=\"https://colab.research.google.com/assets/colab-badge.svg\" alt=\"Open In Colab\"/></a>"
      ]
    },
    {
      "cell_type": "markdown",
      "metadata": {
        "id": "PF0TtkQ4-NoP"
      },
      "source": [
        "<a href=\"https://colab.research.google.com/github/jeffheaton/t81_558_deep_learning/blob/master/t81_558_class_12_02_qlearningreinforcement.ipynb\" target=\"_parent\"><img src=\"https://colab.research.google.com/assets/colab-badge.svg\" alt=\"Open In Colab\"/></a>"
      ]
    },
    {
      "cell_type": "markdown",
      "metadata": {
        "id": "MIOgB0oG-NoS"
      },
      "source": [
        "# Q-Learning on Mountain Car \n"
      ]
    },
    {
      "cell_type": "code",
      "metadata": {
        "colab": {
          "base_uri": "https://localhost:8080/"
        },
        "id": "IcTY1gkD-X5r",
        "outputId": "cf664b98-3126-4a0d-b679-ad6498f5e9d0"
      },
      "source": [
        "!sudo apt-get install -y xvfb ffmpeg x11-utils\n",
        "#!pip install -q 'gym==0.10.11'\n",
        "!pip install -q gym\n",
        "#!pip install -q 'imageio==2.4.0'\n",
        "!pip install -q imageio\n",
        "!pip install -q PILLOW\n",
        "#!pip install -q 'pyglet==1.3.2'\n",
        "!pip install -q pyglet\n",
        "!pip install -q pyvirtualdisplay\n",
        "!pip install -q tf-agents"
      ],
      "execution_count": 1,
      "outputs": [
        {
          "output_type": "stream",
          "text": [
            "Reading package lists... Done\n",
            "Building dependency tree       \n",
            "Reading state information... Done\n",
            "x11-utils is already the newest version (7.7+3build1).\n",
            "ffmpeg is already the newest version (7:3.4.8-0ubuntu0.2).\n",
            "xvfb is already the newest version (2:1.19.6-1ubuntu4.9).\n",
            "The following package was automatically installed and is no longer required:\n",
            "  libnvidia-common-460\n",
            "Use 'sudo apt autoremove' to remove it.\n",
            "0 upgraded, 0 newly installed, 0 to remove and 34 not upgraded.\n"
          ],
          "name": "stdout"
        }
      ]
    },
    {
      "cell_type": "code",
      "metadata": {
        "colab": {
          "base_uri": "https://localhost:8080/",
          "height": 655
        },
        "id": "ngaU1pVi-mjb",
        "outputId": "13716a53-f806-4365-dbc4-5999c1fb698f"
      },
      "source": [
        "import tf_agents\n",
        "from tf_agents.environments import suite_gym\n",
        "import PIL.Image\n",
        "import pyvirtualdisplay\n",
        "\n",
        "display = pyvirtualdisplay.Display(visible=0, size=(1400, 900)).start()\n",
        "\n",
        "env_name = 'MountainCar-v0'\n",
        "env = suite_gym.load(env_name)\n",
        "time_step = env.reset()\n",
        "\n",
        "print(env.observation_space.high)\n",
        "print(env.observation_space.low)\n",
        "\n",
        "print('Observation Spec:')\n",
        "print(env.time_step_spec().observation)\n",
        "\n",
        "print('Action Spec:')\n",
        "print(env.action_spec())\n",
        "\n",
        "print('Reward Spec:')\n",
        "print(env.time_step_spec().reward)\n",
        "\n",
        "print('Time step:')\n",
        "print(time_step)\n",
        "PIL.Image.fromarray(env.render())"
      ],
      "execution_count": 2,
      "outputs": [
        {
          "output_type": "stream",
          "text": [
            "[0.6  0.07]\n",
            "[-1.2  -0.07]\n",
            "Observation Spec:\n",
            "BoundedArraySpec(shape=(2,), dtype=dtype('float32'), name='observation', minimum=[-1.2  -0.07], maximum=[0.6  0.07])\n",
            "Action Spec:\n",
            "BoundedArraySpec(shape=(), dtype=dtype('int64'), name='action', minimum=0, maximum=2)\n",
            "Reward Spec:\n",
            "ArraySpec(shape=(), dtype=dtype('float32'), name='reward')\n",
            "Time step:\n",
            "TimeStep(\n",
            "{'discount': array(1., dtype=float32),\n",
            " 'observation': array([-0.5782699,  0.       ], dtype=float32),\n",
            " 'reward': array(0., dtype=float32),\n",
            " 'step_type': array(0, dtype=int32)})\n"
          ],
          "name": "stdout"
        },
        {
          "output_type": "execute_result",
          "data": {
            "image/png": "[encoded data removed]",
            "text/plain": [
              "<PIL.Image.Image image mode=RGB size=600x400 at 0x7F30BD165F90>"
            ]
          },
          "metadata": {
            "tags": []
          },
          "execution_count": 2
        }
      ]
    },
    {
      "cell_type": "markdown",
      "metadata": {
        "id": "cQBcs3yAMo_P"
      },
      "source": [
        "\n",
        "    Description:\n",
        "        The agent (a car) is started at the bottom of a valley. For any given\n",
        "        state the agent may choose to accelerate to the left, right or cease\n",
        "        any acceleration.\n",
        "\n",
        "    Source:\n",
        "        The environment appeared first in Andrew Moore's PhD Thesis (1990).\n",
        "\n",
        "    Observation:\n",
        "\n",
        "\n",
        "        Type: Box(2)\n",
        "        Num    Observation               Min            Max\n",
        "        0      Car Position              -1.2           0.6\n",
        "        1      Car Velocity              -0.07          0.07\n",
        "    \n",
        "    Actions:\n",
        "        Type: Discrete(3)\n",
        "        Num    Action\n",
        "        0      Accelerate to the Left\n",
        "        1      Don't accelerate\n",
        "        2      Accelerate to the Right\n",
        "        Note: This does not affect the amount of velocity affected by the\n",
        "        gravitational pull acting on the car.\n",
        "    \n",
        "    Reward:\n",
        "         Reward of 0 is awarded if the agent reached the flag (position = 0.5)\n",
        "         on top of the mountain.\n",
        "         Reward of -1 is awarded if the position of the agent is less than 0.5.\n",
        "    \n",
        "    Starting State:\n",
        "         The position of the car is assigned a uniform random value in\n",
        "         [-0.6 , -0.4].\n",
        "         The starting velocity of the car is always assigned to 0.\n",
        "    \n",
        "    Episode Termination:\n",
        "         The car position is more than 0.5\n",
        "         Episode length is greater than 200\n"
      ]
    },
    {
      "cell_type": "code",
      "metadata": {
        "id": "QMLS0b-tbc_j"
      },
      "source": [
        "import gym\n",
        "from gym.wrappers import Monitor\n",
        "import glob\n",
        "import io\n",
        "import base64\n",
        "from IPython.display import HTML\n",
        "from pyvirtualdisplay import Display\n",
        "from IPython import display as ipythondisplay\n",
        "\n",
        "display = Display(visible=0, size=(1400, 900))\n",
        "display.start()\n",
        "\n",
        "\"\"\"\n",
        "Utility functions to enable video recording of gym environment \n",
        "and displaying it.\n",
        "To enable video, just do \"env = wrap_env(env)\"\"\n",
        "\"\"\"\n",
        "\n",
        "def show_video():\n",
        "  mp4list = glob.glob('video/*.mp4')\n",
        "  if len(mp4list) > 0:\n",
        "    mp4 = mp4list[0]\n",
        "    video = io.open(mp4, 'r+b').read()\n",
        "    encoded = base64.b64encode(video)\n",
        "    ipythondisplay.display(HTML(data='''<video alt=\"test\" autoplay \n",
        "                loop controls style=\"height: 400px;\">\n",
        "                <source src=\"data:video/mp4;base64,{0}\" type=\"video/mp4\" />\n",
        "             </video>'''.format(encoded.decode('ascii'))))\n",
        "  else: \n",
        "    print(\"Could not find video\")\n",
        "    \n",
        "\n",
        "def wrap_env(env):\n",
        "  env = Monitor(env, './video', force=True)\n",
        "  return env"
      ],
      "execution_count": 3,
      "outputs": []
    },
    {
      "cell_type": "markdown",
      "metadata": {
        "id": "DfKVL5x4KjoR"
      },
      "source": [
        "\n",
        "The following code shows an agent that applies full throttle to climb the hill.  The cart is not strong enough.  It will need to use potential energy from the mountain behind it."
      ]
    },
    {
      "cell_type": "code",
      "metadata": {
        "colab": {
          "base_uri": "https://localhost:8080/"
        },
        "id": "iCRJdn0G-NoZ",
        "outputId": "2aa027ac-c55f-4dc1-86e2-15c4cf31fcff"
      },
      "source": [
        "env = wrap_env(gym.make(\"MountainCar-v0\"))\n",
        "env.reset()\n",
        "done = False\n",
        "\n",
        "i = 0\n",
        "while not done:\n",
        "    i += 1\n",
        "    state, reward, done, _ = env.step(2)\n",
        "    env.render()\n",
        "    print(f\"Step {i}: State={state}, Reward={reward}\")\n",
        "    \n",
        "env.close()"
      ],
      "execution_count": 4,
      "outputs": [
        {
          "output_type": "stream",
          "text": [
            "Step 1: State=[-0.53330634  0.0010809 ], Reward=-1.0\n",
            "Step 2: State=[-0.53115265  0.0021537 ], Reward=-1.0\n",
            "Step 3: State=[-0.5279423   0.00321035], Reward=-1.0\n",
            "Step 4: State=[-0.52369938  0.00424292], Reward=-1.0\n",
            "Step 5: State=[-0.51845571  0.00524368], Reward=-1.0\n",
            "Step 6: State=[-0.5122506  0.0062051], Reward=-1.0\n",
            "Step 7: State=[-0.50513059  0.00712001], Reward=-1.0\n",
            "Step 8: State=[-0.49714903  0.00798157], Reward=-1.0\n",
            "Step 9: State=[-0.48836562  0.0087834 ], Reward=-1.0\n",
            "Step 10: State=[-0.47884598  0.00951965], Reward=-1.0\n",
            "Step 11: State=[-0.46866097  0.01018501], Reward=-1.0\n",
            "Step 12: State=[-0.45788613  0.01077484], Reward=-1.0\n",
            "Step 13: State=[-0.44660095  0.01128518], Reward=-1.0\n",
            "Step 14: State=[-0.43488814  0.01171282], Reward=-1.0\n",
            "Step 15: State=[-0.42283282  0.01205531], Reward=-1.0\n",
            "Step 16: State=[-0.4105218   0.01231103], Reward=-1.0\n",
            "Step 17: State=[-0.39804268  0.01247912], Reward=-1.0\n",
            "Step 18: State=[-0.38548312  0.01255956], Reward=-1.0\n",
            "Step 19: State=[-0.37293004  0.01255308], Reward=-1.0\n",
            "Step 20: State=[-0.36046888  0.01246115], Reward=-1.0\n",
            "Step 21: State=[-0.34818295  0.01228593], Reward=-1.0\n",
            "Step 22: State=[-0.33615275  0.0120302 ], Reward=-1.0\n",
            "Step 23: State=[-0.32445546  0.01169729], Reward=-1.0\n",
            "Step 24: State=[-0.31316447  0.01129099], Reward=-1.0\n",
            "Step 25: State=[-0.30234897  0.0108155 ], Reward=-1.0\n",
            "Step 26: State=[-0.29207366  0.01027531], Reward=-1.0\n",
            "Step 27: State=[-0.2823985   0.00967516], Reward=-1.0\n",
            "Step 28: State=[-0.27337855  0.00901994], Reward=-1.0\n",
            "Step 29: State=[-0.26506391  0.00831464], Reward=-1.0\n",
            "Step 30: State=[-0.25749964  0.00756427], Reward=-1.0\n",
            "Step 31: State=[-0.25072579  0.00677385], Reward=-1.0\n",
            "Step 32: State=[-0.24477745  0.00594834], Reward=-1.0\n",
            "Step 33: State=[-0.23968481  0.00509264], Reward=-1.0\n",
            "Step 34: State=[-0.23547324  0.00421157], Reward=-1.0\n",
            "Step 35: State=[-0.23216339  0.00330985], Reward=-1.0\n",
            "Step 36: State=[-0.22977129  0.0023921 ], Reward=-1.0\n",
            "Step 37: State=[-0.2283084   0.00146289], Reward=-1.0\n",
            "Step 38: State=[-0.22778167  0.00052673], Reward=-1.0\n",
            "Step 39: State=[-0.22819361 -0.00041194], Reward=-1.0\n",
            "Step 40: State=[-0.22954225 -0.00134865], Reward=-1.0\n",
            "Step 41: State=[-0.2318212  -0.00227894], Reward=-1.0\n",
            "Step 42: State=[-0.23501954 -0.00319834], Reward=-1.0\n",
            "Step 43: State=[-0.23912181 -0.00410227], Reward=-1.0\n",
            "Step 44: State=[-0.24410793 -0.00498612], Reward=-1.0\n",
            "Step 45: State=[-0.24995311 -0.00584518], Reward=-1.0\n",
            "Step 46: State=[-0.25662775 -0.00667464], Reward=-1.0\n",
            "Step 47: State=[-0.26409737 -0.00746962], Reward=-1.0\n",
            "Step 48: State=[-0.27232252 -0.00822516], Reward=-1.0\n",
            "Step 49: State=[-0.28125877 -0.00893625], Reward=-1.0\n",
            "Step 50: State=[-0.29085663 -0.00959786], Reward=-1.0\n",
            "Step 51: State=[-0.30106164 -0.01020501], Reward=-1.0\n",
            "Step 52: State=[-0.31181444 -0.01075279], Reward=-1.0\n",
            "Step 53: State=[-0.32305088 -0.01123645], Reward=-1.0\n",
            "Step 54: State=[-0.33470232 -0.01165144], Reward=-1.0\n",
            "Step 55: State=[-0.34669587 -0.01199355], Reward=-1.0\n",
            "Step 56: State=[-0.35895478 -0.01225891], Reward=-1.0\n",
            "Step 57: State=[-0.37139892 -0.01244414], Reward=-1.0\n",
            "Step 58: State=[-0.3839453  -0.01254638], Reward=-1.0\n",
            "Step 59: State=[-0.39650871 -0.01256341], Reward=-1.0\n",
            "Step 60: State=[-0.40900237 -0.01249366], Reward=-1.0\n",
            "Step 61: State=[-0.42133867 -0.0123363 ], Reward=-1.0\n",
            "Step 62: State=[-0.43342995 -0.01209128], Reward=-1.0\n",
            "Step 63: State=[-0.44518928 -0.01175933], Reward=-1.0\n",
            "Step 64: State=[-0.45653127 -0.01134199], Reward=-1.0\n",
            "Step 65: State=[-0.46737289 -0.01084161], Reward=-1.0\n",
            "Step 66: State=[-0.47763419 -0.01026131], Reward=-1.0\n",
            "Step 67: State=[-0.48723914 -0.00960495], Reward=-1.0\n",
            "Step 68: State=[-0.49611625 -0.00887711], Reward=-1.0\n",
            "Step 69: State=[-0.50419925 -0.00808299], Reward=-1.0\n",
            "Step 70: State=[-0.51142765 -0.00722841], Reward=-1.0\n",
            "Step 71: State=[-0.51774733 -0.00631967], Reward=-1.0\n",
            "Step 72: State=[-0.52311088 -0.00536355], Reward=-1.0\n",
            "Step 73: State=[-0.52747809 -0.00436721], Reward=-1.0\n",
            "Step 74: State=[-0.53081621 -0.00333812], Reward=-1.0\n",
            "Step 75: State=[-0.53310021 -0.00228399], Reward=-1.0\n",
            "Step 76: State=[-0.53431295 -0.00121274], Reward=-1.0\n",
            "Step 77: State=[-5.34445348e-01 -1.32399559e-04], Reward=-1.0\n",
            "Step 78: State=[-0.53349641  0.00094894], Reward=-1.0\n",
            "Step 79: State=[-0.53147326  0.00202316], Reward=-1.0\n",
            "Step 80: State=[-0.52839105  0.00308221], Reward=-1.0\n",
            "Step 81: State=[-0.5242729   0.00411815], Reward=-1.0\n",
            "Step 82: State=[-0.51914969  0.00512321], Reward=-1.0\n",
            "Step 83: State=[-0.51305985  0.00608984], Reward=-1.0\n",
            "Step 84: State=[-0.50604904  0.00701081], Reward=-1.0\n",
            "Step 85: State=[-0.49816979  0.00787925], Reward=-1.0\n",
            "Step 86: State=[-0.48948107  0.00868872], Reward=-1.0\n",
            "Step 87: State=[-0.4800478   0.00943328], Reward=-1.0\n",
            "Step 88: State=[-0.46994022  0.01010758], Reward=-1.0\n",
            "Step 89: State=[-0.45923335  0.01070687], Reward=-1.0\n",
            "Step 90: State=[-0.44800622  0.01122713], Reward=-1.0\n",
            "Step 91: State=[-0.43634119  0.01166503], Reward=-1.0\n",
            "Step 92: State=[-0.42432315  0.01201805], Reward=-1.0\n",
            "Step 93: State=[-0.41203871  0.01228444], Reward=-1.0\n",
            "Step 94: State=[-0.39957544  0.01246327], Reward=-1.0\n",
            "Step 95: State=[-0.38702103  0.01255441], Reward=-1.0\n",
            "Step 96: State=[-0.37446254  0.0125585 ], Reward=-1.0\n",
            "Step 97: State=[-0.36198562  0.01247692], Reward=-1.0\n",
            "Step 98: State=[-0.34967386  0.01231175], Reward=-1.0\n",
            "Step 99: State=[-0.33760816  0.0120657 ], Reward=-1.0\n",
            "Step 100: State=[-0.32586612  0.01174204], Reward=-1.0\n",
            "Step 101: State=[-0.31452162  0.0113445 ], Reward=-1.0\n",
            "Step 102: State=[-0.30364439  0.01087724], Reward=-1.0\n",
            "Step 103: State=[-0.29329967  0.01034471], Reward=-1.0\n",
            "Step 104: State=[-0.28354803  0.00975164], Reward=-1.0\n",
            "Step 105: State=[-0.27444514  0.00910289], Reward=-1.0\n",
            "Step 106: State=[-0.26604169  0.00840345], Reward=-1.0\n",
            "Step 107: State=[-0.25838337  0.00765832], Reward=-1.0\n",
            "Step 108: State=[-0.25151084  0.00687253], Reward=-1.0\n",
            "Step 109: State=[-0.24545979  0.00605105], Reward=-1.0\n",
            "Step 110: State=[-0.240261    0.00519879], Reward=-1.0\n",
            "Step 111: State=[-0.23594044  0.00432057], Reward=-1.0\n",
            "Step 112: State=[-0.23251932  0.00342111], Reward=-1.0\n",
            "Step 113: State=[-0.23001424  0.00250508], Reward=-1.0\n",
            "Step 114: State=[-0.22843721  0.00157703], Reward=-1.0\n",
            "Step 115: State=[-0.22779573  0.00064148], Reward=-1.0\n",
            "Step 116: State=[-0.22809284 -0.00029712], Reward=-1.0\n",
            "Step 117: State=[-0.22932715 -0.0012343 ], Reward=-1.0\n",
            "Step 118: State=[-0.23149277 -0.00216563], Reward=-1.0\n",
            "Step 119: State=[-0.23457937 -0.0030866 ], Reward=-1.0\n",
            "Step 120: State=[-0.23857204 -0.00399267], Reward=-1.0\n",
            "Step 121: State=[-0.24345127 -0.00487923], Reward=-1.0\n",
            "Step 122: State=[-0.24919284 -0.00574157], Reward=-1.0\n",
            "Step 123: State=[-0.25576776 -0.00657492], Reward=-1.0\n",
            "Step 124: State=[-0.26314214 -0.00737438], Reward=-1.0\n",
            "Step 125: State=[-0.27127715 -0.00813501], Reward=-1.0\n",
            "Step 126: State=[-0.28012896 -0.00885181], Reward=-1.0\n",
            "Step 127: State=[-0.2896487  -0.00951974], Reward=-1.0\n",
            "Step 128: State=[-0.29978252 -0.01013382], Reward=-1.0\n",
            "Step 129: State=[-0.31047165 -0.01068913], Reward=-1.0\n",
            "Step 130: State=[-0.32165252 -0.01118087], Reward=-1.0\n",
            "Step 131: State=[-0.33325703 -0.0116045 ], Reward=-1.0\n",
            "Step 132: State=[-0.34521277 -0.01195574], Reward=-1.0\n",
            "Step 133: State=[-0.35744345 -0.01223068], Reward=-1.0\n",
            "Step 134: State=[-0.36986933 -0.01242588], Reward=-1.0\n",
            "Step 135: State=[-0.38240774 -0.01253841], Reward=-1.0\n",
            "Step 136: State=[-0.3949737  -0.01256596], Reward=-1.0\n",
            "Step 137: State=[-0.40748059 -0.01250689], Reward=-1.0\n",
            "Step 138: State=[-0.41984085 -0.01236027], Reward=-1.0\n",
            "Step 139: State=[-0.4319668  -0.01212595], Reward=-1.0\n",
            "Step 140: State=[-0.44377136 -0.01180456], Reward=-1.0\n",
            "Step 141: State=[-0.45516892 -0.01139756], Reward=-1.0\n",
            "Step 142: State=[-0.46607611 -0.01090719], Reward=-1.0\n",
            "Step 143: State=[-0.47641258 -0.01033647], Reward=-1.0\n",
            "Step 144: State=[-0.48610177 -0.00968919], Reward=-1.0\n",
            "Step 145: State=[-0.49507159 -0.00896982], Reward=-1.0\n",
            "Step 146: State=[-0.5032551  -0.00818351], Reward=-1.0\n",
            "Step 147: State=[-0.5105911 -0.007336 ], Reward=-1.0\n",
            "Step 148: State=[-0.51702463 -0.00643353], Reward=-1.0\n",
            "Step 149: State=[-0.52250746 -0.00548283], Reward=-1.0\n",
            "Step 150: State=[-0.52699847 -0.00449102], Reward=-1.0\n",
            "Step 151: State=[-0.53046399 -0.00346552], Reward=-1.0\n",
            "Step 152: State=[-0.53287803 -0.00241403], Reward=-1.0\n",
            "Step 153: State=[-0.53422248 -0.00134445], Reward=-1.0\n",
            "Step 154: State=[-5.34487260e-01 -2.64784255e-04], Reward=-1.0\n",
            "Step 155: State=[-0.5336704   0.00081686], Reward=-1.0\n",
            "Step 156: State=[-0.531778    0.00189239], Reward=-1.0\n",
            "Step 157: State=[-0.52882428  0.00295373], Reward=-1.0\n",
            "Step 158: State=[-0.52483136  0.00399292], Reward=-1.0\n",
            "Step 159: State=[-0.5198292   0.00500216], Reward=-1.0\n",
            "Step 160: State=[-0.5138553   0.00597389], Reward=-1.0\n",
            "Step 161: State=[-0.50695448  0.00690083], Reward=-1.0\n",
            "Step 162: State=[-0.49917843  0.00777605], Reward=-1.0\n",
            "Step 163: State=[-0.49058538  0.00859306], Reward=-1.0\n",
            "Step 164: State=[-0.48123952  0.00934586], Reward=-1.0\n",
            "Step 165: State=[-0.4712105   0.01002902], Reward=-1.0\n",
            "Step 166: State=[-0.46057277  0.01063772], Reward=-1.0\n",
            "Step 167: State=[-0.44940493  0.01116784], Reward=-1.0\n",
            "Step 168: State=[-0.43778896  0.01161597], Reward=-1.0\n",
            "Step 169: State=[-0.42580948  0.01197948], Reward=-1.0\n",
            "Step 170: State=[-0.41355294  0.01225654], Reward=-1.0\n",
            "Step 171: State=[-0.40110684  0.0124461 ], Reward=-1.0\n",
            "Step 172: State=[-0.38855889  0.01254795], Reward=-1.0\n",
            "Step 173: State=[-0.37599626  0.01256263], Reward=-1.0\n",
            "Step 174: State=[-0.36350482  0.01249143], Reward=-1.0\n",
            "Step 175: State=[-0.35116846  0.01233636], Reward=-1.0\n",
            "Step 176: State=[-0.33906842  0.01210004], Reward=-1.0\n",
            "Step 177: State=[-0.32728274  0.01178568], Reward=-1.0\n",
            "Step 178: State=[-0.31588577  0.01139696], Reward=-1.0\n",
            "Step 179: State=[-0.30494778  0.010938  ], Reward=-1.0\n",
            "Step 180: State=[-0.29453457  0.01041321], Reward=-1.0\n",
            "Step 181: State=[-0.28470728  0.00982729], Reward=-1.0\n",
            "Step 182: State=[-0.2755222   0.00918508], Reward=-1.0\n",
            "Step 183: State=[-0.26703063  0.00849157], Reward=-1.0\n",
            "Step 184: State=[-0.25927887  0.00775176], Reward=-1.0\n",
            "Step 185: State=[-0.25230819  0.00697068], Reward=-1.0\n",
            "Step 186: State=[-0.24615489  0.0061533 ], Reward=-1.0\n",
            "Step 187: State=[-0.24085035  0.00530454], Reward=-1.0\n",
            "Step 188: State=[-0.23642111  0.00442924], Reward=-1.0\n",
            "Step 189: State=[-0.23288897  0.00353214], Reward=-1.0\n",
            "Step 190: State=[-0.23027109  0.00261788], Reward=-1.0\n",
            "Step 191: State=[-0.22858002  0.00169106], Reward=-1.0\n",
            "Step 192: State=[-0.22782383  0.00075619], Reward=-1.0\n",
            "Step 193: State=[-2.28006109e-01 -1.82274916e-04], Reward=-1.0\n",
            "Step 194: State=[-0.22912598 -0.00111987], Reward=-1.0\n",
            "Step 195: State=[-0.23117814 -0.00205216], Reward=-1.0\n",
            "Step 196: State=[-0.23415277 -0.00297463], Reward=-1.0\n",
            "Step 197: State=[-0.23803555 -0.00388277], Reward=-1.0\n",
            "Step 198: State=[-0.24280752 -0.00477197], Reward=-1.0\n",
            "Step 199: State=[-0.24844505 -0.00563753], Reward=-1.0\n",
            "Step 200: State=[-0.25491974 -0.00647469], Reward=-1.0\n"
          ],
          "name": "stdout"
        }
      ]
    },
    {
      "cell_type": "code",
      "metadata": {
        "colab": {
          "base_uri": "https://localhost:8080/",
          "height": 421
        },
        "id": "lrJxIxzpdI_s",
        "outputId": "c955a7c9-3c2f-405b-803d-c95dc8d57e04"
      },
      "source": [
        "show_video()"
      ],
      "execution_count": 5,
      "outputs": [
        {
          "output_type": "display_data",
          "data": {
            "text/html": [
              "<video alt=\"test\" autoplay \n",
              "                loop controls style=\"height: 400px;\">\n",
              "                <source src=\"data:video/mp4;base64,AAAAIGZ0eXBpc29tAAACAGlzb21pc28yYXZjMW1wNDEAAAAIZnJlZQAAoMNtZGF0AAACrgYF//+q3EXpvebZSLeWLNgg2SPu73gyNjQgLSBjb3JlIDE1MiByMjg1NCBlOWE1OTAzIC0gSC4yNjQvTVBFRy00IEFWQyBjb2RlYyAtIENvcHlsZWZ0IDIwMDMtMjAxNyAtIGh0dHA6Ly93d3cudmlkZW9sYW4ub3JnL3gyNjQuaHRtbCAtIG9wdGlvbnM6IGNhYmFjPTEgcmVmPTMgZGVibG9jaz0xOjA6MCBhbmFseXNlPTB4MzoweDExMyBtZT1oZXggc3VibWU9NyBwc3k9MSBwc3lfcmQ9MS4wMDowLjAwIG1peGVkX3JlZj0xIG1lX3JhbmdlPTE2IGNocm9tYV9tZT0xIHRyZWxsaXM9MSA4eDhkY3Q9MSBjcW09MCBkZWFkem9uZT0yMSwxMSBmYXN0X3Bza2lwPTEgY2hyb21hX3FwX29mZnNldD0tMiB0aHJlYWRzPTMgbG9va2FoZWFkX3RocmVhZHM9MSBzbGljZWRfdGhyZWFkcz0wIG5yPTAgZGVjaW1hdGU9MSBpbnRlcmxhY2VkPTAgYmx1cmF5X2NvbXBhdD0wIGNvbnN0cmFpbmVkX2ludHJhPTAgYmZyYW1lcz0zIGJfcHlyYW1pZD0yIGJfYWRhcHQ9MSBiX2JpYXM9MCBkaXJlY3Q9MSB3ZWlnaHRiPTEgb3Blbl9nb3A9MCB3ZWlnaHRwPTIga2V5aW50PTI1MCBrZXlpbnRfbWluPTI1IHNjZW5lY3V0PTQwIGludHJhX3JlZnJlc2g9MCByY19sb29rYWhlYWQ9NDAgcmM9Y3JmIG1idHJlZT0xIGNyZj0yMy4wIHFjb21wPTAuNjAgcXBtaW49MCBxcG1heD02OSBxcHN0ZXA9NCBpcF9yYXRpbz0xLjQwIGFxPTE6MS4wMACAAAAQgGWIhAA3//728P4FNjuY0JcRzeidMx+/Fbi6NDe9zgAAAwAAAwAACNCLwW1jsC2M+AAAJZAt9C+gGAAN3dq5XHPUJqMQ9STIE4h5i1p0ovAz2D6+0y6GAp6iGk03o7xeeJnNFlP7pyt72mmO8alQPFkcQS/hupH7h4mJTeRhtQk621kLNt8RFPKKRW6wQBeqa/bIUz2QUD/5/AKR9JghRtwUcbJYDG+GJMPfc0Z9+Ky2ZULlDK+ObhIm0waUlSDFaiGatI7Cv9YYX3GwANdOvfJULx5gqPt4GHqavREAVJQU2iOKP5G+WttIUpCgmsc99A8Dcsc4NyqwXB/Wn1HghqJQQTXBhrqdl+eCJeXRZ8bhBdBnr0sWP5YVPan+zifC1CRYcA7fnq256iVjYkyvp6grqbaJSiuDI5DbujXnFly7nle/W7NR/1S2Vof4k+CO61XnSIdtvxgWBwUWA46h0k1oBtMIQvNUXU33AM8G80Ey7IIx18o8b2mKF3zbUTMnFoBoXl6eDPvaN5fHuWZowtenf+WYDl1jSre9SqRT06h/6ZRDv7xTAHJNq6qxYSI0NftlMttSAzKr+nSofw/95u7GewZDF0yP7yLs82zMDY+0kJ1m7wus3HJL/RKeMZXAAAADABOd+97ZsfU/AetTFlL3eGUPI3gGHjOnAH31e4cNjmvsmesMTTM4eiERjIRWvHAU2TClT9QN4TxKLEodabOQADnwf0FnYOL2zQOiHdi3H/i0RT8Z6Q0OufexkjrfnBX8Ml+QdWQhPTOOVmynP2U537Z3NDuWSSw0CZz/THyMceaGg9XQ76ezrOt+G1EjwsVV9mb+q47cAwK/MLgHGq7Gck3N7ogAwAQ5YaQCO+lmuiUbPjz/Yd02QKOIDdL3mSY6VuxGFsKBYO8f0SRO+qjpT+Cm0RfoXnFLlFhjelV7VI7Aj+kvvWhqqdvsZh0oAjDuA/KteGfgQh2a4TwEB+IGv2Gkdqv3xJ9lIxX/3yowxySFuZ0+f1VUxedtXp5HyDwABORx1ZrGd+OIhIS8oWUL2EdmLP7P8IXICbCYmyEDV1ApwDnEiEFKoBVI7Zjll3KcVGMmcEDgBRlXZlJsPyA8JyP6fGtElmhHQ+E10HJ7Thld6rVLs/sbMDcspT4yhVk5V/cdobTn/kQ4ShBbsn1mFiUmUBjTYEwVOB8nRWYZ+fZRorSg+VbVzJwEziuojDaBme+4BQmK6S3hmx04jcjPXejw839OdX/0emPwxp6BBehtubLMbrrq+Kem0x/eRuI7IEeO9nvalmIHwarzjaNA80eco7v8zrqhCDQXtvbIBJZdISniHDToD9Vp42mUm6kHhfrXqeY8e5YvE+3q1aw1I3K58e2Q79VN900UgWF18QdfpQIPLBATdwg9uAABXVn0g9eAwYBDKBh09jReeRz/kgP9MBDPYe8dOVtgfULjZd9klC4VecBUoXp/+/Nxr25nUt3LNWyjZXfLHXhCqmA9rATdu88/aPY7n4+AGAT+ND337i/gEtQ4dRrGlDk61v16gcPogjUgVwKx1S3Zx+KKpV7WAYRfFTmnMBoGh+/rqA36lUBu8wIXFD8KGhlAtdrRoTlTqwsVDMspO1rMsY16Mzy9vKOik5cvigHNWkJYSI2kzf5xeYjU4G1qNAAAKeEh0P7f6H0DmPODvHjYSys6p7vhKP5r9wdkl+uV3Z6xqWa6/n2i3CaCbnaxxBF7rWQRZG7cyiWHlKfnkVk/FPmeB5yz60PqeexBVHUedbqSlUIFFn46vItwWNB5mdT+0Hk5XiCR5N6YJ60eWMgNuZunq3KmlwOgSF9IZFvTE5YmP/E+DqWFW25g+H8JrIC+4qVZU8h8qoFOEntb8Gan5nCwzXh2Cf1XJXipmQgC9UwMeE6iorSLm3mlsdcv1bA+L1Gxc51Egh7PKoDfoCfAMSh51NH/4r+nsBfaKnmjiSoxlIz6n6NnLJ6GZdgledksv2OEQ99NWzpFDN5fzOMEOoKSkP8iP1XiTAEosYw6eQtMq51ui6y+V8oEUBVHNLLXqOHl1oi/oYektmOyxg1Hd5eBPwgMQPWCYVYBQ2me0z2N0q1CmVfXrRQVszshaKzTxwLV0jPYm1Zlc8FsKyCo3pWKDEzPfx1B2sPBA4PZOmgMkq9HGsKIc5Sh8FXCUq8Iyh7v8ectcPz1hINsCBKl8QDSpbpcn5tIQBudtD7yaSsVO8xw5o3W2w8pAMcq/1an/tPs7NuJBW4O7gS7Ell7CnYIIZ9MO0OP1chcSVMbY/7+wVQ3c1Ph0CS5DvhM9iEbuhggBGVX1/BkWed0g1XrynA1m7mAWqZ34Clk+OlFhF4Xr5DM+q+Df2FUpysy1PHwPWh3Bd7Cki3d/K+SIDBJFHYxHM1tdUQ9P8ACdSHBQ42cYV6Ner4oK0o+2bcghkAIyh3zSC/X7GbWlLV95QLuvuZBxFSdTaYvSj0r2uByPQjOIrZHfhskOhfTZLNV5v/I+31vwyL4YwQr4BKE9JWHmxPEU2NFd2AQJNUpReb92cAt6hVXu12udLBXx+UfDnO6NARPTnYfwOZogS2uprKQGAqrqBMz0s6xAOG63e21z3p5AVddb+mqmUmelJz7GrVSz4MX+3DAav+U4IzJ/vfFD4V8bMz2iSD9RfPh2hBJaEn2DVku7rloC52Bf6czw4OegTryGK6hHumSJSD0VEmRRDqwj1W2uEYxgZ5nWiiZAnV/dNw4FBpjDYnGf0eoeCdV8Pf3H62OcAeLd75SYQFu1GDX+cMtaUuLwZMDCOr27Rb95Ax14Ok4yS9rVDbjdn+xXIL3aPCmFwpGiWj9X0IAjxkwPU5Q3DpSKwtnn1hpQAHb7VRd6vLWiquGKNsKhnYAmqdfD848xffseLvyWSPeoFhgZJm7pWnP7RsnlEVszor19i4JaG8SpB6oHAma2sZ+5mZ3BentE3Y5BFC/70Fg4nzcSfH+WEgaTz5RnCIwdZS7qXK484xv2U1QNyiL4lRE8MTm9Z9f+DsLRbSH44Xu7NU7itPXcZR73YXvsqQ/M7WMRp21Afj81jrXodsb9Q04y5Z8/rfzIxuP2ir8htD4I3KKxhmLWsfJjcNtd2OAF+Zu0Xk5asplaF0bDEq1Cl4fZFiqHaNzYqF9z81GWGdijm3fz3qPOQB5NMyT+R2ZsL1jGzD7mbzD3bLkTwoyXEZ8V1q+bZIn7RKYn1tvfVleNiAljTjLegyZQFap55cGC4xC0w3QTTn5yjqNeypmTUB0Nz9/bvk0H1fAwGyw1TC06BFNQedySTkKA+xEaB1s+OtPf8vNkXpX5Fjuhbil/Chk3aYjNnXkLbBhkP9lap4E+ihO27dcATbxoYiZBkNewn7RMoyWyUZnA8NGvJK1xqqCzC46d/zvFAVORiJ3h7T6vpgcDN3ReYHcNm4Rs7EJoFd+h+KYOvM6/67X1RthlbF56AJvIQ+MajL/GbaV3P6jGocoZNP/yk29MXcOXyHSixHZN7O+LQEGV3nun7YTf/97b/vo1VOAa4IsQ0lk5KlWt5o/dSGxhBOYEiIUYvxJ12GcFcx/paQ7paP87MjAZap+P+83+Q4VS3eNSfqbgdpP6K4E/0bqQdF5dJR7BaB6+Cfl/pHAAGnvC5dxSwZQ/USFks/Jy58WdOUDvVew2S7RaYhka0f75w83bkOjcm39m1XJQs3Lwnvyl4LvXNLo3SQqH+kv90wBF82nuYhuT/OHnWDEiTJdr9jPW5EXSuCbhiYI/7ArKem3YqEtcoepyX38xzCcOeWw/b21FwV4w3AglAXiU/HHy3XP8Q30ulmp/dZdr17Sj7Uo5H6AniyLVct9H/FefJjOO9Q7V4rRBuqJhnYYka0DT/128VnaPLbpAyM7UmoBjeWJOV1FC7fnAAEUC8ebGlie2A8ttljQRa9853NtBJo8TzOAGccfryT/RCX+KuNLf1VnJWN/yLjBCBSQqE0y0evfvtRXDUgcSFd0Z1L4atfYXv8p9KnMn8kac0oCRnc5ELxb5fJ8Gc/BLRpnngei+27SViuoO18rmoZfZ5iBqDb5wjfRoEmsHJq9l0M3sknD+wGgoh9Pxwlfn7XlVLp06U1Ov4sN6XwdVlBAx5lEncPMU7+3yyp8e+2w3swMNS/Ht9iQDafRMhcMS3TpXHEq+u6LWPgQQsJ+tKKveh0nE1VAane0pwAAAwDJcOncLZ5JDBOkDSCNoI+BgW2ZvWZni9sOftxm6tQCMFNBOj4JA9tfzIlbtsOk/ElvUSOU+5NmzB1nc+lKOjVhZVJSOUrJN7WZ8wckc1PJWAbjnuonaTtW1DCmGpAWuRljD6TP8B8Nl+LhAvyty3kUZ3g7Q2BAO5Hg0xPHV9jOGREr++P0gh45qZdQ8MP0C8vZsd7xKhpdV+4h9fql7kxKz1IIg8xKLlzPcW9C+Y3oXcMEgjwgmItXTvGChZhS+vEWHUWLE30dvbRTWk93drBS2x6IV/RSuypTSVrY9daQAIjWZ3Ol/Vt2iMXflFeiWVpHk2KdTDBQ1KBAYNXpJZu/QIFU58O1DcjYbHtV7qH+PG1j3J5LPUM8h9tleLDvaTCEJMZkRAvLWKVp/pgTIaKlXNvlJIVHKI31i9HlD/zC89LzZX2xoiuvJ8SL/Ym2sKRxR5AJZMz6wbLke5Mcyyspz1VWFkCoDw6dD8rd0us62638QhO+uZTpf/6VS+VxtAIjLZRi6aEeDtF6oHJt603JMu1ZvLROY9b1jo3ZOw40WgQ7WE9ZedcQXdNLW21ZlhRmz2WmcLICfJ8x9Vd48RktefgIM2y3y9L4HaxlqTVcX6lzmHWDy1bD+e/w7gRiBq4lx9TvBstaZKMRUtjvfF9cyQ9hg1y4zOq8vTuGpv5Na5kqg4UaI3h5ejZg14gIH8MD7LKFiBtPMJt6ef9Esiq8fcDr+GcCEnv8lY4eNGeSRyxCNrZjVupkJ7zXsu+XColDupLf2EK4P4hKkivTVdBl4+JyP50ebepAMV+CujPQWLUAAAeF6cVr71Gs/BrlIjgkEt8uK0WsEs+WRb/UElSE985CBdL37IMwDSnVqunGER0qI9XYdEP7sunwnssbjnGAku7e53udVugvexCPPQ2uR1TIX6BG1kYIdwtelKc15RHlfMu8/c9+i/MfFxyafpG3v+v7ws1LKYSA0Ffo3RCHQl9AfOzM24s0Ddxv2WCcDUz1cr4ybeossciBMTdSeObIsDlkmaTN43o9skfbfsBpNgsemx0d/+nw4G87G//1j2pfTw4iNM5B7ucvJmHrIg4yJzI16C5viCdMFbCDZpUORCVoC0sGRtxqj3VTCTGrM+pHokMH7muuJuaI6aL5YabVGMw8rzltOuSAEDtDDdYTrinjtbuDb5r62VbFfPGpqZtUaWI/wIYrMH5TcMiwO2GAGLtQ31Pt966NFk0pOgYNZbxLGeWyRGx92qzUKKj4W00kYDHJW2Wo0weoq9Do0aVmlStxTjxWekpX6ghrE6Iy91KZZsxyGA8MfDnVX1r+zsrnMhchEstlOgI+TAmca5+u1zNI7nr6UMTFUZRK+XeSDNWqxWfMWNqxS0LBlujgNLmqF+EzlwF7lFqG5qfNeNQIKHTbjidqx/SOsP7kUYwA3QDigQAAAjdBmiRsQz/+nhAEVllO55eLoAv8VFxLT8+xkpDi4aiNHlIfPVK3Japmac2r3C5WTlFGvvTxkzoZjyGXK82GbWSZ+7OFLiE1ra6WSlO6U9pNSVsRpXOqq9S4OGgO6vI2Ye7bJdJRAiPGXeYuv2PoFzpyfU0Y1gCvspy68sTeBA5+JDtkJ7/TuW39wW2pnoF3WOzy7HvtbrXh4wmQzOAvgU8DmiC8bhDiPU0WAqgEsvWVc//fKMUB3VfkSKMz51TqRASQ3XIvYDHvRUwCZGPvTrY/UahTYaMxGDLPzX+G7p7k/XfmbKDrXyuCf8nDS6ktRq6jmn8KYFmeFbILoaxre6oteY5mUxDITQrwcdekf9T+TM569a05LfvYicJxGQCcIK+yAe8Yq7s2RG/ZSkvOcBS1QII/tVnnlW035PmAaNTaJin6pldss1qKsW1tKXF25i6cBBq4Yls335qK/MDVB+IfgMuuAzy9/luNKBQd19GapeZi5XZm2MxcvITwTi4BXyQpBY51XnluBZEuBHmjkG7qT8klHTs8NY/P6baLPuj1vCr1MxnRKjqhY4S8+UvWjW0ls915sPgWJeyqlKs1Eeyd//wVX/K5qFQQUWDb56XTBJcrzBvLMVRHP9xVQ9opra/yTGZrB2fJfdrNh+dtKBHTREudezZDMQr1crstAZ0Als+Mdye2K36iquYmsQe68Zdlrk2b9TgygpWNDxtm1Rb77DQltWJCJQ2q7WNNzfztZiRdmU3Uq4AAAACiQZ5CeIV/AB/IPj0V5EDP2pGqRJ52l6O/F847lxs5mGptrI73k5mA6/VBwuQ1w6+Cn+ugytRB2O5gOYkqtast5V5zh8rN7JFU1gBO3mLOJpH/ixzh9AwSTbK19mmySI6HWH8PGwTDKSHjh7VB1wPgpL98rTTHh7pitDM16gJXoHGey+9Gzu/b4gjU0upleM7NNrHNGs0yZI46nL97Dp0xFlUJAAAAcwGeYXRCfwARVpPb5L7C3cL2MYMGRl4MOg+dtbxny5z1C4iQ+I9V0CfJ7hqjv3HKX1uwEzpMu50ewrYdMmxwi2F9lMABzjvcdJM+RwKYfnkxy+X/shUATwd9PvE9AklIJZSWCScRuGttzE+cG/qOVbhbwfgAAABPAZ5jakJ/AAZx4CZ3nRrvA+NiAd7ZqOJ+tL+X2h16HedxrUiI+sAIEINOT51222Fv8YTebVwhjbSzJNK5Os1wZZJ8nMa5SaQXWQujz/ZRuQAAAKhBmmVJqEFomUwIb//+p4QAK17wn+O1BfBpvwoACDZP05X0tnlvMyAFvFIYWDxoAtt11dBnSFMTP6F/Z5upy1yX88eO3eJBGkHIw8J4cW5lERfDhT5STXwnD2Bs7fRqruZhI1Q79+oNoO/MIPOcyRyRzIbzKG064zVoDtAKVaYUi2WOhMKNKz9pv2zm1F0YuBmaLUb7eDouGwnaLifBbq/Glx2iy7FK+yEAAADsQZqJSeEKUmUwIb/+p4QAAAMAAEtq6mQB8HYT2uqiQzbXMu6aS8x+528rSVeRi4oaMdyHmBbElvdz+3rJ8zeBCdPJaM/nYz/4mKKme7c9EwGYBUrGRg1LN7ntIF2EICuMWPCePCq2VpnxRIl9V58R62Rbek7wiPU51ObfpiDuBYYpw8jgHNvvOP+YOqWYd2ldWBDkpceybB+g+F5PRI/iojNTq9uaAbwmJLh2kJVV62xHoPbk4CVWuDBHei0Uuxt5+B/6zoUMUHhtnn8xg2F26aSDxW93DKwkIKkKRYVGJRHDQw/RI60tR2fXadMAAAC4QZ6nRTRMK/8AAfGN2A16wyBlpTa7GwSgA4s6vqzI2ZTFpJFf2uYEY4RTYkF+jQJv0xhaWQZZ+0nkZu4vigUhUXzLi8fOdkGctnDGvQncQVEpYYVXDDfOafi1ajOvzjX3sT8j/OWqGB+vP8uekFPvH3cs3nP8U8z+9fY0zpsr0aJaaP3X2xWlEVH1PgIXRGa8RxkgqNB4+qSXgltpy7madE8Uyl6j3E/Ub+9CyzIrvhchQTcJqILTqwAAAHIBnsZ0Qn8AAo6MavuxtghwGyBSM01qrixCAB+zbdqmrJKvzi99nxVmw4CMuypcty/TMCwkhp8IsC05IydKGSfFnqB6cZ5NiVA2q39qkYgEIFpZG/ioeWO3p3eaBp+PWY9XwZFDUr8afHCiTY+NI+iYNKgAAACTAZ7IakJ/AAKPb+BrpiuE1VTDgPkgnJYdfZ2D+kTZNErjAA6dXSLHo+KzK8lJVFBUEI8aQfCEcVnraUbDenfW+jGUiP2jYNCIPBRmpmncFxURJ06FoK0u1G8ek8ZUw1EAIRurtsSw8lgrjRPRBNAaQaCGAmsBv/zdbzF+oOjwVZAzOk8fBPHyE+k4mM7Ym/1qyPHgAAAA/UGazUmoQWiZTAhn//6eEAAAAwABJaJPNouHdcUwFEuoDu+MaoAF11wtHHT4UspL703Ud1Dj426/bFUt2FVw4c+l2GECRdfyE5uHSNHHl73/H4paP+E3yJl31dQm9mtjxyqUAA+BH+a0Wk/oRWtdow6PkY0VidiHxhcjoE/hKjy1b4Jr0WFj7UWUaoRdgsYQdIU01A62kFriXDmvC/3pdg3Ob0NucewUwqJodTGUAUBB0naMTPdgdaDNw+lU+mjBhVasy4ufeKW50XPljOhbQtC95wB3QKUsvtqP+mwQhW8f6Xg1uD3H3kEcwJ8Q7FjwZAqDIKwLirvtmSf3fOcAAAC1QZ7rRREsK/8AAfGvRF+ugbCTCs2+ex7aji65+Oty/nOHyOpPAIHoAQnPkqrMBWl3qIsJbSpQnkDUI/9Cqiljd5lH69Ve9tlGZEAVygmkQccPOvMiuV24NSb4kq9BAItdKcVnRUxlgApT17J0FMGgTYB7lbGGoopDuK+9d9jIZ6/FIJhLfaWc8N+ajpz5wnPjLiHWjrQYvDo/yIAJLjoFprzOf/+PenDwRp0pQe+EiXO+BnPUGAAAAKUBnwp0Qn8AAo6MavuxtggpBy8YkuZX9LTt70Gj/YAF1fm13PCNQ2VkjZDCs0XTTp4Rug3lAj9iLFPBTcMHVNImj0eFW3fwhDr0ZaVlaxsOtjOqP45Ckc1LhO9yIi1IyWUwh0k2GmFBN1MZNUsyTjICK1qQEH7F5jCbWBUufBtHR0HgTkUeMMwjfcafZdAQl2YSQ80Vjhmcke9nLgWnjlmBgVecr2AAAACWAZ8MakJ/AAKPb+BrpiuEhpbEinA9KzzmKMAAaiKYfPpn7n7957wzMZuAainswN8a7FSCp3n2FthkFakW/h66lZgN5QeKzxgUN88NCuuyoaqdOI3vhWoVtJ5S81emDB6J8i4Sg1LYsiYXcvIRliBnmE1+GNJKgBgXlDjFP0pauBM2Hf2yPU1syzhEB4GSpf/YBnDxiLkxAAABV0GbEEmoQWyZTAhn//6eEAAAAwABJRSVLRz1gCy1ZAANqAffTAMuA/2Xt9HoFq+J97dKcW4KUtOMCsxMkiWmNr3IhR+TQX7LrgqamCd5PXApJYsUWCyaq0pNE5eKxpLN8nZIL4TafuD8VurxECaa4ETrm5Avz+ec/Y7R3KnS+N8bW6XRDjEoql1ilrMpejAt2jv7xgU0YK4Od5NgqIo9xExsmkSOr0cJAwBmRrTDV/QciQ1CS4uqSMhJneByMJdClQKGb0Crx2xMiIiy2uj542Oq2EKvSWeo2Ne0Nx8z9VgpwML5GVa0+Ei0YwbA71s6SgLSSnYRy64pB+fVLxGnwdDlmBeYNpFWVhU++kqhksej4rzrqZgiMN11ZsDmvf6vl7hHHd7c8Gfr12RcYt02dUmFt/tN/y0BLoKsO86PuOjT/H7ZLOoAWmawF2PdEnXxobONeeTHyN8AAADDQZ8uRRUsK/8AAfGvRF+ugbCoSvzJR3jD4BUld97wTvSSk7aBAA6/YPivauaI+64Nt0ZS51kle4k6zfKlrUWG6bYxMkg/BvQCcBlOunHVoAuZz+IzMss7ZnhmpwIata9OjGDEA74rMpuNWxbuNTiT8q/EQWhZIEWrj4iNPYboJ++cvR/weSKUq7GOY+gx4tIHfAlPuklnUP+ypq2+2C131UkvNUJ1nxdEODHsPmnxM9a0lXskDeVwRfldYDE0KjzCC7AhAAAAuQGfT2pCfwACj2/ga6Yri/PR8RpIUNnuDSNb8yZQSo0er9QAHW/zEMt//xx+xBirDQfylMSABb51VGx9H6+jnpErQHCvae5YOrKcOT/sTEYtef3dkxVW7UC5hFq0aMvTlONcjvGjV1W6w3dzeXZvEfCK9+2BCGUpP68uFg/H7UglyXCsZRh2ZIuBaQ3VYG9dBD9Lv2dxCaGFkAyxKy2IGCAcvWeOnF9ksPr0EfJseiA1CP3p2sMTSpXQAAABAEGbUUmoQWyZTAhn//6eEAAAAwAC68y6SeUWT7S2yMPM8HA4JmNQARB6Y6mgKct363ZqttQeZCRIjwjyQiIBPgch/ha9kS+07n8RdBVD6e9QnoEcnVffh59sLqxx1ITVgOFIDL6iFrP4pxhujofYkE1qq8KU+WJSMmTphmjl+hb0QsNbRzf4zt3+tXEY/td+h9Ec0INH3yuajRJYiDQXrQXmyYU3LuvxoAiTk3ZZcXMdS17KZ3BiLEBp5GF8Z30rQfgoEYSOqpCzIHanBTEEv+dsN+6dYuMnvujQejYNb+TwDujhpSvOVHWzkCX4RFou/ut31VgPsXYgO9rpSjMNCoAAAAFCQZtzSeEKUmUwUVLDP/6eEAAAAwAC1qNXwloJsfOQAmf51mEAA/aliJIky3njLj55zi1ml517ohnssKr3QHHo1vfpb+sZQsAQMF6914XIESCpeiRpO+z/7b6tkggLJSJN1RFboEQu5GgsHMweRy9B1JaqgRn9yYwCAO2FqJ0AF7aIlBD0mGwAbMaVbJIibt+FOio2AJ98LGUx8xmRtuE8dmlF40Nkz40jpggr/n6IUx9vbdt8UsoirbfpYX9gqG/kiCi+6HE612azj+mDvL4k5zb0vlNGp5c97fwnsV0TW5cBF3rZOEjgdbOrx5XfzCuFefDCtpbxuoGQjhYYZZOCi09p55YraOnfh4rdKuevPGSS3oRO0BHUuk6wPqYoDVUf27mhUBiTpX4gfTfxm564Q/uo4H0TIyLOpM6XnzNjtt1ckwAAAJsBn5JqQn8AAAMAAMP5IMgLoAONk1O7wlJpHd28MD+BRpwUUXFTKxwy6nCwrO/jPtrjw1J5E4jz+6MHKhTD0NfFAuv2sBJ4QFs6TXsZjz26souA6gJ4KjuzlNaFxP+p+hwHly0L+N6NRVakWTODK9ApywSEZXJXkoXuVVJPeQ0aqiK9czqE/27D/JtgtjWzwT3LGmGNtFIGBlZSIAAAAOVBm5RJ4Q6JlMCGf/6eEAAAAwAC68y57ZajHY9KoADsjMdpJSEhxCM4e+0PeEwKZ+t6JQht+oOkb2QCyoh7CxZxgeu2r7HzL+Tl8OgfHerb0lh1FOj39FiX8WkOdBaxpqNjCLsP2uUhDryUCzxDq//jTMBym/ivrFlYLnI46yKWIwOAedDe+1TN70ejs3mPfUL84zXLND3J/8ryjgAyo3NZa4I1QhDo2hlt7MUByfjw0iPaRXuLpm9ACp3f1s0+m9ii7a4PuTn4Bp8J6NaTmr61dav1a2m61nqgibsrkr/5vPQ5V8+/AAAA3kGbtUnhDyZTAhn//p4QAAADAALnWODfdtCVYbM503uABEDkJ3RmL/354wVG8KjWjiLZrdtpMzZ8Cz1EwZenydO5wiWmqGmqTjOdyl6PzDQ7UYL2xLR6fL/JKHlQ9KQh7ZVC3VNM6n0lav4Axqljz5qM+VtZdqB6R7tciV9SbBvweM5edG4MU1RM7cckQA9uYQ+8xl54uPhWJW4CMKZV9LpkiRv1Xm+pDxInjcbzzFnJxmqG3P1GIbJ04AibF7MlVdQSLOZQioI/jN5lzP3/NdycvhPNbO0JCo6bmpvb+QAAANlBm9ZJ4Q8mUwIZ//6eEAAAAwAC6neHJf4DdoAH7rtWYbKxQg53sveI7CvnV2Xs2kg9a9/Poco72OVlyZBqsbIpmlkC/VC7UlFiw+4aKBCfLc76EV7K8eVtURwFYFo6Y6F9NXdMMkUvmFtHm03xkej0DuyquKw549tgbiME0jecb2YkXqohS4hO+CJsR1VcTmNFIdWr0FKEx8mLOnnOnBIBVwS44AKpHeyGQgdxCxzifUsrkR3EhatxvncCNaO9xnOaucJj6J8ISXa+vsKm2+QhsKmVkfNPQlUwAAABKUGb+EnhDyZTBRE8M//+nhAAAAMABzvRimzKHjjGFs6vZLUxcAFuG8FpHPW324EXnaQ1wC8ZzyXUfdylBSFDCVYBKlZYZEtiHDLQZK8iNXYLhIpITR1dZlHJV1Tnz4KF/ZByLArt/+kKga/8lJ8mOYIxPpLkP7Y4Nf7CzTn6R1tYUC0jy7aFQvDog0FpzA+ht9RrObma/NlNMNzDLd+2B4cWvpJcJ0D983zjDdY7nA883dk5rxSKrDk8p5g+sW+rvGu6pVWbn/iRtoT/hADflzGlr4K4LnRtI2fhrEAAADw8S25y8ctEMyNjyJWyhBrwKByaFRWbI1/oWxFenR7XUFljA69jFNExKcSYg/YWz5bt3ZeJBFb10IWtRBfxoh06aoy5LzDEJYIjgQAAAJsBnhdqQn8AAAMAAfG95YIY7FjqtqFLFuADmfgUgL8k++fZXmim0X4B8CqM5GxkumKKVgl+fiZf9dz+QBK1sCsVW+Ot3OQXQSskNzo5SabpEm0YioRtIb+JCFf3GqiMxpAHNECc3EzdgcFlPeIDGgbvbatmvyCWiv7FeY1DxKOx8eQqhru2qcpmW0sSRQ5ZJslXsFWgFm6nH+8pQQAAAQlBmhpJ4Q8mUwU8M//+nhAAAAMAB0C6OKwJLmadAAnWTfc5djS8pvb+Aj7bQgkIVXgm7C4l1vtZrnnr2fw1gFoWezpl3LDMEJRJYZY/NERV2WpKJM34o89tKcWcOiEZMzpbJoccjW8r0yNEHGAeZ5jfqWzcibOsER3LSFt2qdhlKiVQcZ8jyLQpCo8HQ7RzMFSJLYvk/zvtrg8KZ5vnDjVF/WVz3uUMW2owOTLq+b2JDiJy+Szgien+kBANqgCGTb92Tq9lvXz8IMs2LQ5n7iLbjJ7jG3Ov8bo1y9UGd3QR9jhpdQEVbrsHbVYyYvQ49kmJEVtkfTN05PgJE2U3m/3fb3Fmv87+TXxQAAAAoQGeOWpCfwAAAwAB/LyBk87x6RHIAIfnTxHeBc7N3h3Hw/Kug+72zQ5EBXhfhX7jt/5T0vUq4DOe+d/XGCTHQzJ781k44H1/isrj1ZaZ22/8iBThYCzDb95qny6VNEDBrfDHSqju2MOqkz8H7j4qU7dqf1IWyMvjJakvNr1K5TL/7BEa3t6Q+rIZ3wouf87ICuADwQWtyg32wWfusGdHhfnZAAABC0GaO0nhDyZTAhv//qeEAAADAAHaBEXIySAC+oER8r2nb1Tr6KSpQed8v3h69DfNSOzHVUMWNHcJ5CxpfmQF9KlwtJ+xDd/4CXqWk+MfgTBrS8oF42m4tr7Y4HVRrVXzqwXri3a5k9J4KRYj5RPYnkbrkExQPU9cv4D/KMe5j6MxWwaPQp0wulW4bWkUJOh4V8O0Tf63HboqgxvKBaBEOkpLM0C0UFAyIOJIfC17AVGM2tjQcq1q8rYIF7VvheRdkNSmc7EthbU5ViTzt9ZIxmW8Aztvh/r0jYakLg5BKcScYaKZkol44MFqsyJSrzhLD5RS/X19+tdkAAIOt1zpzg97NdnvzT18KakNgAAAARJBml5J4Q8mUwIb//6nhAAAAwAE2MhNO7S1cAciexf0NgBJyOUU/nDMEcCWNkmSkJxflqP4nbuTRiXAozQDLSj6HdzAObJRofi45PwqiEqWX3AIRnT9qvDzWroQVflIwzseQzuMY0e1B1+AqrYX5HnXjKxmYUIo88GsV3M+0pZS64AHx7nHnTjIasULir/4mK1nZmzbptV/Qja3JUOp9Z1pMbu90c3B3bj7t/1dLlyaMT0ggeaFJ2ZQn4i4QfNIxo5iCAyx5HNBy3JhEZv6A6A2YrDcb0HKuzgFWKNic6fbSfYWuSrwvUAqyGgE+qV7dGJgWow9HLU99ek1J7sLY05wcQTB+aH0H4I7HoxLvxI5rNaBAAAAoUGefEURPCv/AAADAAPiymwrKop9T4PVDyjMqxsNgA5798KazYjpVc+a6vC/SUUtfJ8lSaaXDZEFF5bf8ChbDp3nEcoUr6TSoZTty51AjR3WiQGRO8uRVbl6ejvYQeeSjJG03SV5DdPuL/7+GPyfm7Vf3vNRNuL8UWmvUACnQ0NRLn+1PTEsoBgchmzdOcLNYmoItLfEL5kp+DtaZTaERAPhAAAAoQGenWpCfwAAAwAFH84Y95pIeKFfuzK9m2A0OZt7hAA3rS8uPeit+v1rHccWxs8fo209Iv/cj3tgPcgoCyKXngoTFZvuokWKBWjrAyIiY3WF1mjxLS4CkUIMsf9gDNZMOPfRKxLSL7Uy3c1BfiPwRJJCJKHY7t/CruJtw7GYTQNBzBwARoJD0mQLFKRNd/rkiUabWieazg3/m4LM296eg5yAAAAA8kGagkmoQWiZTAhv//6nhAAAAwAE1kjaHid5tnSAE01rNf9tboYooLH8n2GBDLjiO3/ydykWvAhwGGP19MaovVpI4KUNyf/aKZxWVPIkxqU/846zjUxyS/uhgtJ3sK9L4KF9lg2jjzSG4C4ljRpj15xngQUyqlCy5PwX3x4byGHhiU29xLRRZbZkg0809n7gS+2AqF/g/JZhswNyW2G4khip/0BelJrCdVuB8uCYQyd1kLInVKegUGuoFg6KJsctFT6HVIR/wco7oQ9wGJZ7LGnpGo9KuQasn88wPo5zcp2prwSlNuE37HVVf8XdM9TyPupcAAAAe0GeoEURLCv/AAADAAPhAxkCewe6/m9YAIg86OxtndAysyh6fIAPKR9CLuv9j0v+SvyAb8YN9Ny113YhKN6LRB9zcIlV4KyFmCyIYrSVgiNe7mvo6JANPpK7nG2bbtr+9in8MgCCCSuAT9/8IJVXEdAsTGAHj8DNG/vuEQAAAGsBnt90Qn8AAAMABUNIcOCzixfiVybL4GmkuNUvRmSqckEy3KdYAF6sjXpz+JImivgtV0uRAqPuXZ6yIbM1tHYnBd4Sd0GG0RibppyFZbPsTb6uyPn8X2c5P1BoHehmBcQ7XJU+JyoP2sy6UAAAAHwBnsFqQn8AAAMABUPJj/3TSoQAC+vLfpJUFuY/kn2VqIvfswHre/Esp7Hrx1O+pvEBCbN3yR2xkAf7xfQTDd+Dt1rl8XexqCfktmLYKWOHcA/kmMyq/IPdJ1J8+9sUQo24FhetgbpWeGeHlvQuTVRcauCyqfnVHxz7NA7bAAAAoEGaxEmoQWyZTBRMN//+p4QAAAMABNSAs+SWkMqbUkotwo5XwAftuSfIethdB/fzF3baBJyILW6x8kFLxX2AtJyOsoTcYhx0WFXQeTiAiCcuRcNz+X2xzNlzzpPnI33X0JpMMD2jppPvcrYQzXDSy6WIqbo/vj/zewOJJTKfa1CTl8tspOVrlSLJdifLVmOVXHRu/atZk31U4joRWRC9IcAAAABcAZ7jakJ/AAADAAUeujjOB0muk9vfgAh+dOsKHG2xsCesVsmq5n938QUKy/BJJc//a+ZX2GlwQdiLMTr6ZT38uyJ8U/2byP5jVew9Ih5PUNYnv3q/Ij3Op0y7eIEAAABUQZroSeEKUmUwIb/+p4QAAAMABLOiPa5RCsZOuuncRMYZaNwAAWsiK5f7+ynGJadk9sQGO+6TKCB3fw/fxoLHxP/Vf89YKQ8MbQquoR6zy54RYabhAAAAeUGfBkU0TCv/AAADAAPguQFoowATlKCtyFLA8tSRxe2C3yonasuf5TFdcxW7K0mMqPrVuLYae80WC1sIrWytJie2bpridbMXXCsugq1JUnB0WxodxkJ63GcjOzUYfE06McLSs4jX2DOMxF4Fzumzjn3b+KAVszvelXsAAABHAZ8ldEJ/AAADAAUdE8OpuNgQ8+MQAP3wnKei7al09tQauzRvD8JO4qS39nd6QJANH3DlTt8O134WfyCjAHgfE9nkxj/s9IEAAABCAZ8nakJ/AAADAAUe2rCM7mcLw98mLACaeE5T0SLUgY0FaBSQ607HUzO9c6i4r2WM71FKIe5WNsTwfnf5oNeMV7TgAAAAp0GbKkmoQWiZTBTw3/6nhAAAAwAE07HHJpqpKilfVQNvO8jAujnlwSAFhcv0S2bp8/kKflfdQ9vVGYAC844FcAeo53myg7g/6kXvKbYboBgb+GO/5hSyXukq6uwKGg6pRfLimqqcDa5H9lhlHwFaRZqmH089XBEuI3GnpyZSKdQEEw2gv/1efzu5CAqh5WacEjXRUrMKkKpRDJEa15uinmyn+euaw4ggAAAAUAGfSWpCfwAAAwAFHrh7dIQH0yNinjl8Ja9dgAhMr+jQcF/GiWXS/t5A/mbNkS9EVJfqusPG6WS8wW3AlcpXQ2YC2JIF9uQEiinnGYtvR2z5AAAAtEGbTUnhClJlMCG//qeEAAADAATWSFulhrpzUfE96cfG0/9BUoRwv1xACUMtYYL3OIUGCTr7QiX6Yo0NrGVFWMUiMhbaToiHtzX/VhPSQyqytMpOJrsovi94nJlfklnn4YXuASPvX7jjbbPEwnc7kFAb+OEJ3amoerO0BLewKc70u6uBJpwrKuEZfFmjHYQTXAn1rfptvX+bl8B9+xKnia1Y5GTRzhEuxAGNPiXtbcah76BeMAAAAIxBn2tFNEwr/wAAAwAD39SoMI+IAOHtHY2c5s9ZJEGharWthUeVhkCZea2TVJ5tyhB+ORFmacl7VPodsUv7T4SR7rOgSgW/AtL6xOXavBcINcbiAj1I5o2+VhDKaK/GvAJcm9MimFZmDBaQFdAr5oInaCHWB62gCbM+maaf1NJX6mIdt/Dh0b7/4SR5UAAAAIABn4xqQn8AAAMABRwxR5FNRf4AOaFM0Sg2qrw2V7QMgHNmAezX/B269M9XIocDhv5TKcGwOPleqLyHAHs1xJdla4g/AkiZpzUKx/plIL348bIYur2R5l3YmD2GKcizizkFHphA/rOprZ/fYJNBXCah0X6BsgsINwlY+wgfDvocjQAAANhBm5BJqEFomUwIZ//+nhAAAAMAEu6b0k6iscKHMthacAGXY0kduYmXm/1G1WJA1Irb3eAOCjX9v3zqhNLYHzp1iEi3xSC1CNMBP4OsaBxqyJvZrTJ65jNPQt5aX7BzOGSjYNq0nJOx1D9NUzFs0rs/aQwlq47Tbt6Au+kkMJvClbAvRgIIMKUOxUnM9vAaHCNqwQzNQ0pXItQyI9vac4J9m/5JoyCcvMWBjUEbnrNB3EAdWt+CVIcyo52DhLz8Fb8sck0K8SS+xAGerjSC8Z5avg8U2OytwOEAAAB/QZ+uRREsK/8AAAMAA/leOXCH4aABOzrUTQuQX+IqJKICGUwUaIXA9QRMp0PPoaa9EU9bIUOxRv0+LTFcU2QvpFxrDfwJzhf9KuwC22XePZbMZGkhkT0RYm2UJLTHqE2K936ya/9e2+RslUu41rLTT4NmW5noelNpUlgH8NMKQQAAAJwBn89qQn8AAAMABTJV+IryZ6rEp1+zcIVZHiL9TcePZlyuYAHPVCdE+G+4OTDx9Pd9I94NLHZ0z/kiS0RLznSmN6vxniJhiT+ZlgDkMu8fNQMJFET19qwzS23P+rjRT934yQRU8qmQpJhZMbtfABYNtHR/vLOZRt3L1695jnIpQqiM+hI1bfCbDfOyKCSpYHnZtMlhr60WvKcUK8wAAAD4QZvSSahBbJlMFEwz//6eEAAAAwATbpvSQKIjHdPmk1ffWgAvXnBaEr5kqT8GNmY5kdTPCxx7fFb+ZHLUbkemAxzjdRwRKJGJtI3kNYFvAyf71QDFCRMob1WjiTzDr2YjjOeBdQ8X4yFB8A/8v+NQYI1LgchV5wUAeGH1W9E6g6cfmLkyu2oBwiw+RncAgQIZzEOxcXf8DjxcKoPxAxR0X+o0jfa5iUxFg8quH1eIOMJ9bUETkYymx/g3iikhFdb/COyd/gUtIvz/7m2yvhkBVOdUSsMqmZeYHknl5KY2C9r27R95oTc54+tTC/SRXWf3KhwSG9d9zpAAAACXAZ/xakJ/AAADAAH3J2XQoa/8qpTSgMsoGQ6R/GwUiNPaABz2JN8WNPsErtpRV/WahKSYo1OGLKSRODaj5H//Ta4Si7qmCbSylxzIS54I46TxV3cAQGfwq6UvEMjax5VfhDeRW4J+nJnov4ka8eQRW0MC1Nd3MC569ItocgTGI/yO16YPwvl4BEu+jprmBV3dm6DBu5IKoQAAAQdBm/RJ4QpSZTBSwz/+nhAAAAMAB0HXTNRGTGziKvwrBxGU3Yjg2loAG0G8FpJ0M5D6gxgL5e6iusP3WsyfLsQ80pezz+GuiKDBQVeSPxkMrqu4PKnZhq8nqiDX3QPzAJfa+ImVyjLlHszAzyXLlvI7Rl2vQLab96WvtWNkA2OOH/wYXm9MGmZVceAeZukpI4Gm7kV6nqNADJVHeo6J1FvoRlm5MZBuR5sBgFadBNrLVsJJ+dZnOPZ7tb9sk1/IXiqax0zgSfblLqbPqRh1xqUsDlnEW2f8y6V8tPoZMedVZKzRxkC0Fi8a9FQbevhLV9c1CCn+xwkW+YYxd0v6jttbvFIVdy4emAAAAIUBnhNqQn8AAAMAAfcnV64+KzSsKyS4ABCJIw3iRDifGjcQVDKjfflfO6FruanftZ1NBH3U0HkKW1ruyMpOBKPIjhpfdGuytkTP2v5659XK2R/sqGJmXyqNkMLiWVDs1i7FBxB5GyvJYgoNGhY8nogNY8/iEG7PmsLae6ihd1wAuP+y0aFwAAAA4UGaFUnhDomUwIZ//p4QAAADAAdzhOj0TPFiEIOWajWMAAXrzgtJORyphudOA2IhXJ31RGivaIgbtIbO9ElKQNoV5FHLXsXCr+7oon7ymnXracSX7eNlpwI9ZgT8knfsBi57+8izIwgnxw5gkgLEP2i/11oV4s1bdvEjYY/DOQJzgjV12Z/dz4GBKo2z06XVIf3ag4AwzXOgr/DCrSzduisN6QJQqHEKYQnb9d5hfpMJ2qL9cL6HF3GudNm/ihIwAyTPyaaG0Jw4ghqOucdF7VgHFg4hL6Z/nM1jRLDpeffzuQAAATNBmjhJ4Q8mUwIX//6MsAAAAwAC8cy5IUqUEFbCPLfAAQ/RcJkCjbpcCpheG5KdjB9lE6HwGvm5XVCoKV0LRD40u/80hzPNqlk1DNk26ytnQtimDPDWSnmBQgSwcX9LBgvgWWSHWJuxV082kfLYCLgR8vz1PkAklRBPAyC8X9nqlDYponc9uYXvJ6Rn9vuG8JCYFQCqJTnyI5EfdKk3pXkYvy5Tm4Nj0WioOIgY3WxfXT1MeV1qxz6NpvbMLav3VR0RkCwXL2fBLqGqeFT1YWDxV6oj5WT/sJOyiIQc7+R3tkc8mSeu0Qfg9FGXBzrV9SBSOu8n/fqyD8PgU2xCPaKP+jGtyOJATFGxFkfgCN6S/g8c2ul+hQcKokfo+XNN1Oc4ajjr7fh30fZ+cvuXzZtgbQ6QAAAAnEGeVkURPCv/AAADAACa+LO8aMO4Zg07ObwAcqAQMWWPz2cANq6rSYXjFycq0K1xTkdgVX/NWktuH+yb+YnNmx+gMkhMv/BTxZIA6PZqXjQtv9d8R632oOYX/AFvtMAp/DIdRparWMZxye+LTJ8JDt4ddHYi+rqTezXdHHvSoRWLhVPIGKQEq02d9vrZTayo7CTtqGMC4nt2/CF60QAAAIcBnndqQn8AAAMAAfwJMmv12xlBXsRBaEnU9W9MCACIPLfq/9odp2X5Bz17k/Uxm2ygX8V18rkiQZWGlsziZG3GTf/10tAGqWLpDGarg8zrYEp74vT2aB2bhe+Gx1k8GXdCkWbuBgYbziTYQeDeD19s76hS+7E/eJcbhwNLz5Mn1oid3h7ElqMAAADVQZp5SahBaJlMCGf//p4QAAADAALVWJIODYADsXLDFb7G28PjVrNiGe5Xxvo2Y+qurM2j7+cTRRxdKOUUo8jFob4IpY2ef3NLKpI6ATRVCuLsGtOcr4oChDtj4rh18Gfam+bAB0L/+xPyuB7HHAUzBf6Eaz3qZT1zyN1KXdxwv8Lav7hCEW/Izag7ZfXQ40C+Awp/YNyUbxv/LUYg7P62mcaVqIKfNqVHVy3ZQOI5gex0DUtlV6RIvs0JLcRBohfzMmotWb3vVDA6XxpKw+lqUtafywiAAAAA80GamknhClJlMCGf/p4QAAADAALWoCi5uNvKAEtP2Ls+qCUyGxTpcQenBX95Znoz/H59hzi/h0Z5s3sIfSOISoOfsa0lmneUQNUu02RJ1Yz5aApQv76HfGRC0j17/nVz1HsN3VaF8EtLgWiWVE4sI812SmdCGIm7C2H5i2HjxoVCpdsDFP7WN9AAF9p4PhYKS/ETeXgYJ+E7X+Jfp/3ZBXPhMv+vRmdgj20N+woRB0CykZoglK5ZuL9sfA2M/ht0DRO5mARZAr6zeTBmGNK+DvWBUAiSW+MKDSzoJGltSiIv/8Lbjia26Rw9+q5qX4F4aHi8jwAAAPVBmrtJ4Q6JlMCGf/6eEAAAAwAC68y6PRM8oF091m8jAAB+LuFo3aCShtkLz5CTMCQwHYBYuS6EkHtPOPZ90i9Rzo+wLKPYQi0UyWlWmKHt43GmYlz8uuH4wjOFOvJGiejUY0HLaVjLiyndIiz/iTjdNcYgSwz35YMbVOhgo2NGd/iSgEVIEolK4/QCry7u9QBg8lqCT3H6OxjBvcSBlL3SXV8u+8QL/TfrMBcU2ENw2AGacQ8IuVqt7h0EqHPENBOYFpIuAg4HSyQ4W6uTvwZlc872LJWgGWEGxfkTuZouJCZYf807coJ3fC0aZxrqkuyOn/ksOAAAAQ1BmtxJ4Q8mUwIb//6nhAAAAwAAuvMu1Eo+2fgBYYx6K/7B8l/s4kAlymYcMu2kU3f4yHcIfihgnqyJJUPUJ3RlVxvsy+Lf/DVeGm9BRe2D/0j9YKLwHjycBOzPd6zD7AAWlJ9nGmbdRxarm6w99cdLR7MQVRd6lV54KTkul/8FtRK1oNQ1v93Wdhwpa0YaD65lwnLQqAbbmUHLSGcTwym9mh8n4G+oYIBhtlATOUce01thaJBAk90GrC6tnpN7O2h9+HXdbKX6L/2jFUkDHBwmNekdgtzpSEntJiW5vGQUSbEPRAvV/yKrmTQs/H+FDV1ebnNnr8hfwlMU122z7/AHEoApBdf7Sh0/jzUKgQAAAQBBmv1J4Q8mUwIb//6nhAAAAwAAS1ZpB2Qp6jeVLgA5cFmjilU491cUMeR7UsiVPDzUb659QBYwSRxx8U8bgXxRkGFS/wpQYA0ZBsaAyGTacmp8G53DmPBws/4hA/7C4Dd6lvLV8lZHil39Jq+FCQVynDSRak8ZuAOEyqMmp/57ttwcFEqy13gL4QOKcTdbkUoFl/BahLkHNow+VEGtJL/eU6JAoTf9UO4/9PPvqOedr/45U2wMdMGl1KMItLDnhyC1Rv+vjdXdQWDQkXB/OftX2FflLX10gCreenXX/4dHqtM67asM87PM3iF3pun3oiy2oebIQT0ig5bawr1Y6vchAAABPkGbAUnhDyZTAhv//qeEAAADAABLSfuIAHGi9/chAYM1tkY3cSKZqAxBxZzJKkFoWd3OtFLG1ClhtlblW7RcyenuEtrW8sdHMLFbF+MqgJewCSeoDyG1+xlbS/2lhlgzkmXWbSV8IXgqdmnIVdlOjsAsjyrshk4fI4+7Hl8/9CA0eSWmwq3XfmYhvOcffqX/51R3o8zUjEVX/tz0uA8ztHnHvQHnX/ejUGBW44pWnwMXStp0GJp04rnI2oNsy/HWs4eSynx625kgcJR5QQFS/4Lu2IkvMmWeN+85Qsc9mZzCvfrN8eZ6J/BBWeaGtABygWXHa2yX/hHKOgXG4K7RfqI3yD8UbONlz+UTwOvxeshcmV4GuXa98S3puQ/NKDpCx39p8Ntwd4KF98hVrBMOpcO0xQWVB8LwsQkku9L5cAAAALxBnz9FETwr/wAAAwAAmvrG4z4r2huBsQk22etygA4KOQv3fjCkXH2+qMg932lDwWUVmgZAXtqLt61UXcxwbZlKMmzw7ezU/Eo6RSQmLSjOA4tmkC2Y0q2Y8ODsfXM2+72SqVfybHgbXheYXo2T+ve4I7zxIv5Wgu0RQhcwMSq7WOwALrh8wwsb0fMfKzpZIxFRVGeSWZMMMioIJLJ20Mo+sdN/xl0eKz5WsFRSQY/7nSIG+X6/ZT/7+FC98AAAAKIBn150Qn8AAAMAAE+0CV0TUCX3TF6xyGDjQ6J65P1Om99ZfX/vzoADpCdtAj6TI4XqeNA/LkZ68Zs5AFwt5EG146xDkrA2mrsd2YDVaG6AU2f4nr7/O8qCMYqkHNaTaWrCA4xeuE9QDTJKskNS9KnYdSVc2q8ApVm3lJlyzlQ84KbCpBZTDzJdT2B8JeCji62CIO+gkR/RkFO5lT669B8zPTkAAACaAZ9AakJ/AAADAABM3jxNMQLFo2oFZVLgAhGR1WJhG7oLWMLBF4yEArF6HLxG+wQgK/5jUOS8JxEVuErXZ1DX9PGvVX5vz/Nb+l16SWCfOARf2HVFlxROaYVqXZXyjw/qa5Lot+Hdnhxh91IBQlwcHuwZCpoSMRuktN9AX9abn1vSKQfk/WwTlmARkVsb6A3NZadirJHTcZx+YAAAASNBm0VJqEFomUwIb//+p4QAAAMAAEu6b2GKu5nyyAxgwpgrV0mkADrv9+/stQb/n8JAPTTU37OBBiBrp1SV8LdcBSzVfmDBINGgkRvHrwHUThvHvnE/lKKJh1QYLUZlggb/uIbuKM7SfgBnLPQSezLqXJZHcWMKswQ7S4lcLpJFASDnj7AfAV4Fx1to6g7XVWjhbWSErlb2Jwr69Oydur57mvW5Rr7UrDkEg/wtfyGxLxvi89TBrtuaw1tiR0tcgj3TwDgf78Kuu2LYyE6J6Nl50VyILuSSFvBj8XY8nIQwYSRQmNKTouobRWTU7i2+VV6hsNHyePHchWmAUMwF9/XHrIZO5sZV5O5h5+bO/ZI9ExYwuAfUdcb5yevH9CoJDsnn68EAAACzQZ9jRREsK/8AAAMAAJsGZyCNZ41pVHEkzjXRIAP05QOQAlzsUB0CR+wwW5uAJ5VIujWVfL5rX+4Te1hmOl93lBuoII5FP/gYuwrZCJOQB2o9kyLg7Ew6Z99crST1JIW0+E2HhDEnxRHsr+05mPoEKndn/QETK1ZHjnTlu7lzQXsL7jtqvcSrz7nO8kvvNnFMCjMJynC8hNaMh2HmA1oneIaamkuOVlKW1atFfQdVy5iHU7AAAACRAZ+CdEJ/AAADAABPjomNwbljFxk8E2rrTcfnABynPREnl5ORU1ozmU8r2FiNTkOnvwwN1MNceOnFl23ulBQDaJierhHmJ+7zUQaHfQcE53LQ2eGsOyrvtqEHkiFIW4BdsExfegysRPnBh//kw9f4NkUBL30P7Fz+1t1AOwyjuPJJPcoVLZj/og0OqBVQ8yDQgQAAAJMBn4RqQn8AAAMAAE+ZCznmmRZ8AE6zp4hdPMawSWg58PgyclvSI6RyervwJl3WbKu8CMuFaGCdBJ7qO6VYmIkMcF9FfJUIub9YoP7jg+UrXehO/PZPN55PyMMXvnBEZzX0VRsiYLvku8Dx48HDWl3ZjXhoPU1fGS+SOG6M87NAMzE3v8hq8DJtrp3u6/JLaUQTj+UAAAESQZuJSahBbJlMCG///qeEAAADAABJvkbBA6w8G5Pp9YAQ4iZlTcb4wLsaWVx7X5oBgGX9I6+1VTFk73GLc5gglPesf6eWmBkD+pF/Gqywh1oZvSmBY2vtkqes7AzTp2gFP+28+hcYD00t4iCbPLT9dMdWGVqvzn6pR3Osu7BlwJw2XpfP+hynS6r98SZlP14JlXrz59TCjZrh8+e1/LGcnINzk3+lGpDw8/GONAlqhr24whMyU3xdofVzys5Koa6SmsQdT3apOOddR11FmgRpxNavhTWZ2oQWu/hRJ/ajghFHFBurmX+mZ6/VPtudBLVcMrWZt4ng9Zc+KuYL60opJCpoUm/ctHETWlrzCLF8RKxQCwAAAJFBn6dFFSwr/wAAAwAAmwZnArNrd4G4/7k2PYG3PkHNwQ7tOa7pwAh9nsIg3NQqlpU53ePbLv8s8XjHOTIx5m04xtF61KkO+ay4bmPdEnZ4rXfb2uyHiaXUZ/kClE4h2sWM+mKYycxYD7JhXRwkgb+0kMKfPn7ImmnZFvSZQU4KRixO3QSdj/a07FyMjrjgOxw9AAAAcgGfxnRCfwAAAwAATVqUiP9xO3RACEB7xQIKAvhqoA+yP2PxRflizPWoElJMKitO0N557Z6SNCYYwl9pWGcPBRFA+djvqjn8Kb44rqU6xk3LHosbiJeMNWRdEU9QjXO8ELtch+y8hyzSXoPxd8qJSSQgTgAAAGoBn8hqQn8AAAMAAB8WymkS/iQ3UNVzHx86IVHM9JiUnnmQARAGxcrTzdaoAE8KiN/b8+pK4ICoTVJ1NNC+uauXaKcyc8IsVttAzrgL1wp98E1zSUroYCq6b5cwQFjIWOaxOTqkn22ok4MPAAAAxUGbzEmoQWyZTAhv//6nhAAAAwAAHcZd0FjOYQAISqzX/eUA7385fY0bc7KBUEkNoI6mjZHtSBpgHtWQpU1XOLYt7/OLLYP5qC7AM3ZVokm1C8nPX8D6UC0SeD4lskciyQB2CjspSWKLrIaqYqFhtluC6JJ2hYJaK78Wl/3BkGBS3e1Phk2nGouyyJDN6Zf8eWxv+S8t2xJPL/LeBth3Y7yf5DGksktLoE2f0C9RZtYABdU3fdLaZ8+KIAmEWuSSFcj/l3J1AAAAX0Gf6kUVLCv/AAADAACbBmdgjggcYKOSACiZRbFlUUWtfSrD8V8X2FHH1hYX82WLoSfBxpIBJVI7JKloCv8wldxntl+cEmnMMNizjrYzFyTq4IoY5WwMkwoMIUui3hyAAAAATQGeC2pCfwAAAwAAHvuyueqVZoogB3Ppt8smR2ffcAA6w/d+qowsqdgnV3lFdooKFaH9TdCKa5X59fjv+301qlXLPjGc/GhPBZ37rD7AAAAAgkGaEEmoQWyZTAhv//6nhAAAAwAAHcHdCRRGpAR8ww6ABc9uZWraF+J0DGeVqLQPZQzUEE0Xq8iGBjiiFfoxXbo+hts03MW7D0WUbK4YpztdP/6TqvLlz4vr3r1nc/BQXGJxU3zrDPHSzaI8ROtMVbyjtCaaA9YKp9UCIc+dSmFnxYEAAABbQZ4uRRUsK/8AAAMAAJsGZ0Ky39CDIIBjXrY0Km3UOmvNYbuJsysAHE8pdAMj9P90VvKq2rb5SdoI21FaOdPDGvtu67OWDmIxdB5rgCFv84//uMYIJ4a8Fz6IYQAAACYBnk10Qn8AAAMAAB642deADhaRUlx3g0iOpfTeMUIVJI9FX5dxOQAAAE0Bnk9qQn8AAAMAAB8Gl8ZNwAcN+wucJewMKagWfAY9EpRs6wmVfo6eTsHHHKnxbzAXv4ZYme2l/gfJGSYALTFztxDh01VczB0qVE+7cAAAANJBmlRJqEFsmUwIb//+p4QAAAMAAElL5uAIlQGcr+kUafGlPIC0iKWEHTehsN6TfAdhJX1g9fdaVom3JPeoiIPnKwWo0GnjJDkRzZ56JSubVNrLr9D2C6OWol5xX3wVfX2NNC/Xof5Npu1eZIFxGJQj1QAQqavHVloO0BsGzUaSh8FBGnM9crWTwJyGhpkKNMuMUkMbTdiYpO3mFtw+AqI5QinCH2iP4Y40xx4iRbY7WhSow8LNZkS7NsvqZBh4ayUHaYcz3XRdWliAx0EYSYbtLMMAAACTQZ5yRRUsK/8AAAMAAJsGZ1s61qpsKLg7Fnnm/14FlrOtz8AIP0KnMNIgMP/pUy7Bc4Xsq2hXj7RpSQRP1swW/PCT0KNSCfr8+zUhxCojU5TCyef8VBvOuUeH8GdJDtmFUQcaTlhVgjcIufjgd1PT5e016wTJz8d8qpNOH+7O5Alto4I5FVAIAgqZzlajQq+1X+3bAAAAWQGekXRCfwAAAwAAHwwKKJXA+wyBIlTr6JmAJwAc4Z5wgdOm0yWwa9hrPMGpSr2ysOffjuP3YpwpveYWFMcGt412YqiLqb8wKGr7vv0u5JQeXtKrtsvfIxRDAAAAWQGek2pCfwAAAwAATXcCBAt5+hhrQ/ENVagAP55FRb2qnE4aZrl5CkLLNcDgUklfNg/e2T98S6dcsTBM/wbd59t0U8Qi1kuW35XJ2LXNdfRNZ38hHo6goGp+AAAA7UGal0moQWyZTAhv//6nhAAAAwAAS0edyvS2nDEWADaol3/+MIjQ3yOJwnmXnZsQ68WVr/dfndZRzfyvKR/iZ0Mv5cm1XbZIrtJp8vHNNlmAeU0TUYPN/m5VE9bQ9Kvxzsx+Fn2fyQiP5U1r+xALy+s/RMlGl104gPTJgGZIDNWjHsGj/I1YUVfmw1rpqREgo0tMUzIUYAr8cqh8kq+CLZY/5Nf8oqS9u7nPb1k6XpB7i/CPuPMV1OiyTqJwBjdxoXxHU//1jTVJ5AApZ9Recw4NQQKN2gAKFwNOeQAtuvmmbEJpaiuwzekrORY3cQAAAIBBnrVFFSwr/wAAAwAAmwZnII6JXhIzoMEda2zNIKVZGn1RPkefi8a5RLJ1iYjwDqcIcCVz2Gub/8mABfXc7uoujbDZQMc7AsY6g5usnieRVGFv9zllaWD/h2SqcdNOQBJRNOZ6FgIN+2zCvxCn+cBT5KScRb2EppSmM3lKJHUAcAAAAJYBntZqQn8AAAMAAE+SegXVMZh/45ABOUO/FAYHLzD+cl53VMUEnj0T0JuDVA+6kQIBNYS2EB12CtHwyGcaX0k73TfmgTk0YIvsLeWbAocJ2ArAuYFV2mArPio9lvFb0INKLAdsSnA/PhvDlPYryHIfzd/thsI5zeS/uSzd9z0qhHHMOfUDPJtymfFv871XdsseeZqU0IEAAAETQZrbSahBbJlMCGf//p4QAAADAAElFBUMXRxLU/EggAiD14LRppjWcUypPesbSRLA2Z2pXaKPs+lh3T6S8CFUO3coxV6G5GDNv+NpHX+d+qoziNUJM3Jc6Lzm9E2QTha8PO2F+6RAwKURoQKhepFh/dMRIkd1oFdSWURBUUb9Fu6kgJ+WdmoHCtp873ctZnMYXdCx12mSaVeT/C2GfezpKps/Gscv94Tf1sk/K7fti7jnV5pyjJE15H/CTla71ypDRH5Aq1qheuwcbStKjSsMDGzUQFYlTWq8kQYnrvWOTQ/OKX+XKY56BA4473t8l9921syoHet803t/3hxeEnHN0BHs9pQ1kencRbMZEUA3cvYflnEAAAC5QZ75RRUsK/8AAAMAAJsGZtsJ+C+M7/oACIPMU5Ssk1b0I0qb3oIiDHt+ZWTNZ6tYl7TU0LPtdVRKx4PqR52gH61tIblE3KaeDkZGJ4AI/4ylFktClX/K1waEjekTg5sTIyn4iqKAPATzo7bkAcLW7JCjdXlCu6PUD+F4GgPv2HWP/GMIVS6k/4wfCvHpDNF6hg1s2y6+snXUdDlLbXwx6+uSXQIyh0GNqwyYzK4TdswC+Pstmi+1/yAAAACCAZ8YdEJ/AAADAABPoqmN31pOmJ4wwHgKkYihiLplgAdZ2s3JyMt4ox+OC1Q1eHxG9DBL6jLDIBuzP7KkZCWyht66BP7FTbraW0IF3F+UoR6tw6NhMfJNbrncP6w/ogJs47f5eV9mM2JwirwTivMIlke49Z28/iYjvjTmo7r54VHfmQAAAJYBnxpqQn8AAAMAAE0tAxJf9TW1tV7ArCanJ9jMiOJw59wgAcahkS/bPyZKabubMxaEMAVTHA8+dF6cledbVAGWJgIXYzVIGd2ScqeEYaGGBTIPhQKRtCE2mUWy/DE31nHLftMmuxmhxlRB1jsoUofJyw6tWHm3rNoorwxShANfPfq7oNWElHF7OxNf8cI7PBHWdYX+qk4AAAE2QZsdSahBbJlMFEwz//6eEAAAAwABJVRFmo8+7kAE7aMx0xKS2ziY+7+AqdY1Dcqxm+wMf+3NDpjBxoIGRhCOuxTKWtU9WElEUfbW0M6z+p7ZNOgED1yNJXdRClFKW6DAVb5RTl/6CiBhkGZElfWwKS6NuPbmK7XIDoMU2noFWpqsPa5R076nd4jonHkX9hSlBHLFQwcalqWZRB4jhBxv6UtuXOUl/fFavJJMOX2jaxbShupQtxdVjEe3CBPgv7R3/ScI+RHpKBCPBYEhozz1gKL3Q5WgOMWXWzKEJf4ysGgzIt1TIAdhx8edOkAJ0iJVhFDfQ1VdUySE45kPZN4OmgUB/e2PrBSpZoqrW+CkgFFxGvn9ddFlFTmJG00oQridUl5l0EtWVXcHQTJNzid3ZMRYiUi3gQAAAKABnzxqQn8AAAMAAE+RMWAzs5gyZAnuVJY74v9jeCUrZNZyxMII8oAF36yXlPzSoNBpGQHn+An1cPVt1rf4jdGXlZCu8jUFCATVxkak0yv09j6jAKgCJqG7YXq3JYaiLJgZky8C8f0ppa8BLKUeVrIhZcrQ/o/62bFySb1YbsK37mTAgjmc1g8oKfgHgihSaZs4kC62BsTWKDnwW1CWkVCRAAAA0EGbPknhClJlMCGf/p4QAAADAAEdIlyAEH84LST4pnCn7Kj4wAXkdmj29X3C7DvRH/Y9lEi5yGj3ASMX2bLnRN7s/OG3DZhIxIDqyaxqTEpEcIo52R5tXUUupTFOZoOkhP5hbgocLLxb0iEDBl8aqwsyuGpDRCAj5pzXjYP/sSQ8/xRfat5wkRfK4Hm7+i6ELK2YngiylLzAwLWoCfMvt19vVgTeUVMVwQalDPjxMHLe3zb4XcmpdGnYQ8vDwC+phg+EBKJA74qFEDR24NRQubwAAAD4QZtfSeEOiZTAhn/+nhAAAAMAAtXw5yAOYe+pSA7vrj4lKsYpYQPTebwLy93bGTp/i73m+PM11L+9qv9UUVm/6WVQDoBRqEu9JC6sUA2OfI1nyF76QHIJeDjBf2VuXyJLTPYcpHKZvyH+69M70y8Lms81PEP2Hp6mez28tu/Vbw0xVX8h49sez6mYUcD7ReF3YNTEq+EbMpODk9HWe5IQAvLsJf+12LPZMcS9XP86vH9iRfFdk7+mfCBYXDan6SwO1tojHdwjyd1vD1ExtFSCFNVPSVtBql61wyhg0OZ8W0+Cnb5cLtDHN8pWXzTmKlLAiwlVzx+1XMAAAAEQQZthSeEPJlMFETwz//6eEAAAAwAC10qeSn7WSH0AAcxFrzQk8RfcyNF+nW/3X/Hsg4+j2uL+dikvai4mASJNj70swVeQC/AFW0zjmCI4hzNg5zr730fiKd78pe8M/jLmGtlGdXRehAkLrDfTGlMBdrH78YP12DHxuepLYpI/uxZvXWS5ShY0hemcNtLdzU3oDU6OsMLU+z0NpYNhG/Zbsh/3faJhUEh+CxwtIpAh8bSgWJmhK83LJrLLm10VF0QTk9Y25/0uLFUPyavKw/hSawzdD31MVbikOAPPULEKlkdFCfk8DmzaIZDauvr//D+vh++2nWDbsi5ZAh2NzSfanOnzTp/iPkoZjqo5Cn+cmmEAAACcAZ+AakJ/AAADAADBoyv8JJpi/bGoUoOXXLIAC+n3ea+0xPcSKyetDspaoDCt5gfvEa0U/4iiq77BjWKDlzzWcugDTBE+up0bYOS0mrfrqgdgztRsWTb0HTdzuPShLwbcGGlehkC86/tI6vdbM1qgWUTu7jYHFXAZCjjng45mM6QjdVhs427+hY6wNQ7QXec/l0mpJXN+AQX2LNQ4AAABAEGbgknhDyZTAhn//p4QAAADAALnWODhI/WiTqUAF9aMxz96TuOEPRoolm+gebALDIQa3qdFByPzh5dHCQAVD5XAWC/KwdrrJwyzDnQOp/pjS749grOH2hnJ/qsjI42mzWRdu82LLw1J6Wk4l543iMelu/ELjzbCde3Zk+zsjlSpKsyzN1/lx3VVWdAno2pNaywXQ7k5H6T9ChJLSf8KCpbUDGl3hVjCsswcr3XQFwiMNLf4iWIB2d5eSaCxEDylZ7lBgRwgOpfbeYMfHrpz0j+K7+suiOJQknc04Z3jdhytDSXMpbDkR4NwTDAiZDTLIgRCf/k5iAGUPBJSlCE3NM0AAAD1QZukSeEPJlMFETwz//6eEAAAAwAC52FJvu2hhxZ2kUM+QgAnb14LSTq5wrrqs14aFCHeMJ7Tnv85jq7dd9m+zhszYD5wxeaupBT2x7a9r97MUOJzLkachkcKtwenmAjSWQrxf2+E0UwksDcfDCsKF3oqV84Xn0KWXarfftGB9FQq3iy6J+0iMvRY7I+LLH2B+g2k9GSRcbJqIDrREgiHqX9ggrkbD7Irt9P8d/t6QxpCce3+wAEynWd9EKAx/wbEvRD6i5LTvb8Yv9nxJTUo5uf6NDbrkw1N7yzcHFPCDtPnTLSalGp2U9oJmLlqk00VNa68X6AAAACVAZ/DakJ/AAADAADI/ukQhva+ivT1gA5oldEvuq5sRimEj4O+UUosde23PnPqI1zcNQEePE9GZ0BLvTvhyj+FxAxcVuLsV81NT5cDZ1NESJuMuYaluTXB7awLcc0wL5uSGrLjs+2/FeWPdwNKlqYXfYgE7q41sl1vguETLvQZ54ke2aebBORGgnHayXbdO6v96howa8EAAAERQZvFSeEPJlMCGf/+nhAAAAMAB0LNG7AycgE19cNl9ydj99o/dDLWI08otn/H8ChyAbz+NFe4l+FJJ0CZJ76wWr6RvqsUYrSfWZwiPqcToOh2oS1Elny9055RyFsaJt6ph7uUJtnwlNUlFnZg8FLSth+Yif1iw2DsY6h0aWpin32oI9GnZGkBjx6xxBX44EuG8AgQ3CBAw2sxdcA8iuKAHPxYF0A70oLPF/+sIFI5WJozbhfrjFOK2poZ0NQEwasF7Vdc17vKShVLrF680/ouiM/DOMAq3KhXEHBZBbsJNoYOsL5MH6D5ZUqPJDeIBAMXFSPS0wvUYItryisFhtIGvQnTd/cDFzICGqng1Td4iq2lAAABCEGb50nhDyZTBRE8M//+nhAAAAMABzvRim3GQATTS4WkjXxo1T6jtZFUTxXUhxeOS0D3klSs99NslgX8sTDW7e1gSwMK1nk/6ebdE9bhZXALupAKcjcZ2NqgVPHQvRUC0mmmfDc6QU67MK53hHAsBRNzaKo1Ewtsf4hcrar0fdZuQV176i1kPWvtIHvQSwmJLSCUvo/IkWAAZ1rJss+xrYOphdlh3pdLXna3tAUGrpOoGs/nsa1lzuFah9onhfIOZAMR+3sTTtyLDfF/TftjAQY+egAwuSUQLrD2Y3wCcRpYiHp5iTiOJt42X8XrbtmdBdHsUK4ppR1jDtL//yykHzfBe95t97RewwAAAI4BngZqQn8AAAMAAfy9otr/ZoABqs30aC15cmVDh1B9Qy9i6BP/egPgC/ilr1+xLbnSUmN0cqRQUQi0UUbUj215lJQSmdkXG/UKUQun84hpQewlr2wFp4hHlpXAh6/jBDs3siWjEKzrnP7yqkirijc3mEZV352C/n/TrXpz+UsdVU7klXC/kRJh6DH8V8XpAAAA5kGaCEnhDyZTAhv//qeEAAADAAHZ06v8pEhBHkskAF9e3+Y5EXkRumxnlAVLpS7T0kcdZE4kdakiG+Df8SYZ/h/YiX89dqxrmfgw13T4RQxYaiRSVTTs7FZ99FYWp1d67K1noWdjw+HkGWFtgRcgEvTiUkqwIFYFPI/YWdYOdwe2HC/tZs4Ci7EsJ7vLDqVbS9TwXTR++4gm1/N3jqX9C0YeskSn9d0NbWGB9t+WB7p2TjBNAUkMS2gJ8TzwURMIzLmpwZvQFH5U/P7otSJpk1RzFKYtA8B5+xJRVvD6sbaneDruYab3AAABOkGaK0nhDyZTAhv//qeEAAADAAT/mXX6mccfq+AOTRToYfPzPNmp+d/MetY6S259mTuztCGbvhSCG7xODQfHsRXzbcuGzqfFOAKEHXYHPvxQFPaNrZYVlLJPBe930lu0QdRDxD47ov7T2hcrISeizmkKyWm5pXsmshXFS4i8C7OM9YUMyUd22304eukOJxDawb6vigZkeTKv7ezF6DWeym+cEH41W0bngS9+XSXgqAW2QEf9UPVWeXeThK4yDNfL0sg9kLds3KPaL6tngyojKrnon1Em5NFIGs4+cI7Xqw9qSKl2vgMZy+qAo+O5heYoRme51ZX74qgRgabdPDxZEqqdp5urxxTBFWKyQrvP5m/s7P9jz6kglEvpvAZfwtYkiZbza1fXDi5bylEiv0T4EGUacvMgGjm7KvbAAAAAlEGeSUURPCv/AAADAAP5Xj0YVPx+psADRZrK0tNTeEaA+BO1jC3K00RvTIQ9chiNNrvv8Crrrdbl1xtDMMZxi8pyTf3Lvt/DUVuXtIs9mRbNn3YrqSAlxlteP6WvDPK8juNon7sP4D1xpjOvfVdqtZM2xAsgXHPzq6thY1Zp7BEseMQlUyTa5PdsLzz0uCxr4/d+H5EAAACUAZ5qakJ/AAADAAUfzhqwWGGbGobBx6KGcFg1ha6YcqdyaADeIDUqCwSi7bKntIGcH5YfMdjTEMRQvMskqheNy8uI5QOV+He/1xnD6EEpNUcSsxYFzGxM6gws3SS/QFOsqxAn29qxxMrs5r7crynTPKC3khLCtjzPSiQ+I8tBtP5N/Wf4qFethbJwntKFhN6Z1KKgIAAAAPRBmm9JqEFomUwIb//+p4QAAAMABNZI2h4nebPSAE01rNf95OxARmTi11FrwDydVaFU2mESOW13k1e91ZR9FtOi+kiR1P6v6OcvyWsTTBl0h3eZxSuLwZAKwNNgCZKYAhjqGqT6zby2V3aCrpOcKoNaPEy6p5jsHgdW+SUhA0Yb05IV+vKliPCNAaPZ+BGydUzlfOK18dU9Zi81MNKPOIo3Sq64VKpgXUSXtvW7LzY0GfYKqg+CG5EDT/A27zAuYZgy4LPgL2/su3pALL1zENzb0BDfBgSJLMdV1xlY3zLwt80h2UuYfqXtB2cWuGVx1ju2v31cAAAAc0GejUURLCv/AAADAAP5KMHvVji58EPUKpdf9QWv+jhaouAss7KAC6jtU3ZmlAzf0KfSnpj1JVho6aybO6GTdRepPonSUYaIcHz8wmN3bJX7crYYRATDupBw/kHuWec3NxCZ223ThZn7ltgnKU5OUQp+1GcAAABvAZ6sdEJ/AAADAAUbeML6e3TJffiohat3Fl3XDV0yo+wQAQNafGGtrSX6fiR7MhS3Y/67nSrXR8JmezITuaMEX3ZNPm+3PxLhZfxznycV3WTfKxG7co61VSoMbC/Je0havdbrNm9RNSW3afwj58hhAAAAegGermpCfwAAAwAFQtr+S4oYRrPKBMcHvNIgAJbCbiMJQMNUqeW7pGPfnY6g2Rl9l3IWchzQfugQccQFByqZv+iNMrR1VZ+vwNq5bSPr5WkQajWRQ9WC5C957Uh1v9M0Uw+M0ywVR6Jq8+Ol/BbaHkb7MLOJ/9I9od5vAAAArEGasUmoQWyZTBRMN//+p4QAAAMABNaSjQmtAAnb3mcrXvMLRYsRRxppUwkDakraq4RRSAwbKkPybpyHnQQri4hOc4HwiFVts7h7J9uYXSzpn0uy4vbzeID0vNWpQjWWwsQa2smcacuSJ3Ye/d2HpE8SRmxTLP/vF/qBfAlPOj/okSaiyciEPtMiBZ4zj+6jRvK2uHx36aubfva5C48h+lmv63IrLWpRYrrw4IIAAABUAZ7QakJ/AAADAAVDyUektpQklwSuMYWzUlAOE4tkAAIRjwYqJPe32ZQ2/QLkvB7odIt2WhUOar2JjOvkGQwe4zz/uPx7lUwtJnUwxqC5A17xy4+AAAAAhUGa1UnhClJlMCG//qeEAAADAAzvCeaKfcXJ3cT1VRWKQQ4rU3YY+HL3dUCCJ7dz+FABazv31t3B5ZvcwHKrWZu808eexaw5G9hE+u95Or7GCq40p5N3xOIsphE40XK+V2FAVlN1BtggN8JIYRizQm+oOznXqCvrYCelCgP5B2aPLpcm0YEAAAB3QZ7zRTRMK/8AAAMAA/gFlwQANqO5G97y81en/aUdYxZZdriPDCcUcmPHcvZxuryy7ZsNIS6EJhdzrk44YONAsC1xuYeSs/Mxx1CI/jyKnf6ZNtBKNtYDsm3zrGDwzVwDxiHQ/syxUy+bcuLcSeAanBPYPZWidrAAAABLAZ8SdEJ/AAADAAVCLPWbABzWj9GpA5Rl/HBGBOV9E6K/n4aNJ+tQCGFct/VGbQ3TElwyOMbrm8Xa7NeYnNIoQZNm8qVmiD7Cbe9IAAAAQgGfFGpCfwAAAwAFQZTTwiIQAO0OmzDzVWCnus9B4dLCvlMV6+g5ruFLwNzytiV2SzpcWf1l9R95cYf1zE6dbMnLgQAAAP1BmxlJqEFomUwIb//+p4QAAAMABNbc/UGkxwActhS36pzVK2oYMLR2eC5JilJr0zsck1Boemfn6G/wxgx7vXjRIXZDYgDK+mLFoaXz83Sc99NynSEK9bVLSQYif5xDixdtmRPn7o1GFg3//shXqdLIqo+b0ZjhP6kHnrUndYZ0T06BBwcuRqO0kJ4TZnkRO52+LrWzTg4DJQwO9xg5mju6tk9nDeHAk7qfBcyrB9M3wwzAV81qdCO7ry2XbhXEaghZk0V/h5vXiWsztdC+HmoAglQj8y7BdechaqpS+Bghn6uJwiXqS4lt2mnUVXifxg98Wsxc+BWYum3dywOAAAAAhEGfN0URLCv/AAADAAP4yFeN3Q6HecwsUMAA0IYbi2mgijizvrJWryUh/KXRbeABelzpvTkNdRDkUZti+PSrV1uPM4HfhLSV0zOj7jI9ZbkFIyuly0F0XfN0Ioerz2jLIgoS76zMqiNRX33+4Iw8Ha+vg9EM38JJ+4aVXMSadlYl5/qnGQAAADYBn1Z0Qn8AAAMABUNHAYSrvQrJ8croQza1zlXcgAZ/D/bKKOht3GTZ5ov2TLH6M8pZLEkoy+EAAABFAZ9YakJ/AAADAAUZjMZkA6juae3LkNRmz0pv5NiFIb6sVmbIyE6/y8ADokivFg+hACSDmqBP/fYgfbkKtN0nbLWUuftgAAAA7UGbXEmoQWyZTAhv//6nhAAAAwAE/5l2jm9pRYjMfhIcndvC+ScDcv4ugA4jl23bSMtEICr/1hfEJKXPQdivxoL+yjvGaTjgroL37Or7bI8QZ62EvU4JLDSDmIh3sNhht/PcsZB3iqBVRm/l4ZnfmFq0Kz2FJ2ogEgYzpWDAZgihdkZF1+PRBOcc8Pldfnz+ebcg/Z3Dz7cAHgid+AqEQIi/BebbBI74o+zqBjI4PrwXIYBgGCKDr+rgVsBeHJN312MyWkQZXJFysJqJyeoGXOK1i8wA3rOrnEO1/INB1BHxOTmJCPkFe9+Im79j4QAAAJdBn3pFFSwr/wAAAwAD+AK3NmlnpE7bTE16KmRwP0z/CYAO79PVPhX8RMrO3Nii4Q7+HA/Ze4b31XntE5gffnAg3AJ7zCq/Y/56Cz5spY2t5KQDAJSOgqheBNyahqdso9m4g9/KBy1F2p8rgBTIIK612wypbzWYEZLOGjONMWUz02HUhwbhWfhwP/jT/DXQmm46bHi8jLZ8AAAAdQGfm2pCfwAAAwAFGbuonfH54mt++GNZOrBNzhrSnMZIphV7gAHwYvd4h9UfIKFX/fTrjamUDTi00VSSC5jVFI9gWa//wFE7JqO0FJg5F1rSoSfxvuNp/6PecowxnEY5D1D5PXfgVML3ilMaeq7STccg/28opwAAARlBm59JqEFsmUwIb//+p4QAAAMAAdq2BUTMwFciIAMu0/rfWiXjtoT1ggxCVx7LSP+WPUy7p42faCASTxwmQm87r8WELtXWbO9SSg18P68EdxOYNRWUy1B5dWi52NYJuk8d0HBzhRagU2Wg5cTMN8+auADRtdxy7kyLiV0nx0CFgKSa+0M1tqNn21/mjPSZZA2psQaCORxxrOWQTXPtHrWOmVUH4CmFMFpCsI2IpoNPqzQsvyaj8eR2GtJC6lp4ZvnmPAj7W+fbqaUjgi4H0mqfHicItjORsnl1+YpFcNR2oj5uWRSpI4QfVsRnQh96TfNOGEl6fFJ3L/uI/4Lz6UNJKUyHoyY1UG7nXfTVdHiwJNceJBFOh/o/QQAAAJRBn71FFSwr/wAAAwABkpK9wXC5M33YeB65Bhc1AAc2DBwtD35sQx43Nsx8TeZvrwHNt11C7UcnfbfRsXQY71klw83NNshRNd3/IAR+IeAVmzkEuwLCH2VtEgUU9yjCNMugkKF5WoZy95rHrM8VNJayLMLs/wXVfAhdPBy5g7+3tMpEN5zGmbvCajBHz8xp+7hD2mqsAAAAlwGf3mpCfwAAAwAB8WZMw01bB1dQF1cFN4vBAA57E0dg/C9BKeYjPTBpE+oqTJkgE0huQpR/7ZGu2DfmacO1wJujfL3nFHwYWzR3sUfNSP3W8eOFPraVL4/YVkaejOOoaloCVh8rtaNZGH9/XeR7y06YPTcTcJbg4lgnf1G37AkwVfnkF2laWffH7i436QFhN/2/4SJJZpAAAAE6QZvDSahBbJlMCF///oywAAADAAdT1u4KLjAgOYe9gLPxk2uGP6FegAnWi4S3sSXqzu7BXdUGqoZdeWoFsvdUR6M1BtJ6oqSd3xxjOTEG2tTtZqeg8QmxBZd94I5hnIsH/rinQFYfrxjfbFr1fXHveSi7S6qxxeiNFzaaxKau7e0lfWdpoFgy6rfTco/giwFjlPgI99cKTg6nQR8n1zOdSEvMyRlX5vUqk8M9mmluAsyR5FcgFRpkdR1JIJ3MsBZaKmkYLDB++Ac5QIRNTmm47YX33byA9MlWJk7HLHmGFrmWT/8lp61u5GAB18OnWlMSC/SrpmFlqVrO95O+e+gGfgtz3I+QPAuF+YURzXzRsvPrfYu52vfeTZ6+AyLAMDd139FnzgH3NwW7sOpoayU7QsoWHg3qUmnJrUMAAADHQZ/hRRUsK/8AAAMAAZKwiewuHs4wfyNlI4SzaGDR11Pi5UAB1l+ne0HTylGbKbYvBrdbrGK2I7lY0rrz3KikjEo8jtsBssnlzzSheM4ecA1xL6UYtS/94m1D9LNXk0f2GvSPTWfqm6yIr1ydFNnb/Em4cotnbPTYafvhrfFSLP7jMNj2O3zviblXJ+V/3SCGYXem7mzdOukUFfnw1FPYvdXsGtGZBQCLFxICO1ksXV0L9m8PiVUOMJ9ArWMuTB88tJlz4YGtWgAAAJEBngB0Qn8AAAMAAetTr+bhTd/gA/Yxg2THKrmMTfAMXW4OueT5BJe4iaUCTA47N5GkkvD2Tfs1ZvLPQ02OhzIV1ggcG5f/cjbirmOJnhHkYHGz+J/J0Ey+bUEHWm3Pt1nOJ+TgX+T6Iq+lBf5G/81p3negIGaLlCvloQCUaq1heL9d/ZU7HtyPeLuO0vBdhd7BAAAAlgGeAmpCfwAAAwAB8Qk340+3tS2opvAHPbZjvLy3YyAB1V+HadMCJVcg9TgVjXFl8q0txhAhjq8YijdApF2Dday2fjqaIEda0n5pUKjqCldVhxdWnhLqeyL0KE9L+fu8fACZV51HWX/nrxkXVKBWzx67yu1gDSdREBw19UJGtAzFCpU2zP4qefytKQ0+D8X8kQO8Ft7O3AAAAPJBmgRJqEFsmUwIZ//+nhAAAAMAAugV4J13nyycrdRyY0AHJYAktR1vbcZ0HmNExVn/OIL9WzCIgh+CHbJBVoHL0VHFcnXIZfkxoc+QnGB/2It4RjN/a4MUuk5lFK3ZqeXfyGDsycKmTR+91YNoN1bFm2/bnL21gX7gqihPipEs6a8a/HbM2XGXUkT7Gv4FQvCtN++8fOoIeSAG8l8ZiDa6NJ5NsOn52rj+5T166SR1tWJYjvIf0TqvmMsI45xRIfTy3HmTbj0syaUeHufd3obnC3zkU+V3NeE0nAHB1froj+r22wrfxiuDsZXL6AzCdD8X6QAAAQtBmiVJ4QpSZTAhn/6eEAAAAwAC52fkE7eF2dvFA2ogAHWjasxUlXeded6SDG0lk40D5CEr/DDBnvEQAgnyGw8xV5rEQzmQjLbMA1pA5zLTABbt9DT9jBK/8Hu0GmwATTeo8Q8G4l5plm1Fs+r2tQv68mJ31PcNxIHWoMK7iUGfdMGp4SyXay0nDUw2qs2BqJB/CGCm/f76AWKyII5Mi7Q2qLFzLHEb3ByZdnrNAWLddYLyAcWTiLbQmWgBv5NDyzAT9BvIg6ffsa8DxKDYf2zYhloAHy7rfMwtCvXG56F7Hl7khsuaIA2sj0fIbLTMUbnD+qPMaYwX2IIo/HPduItn0jgikLTyodkPxfsAAAD4QZpGSeEOiZTAhn/+nhAAAAMAAuvMuf3ALtaLYMAC5++g/Udbc/3+ngv6oOafnCxDzX4yHAMMhw9TY9gMQw8UWzFYIRIPBkVep2mhIKh4FRaeWfzyWEU6jwmD6/umJ3tsZZUZYIn230S7E4EaRpaROX+wmFQpwcOWIm9TZ8X5wqe38ggTkfHbu85No2GZISCWKzRiRSAbzKCpbtDRwuemoeY5gdJg1BsQ5Gul4STkVPWg5uWUOtT+sw02xkYZUa9f2BZyObEp42xUDUHXMHavxt6tfLbOAZIkNNBl3cq5oKH8vOKj5+aIqqAArnfgQjBJECXS9jKA0zEAAAExQZpoSeEPJlMFETwz//6eEAAAAwAC2cy6SgbHAuSgCkn3C0ksQ8q8+VqimWOTPDPHF/ccq2YmDUP8GO9qVTlZk0saISErufGoVaZYLqYirJPCDDre7vc952vS8DmlHhWlrGD3aKkjIdCMbNZ0LROFhqApdI/ZFDzB6yXhIWSoB1ggFAUEwVLSzW4FNyCVAKb53YtkK4aUtXZw95Gpk2zYAAq99b8xm+RBzhasw8dqXGcAhcdKeh2ZWSaBSyB8uuCwbQMTNEGa1bBueU60RHfCA8RBgnQhCkUH3uz8m1MdxQkwQI26bUm/5xzw2xCvfqux2V+8jpx2UecE9ZLWNePuUQ6GXf/WuXSXqEDWDGkDDHa6P+SzXzSTdvht4cMIwEjg2zmgoH8iPQkGkoZjl4a8kRsAAACeAZ6HakJ/AAADAADHCz43mv/oALqOpwUFK1n6UOd2Ece2u9nFXnDMeEbnKoOQvRkHIufHodR+sGMYqVGqW6h2OlpkVjfjMV+Mkj8YFSNv18WVt/VfQgSWaohkahs0nQ3oilNeEBSiFNssVMHuLaCQMqMBeK7QE/3F6WRkcYXNmYqEHITvysuYswObXGS0XhtK1SGrjr3NqOZ5gHfRF4AAAAEEQZqJSeEPJlMCGf/+nhAAAAMAASUiXIBNdGY6/RhVtJA3u0SJMdh5egw8Osc74p152Tb4NPja1099Jl3czxoQTvaizWcbbtmn8e4Phs6xyPzCqgUwmeAflA0cFUJ2U2bgA9VbWH3xZbRnkoK8FI6SA/+7d4qjf5tLh+t4V8VtKYmSpslYVNUwqeTjolmhhAvTQWd14Sk8BesUlqKzcWhH56n7e3E7x3YPUVZwsQQXiGjUtZbML/8VbZNSmPSLt8809mhgIyF1suvo8hdAc29PeozYTk5vRHk+9HIYU88lDNGzsWHu21slcDQTWJcmBNytT1RLwFsmDakSJS+XJLGql3JOlRgAAADeQZqqSeEPJlMCG//+p4QAAAMAAL/wnmirzdarbbwANFBsQYx7opB+irTQNlTp26DYAjcz4dTb7R89SuB+sFE7puDp1wglH5BH4aM7KTD+yhIjgpd7AmHHqOvR1Coeegz9ySzhIHvfVYxG7pIwo7ZBMe15yjWQ1yoAdSerq0lJTUVthyCFg/wdTbSaZCgsBY0hXqTop35quoQuxO5uTT01GPVPDWSUWztWzJtia5wqJqToQ/4NpZEEJAHVDU8IHNvW5+asc4ZPgqM4dG3JAMD9a5odIMN2o+cB3NJeR/oDAAABUUGazknhDyZTAhv//qeEAAADAABLSfuIAHGi9/cergzW2Ri5ujxLq34BlqMLa3Myen/RbsBNV/wS+iqlTo4hydhY90r6E8IQW8ZVCEPW/PUlMYyhmQbSGF8j0nznsGW/oTFoXOLdfMBsjbcvSPk7oydhYELHyBaCS/VgbIQHPh7EU+5VFU1EqJIemsxRryEQ2W/Kkpj6JCD83pY0epM0y8naHYGbKbIgRu0oWQy18tMzStP/H6H+P3e2ZAZQYzQDh4wNEtlLckv824zDcwqilTBfINmTtdQULkyijAcK6HUd186AA+oUdO0s0xRRB3gwRApS5dfIzPGVQIP0Fe6pm2LTdEpHZmmSvUq8sM6sEbBXi6Kw27SiYB1Pen7R8WUZY+suIXBVV1RCWMtjTYPp/zorcvtvO0xfD4d5OmSrE7pLqUWNgbAW/+4nv/tlVocZ08wAAADLQZ7sRRE8K/8AAAMAAJUsl7yJ7vp32tXjrAj5ddfp6inACEq9ThvkO6Ae9aRzitKwlOhYgzfW/Eb1g4me9UsQiCA2LCiRQEPjveNYUY6+EuIBJlWqEG+EltEsmtPOdnQrLHj3tUBWPZ55f+EBlUwvLNzZLAo9CVwz/pSnuF72YicYrHxcgutyoiJSohSjD5XTquDiR3w/5csSM1YLUVRd31wpJAsneZ19chKPNRXk09uCw529al3L5v3D+w9BNZUCrzV/4PiZKQCoBKAAAACfAZ8LdEJ/AAADAADD+cmZ13uhLGQr1gzlSaaLBRbL5d6DqCNf93AA5T48RI1p4AfUyGhINhctrHqCqBG1VHR3qXIB97GPFrn5JSjIkISmQQ2wPosZGbGGhRo5nEOaGpSePsp3FuPnkfGULSjAybZeJ615d2uQj2pnU48nvVr3xBGMv7cXQ77BzkPTEx6SFCTQM6SQKG8WBn67BzyF8Al9AAAAmQGfDWpCfwAAAwAAxDxoIvDn5Vy1OMOWLaEAEIyO766HJReKeB34h4xhxCzZzaLZ01bZzalWTDknFpwT3LYR2ZXVqB/EAUUROLWYtBvKaKs0aAQNHcdGkTlO1T2ukFak+2quwfR5W1bApas4fbxhDLg3c+FeDem91kJv99ckrszl0bv7/0jWsQ4tKz6vjXbpTQ2E54DDojDqdwAAAQ5BmxBJqEFomUwU8N/+p4QAAAMAAEtWbjiU9oPJABfNYKajhmhUjCmbhx1JgSFxkntI334nxZcG7DD9jhOWb6axrkPQqlS6IbTnbe3sUVqqbkOuFqLE3YcqWF6FgQ001L63xv2ToOennySaH8nVtMUnAPRcwt0/9l9a6rHa0oS/tX79lW4VRTID87AAVpwScRgOA7aVH92GT90mm8+4thfKUL+tMAWaXKwpIuUMt9srCukTrBjipJegDG6MFDRDFD7QnrOuTji+3ZmLIBaall28PFkABRrxlJ9Rs8izY6plofAMEFIy+tMiekUkR53AZ74n9TDO+7x2cFmX6GQU1SvrfMh+yDavtPrQ2WT5+vEAAAChAZ8vakJ/AAADAABPk825BPTJcU8CRXNlnEhwYsADnvzySy+1fst4NPmcVOGQS4BcdN+i/83FxurlEipOsUJPCouwOFgReofjApKRXBYzjf4pOAGL65pm5PSK3xR2qidH3jNItoVrnZsOn+TQuBXJx9rREqecwwkAGW3thb3ran9kPgo+J5SPK7V3V5lX5X4BwUFXL8VKCLM+hSBx9++FE7sAAAD6QZszSeEKUmUwIb/+p4QAAAMAAEu6b2jm9t5we0oaMboS/gAHQLfbLR2QdpqwyNr8n7e6cPI0JlEnF47RFfifbkbb0BdrGINwLa51ztfrSRksGBU4ZHqTKx7I2VYI6jQ/IdVY2AUIMq+C2Q9/8uOtJNDLSZW9LA7uDBHf7leuv1ra11MaRs6Eell6d3lKvmV+7/zXMGAMLqsE+n0dRwXhlvwdN+L03U3Bj+ayd/G4365Gehsk2FNcvRLqhJnZKSF64TS9u/Li7tTvc77Z4936m74qmogGmTLe1ZHNFz55qGzrte73g5QJ8e8eB7SgsLzdiPXss2j+2dO5mgAAAIlBn1FFNEwr/wAAAwAAlvrHPuyne2zbk7AmqSTr8tzRZyw8y+ELAVrR/AM4ABzJ5rEdYbIAcVeFP/g5S2JCL4+CvPZPSD6PYWtOd21v/qbg2Yc9ft62pjleQmKlO7bi39VbDEkpjrEgbW/V/n/fPZBSWGJVFxFNliMAv3t/6Eevj//I2FM/5YSMeQAAAIwBn3JqQn8AAAMAAMQ8arTRBJKu4AbryVVV9x9J+RI1lTNGM3j03bJRVRZW0U2FtDv6nMKs0L/WAi4bwRIvC64AGLJB8CsZDrv2+jBfRVedo/iZwQCNU+d5XIXwQlIB/V6lx6s7RkIcfR6TGjji+MTPILokU19rTI2LZooGTxrBlqZwS7zF/4cGHdb/VgAAAO5Bm3dJqEFomUwIb//+p4QAAAMAAB2gXfd73ACaa1mv98A2x2zyfjpM1XAxy8FfD0kr1boP6Flx71HCgTxuGtWMDK8Eiwn/3xf0vaY0EFwrgqnarSsfsqWhlsoK2iJq0x7LIC+6IZFDwX8oeeBcWOklBz3YCbQEI1/HlaQHW9emuKzWk9JGuqjpMPJkx988fdx/gAKfDmLHUQjUoZrPjSeLrRl37EjIsHJlm1hoF96bMbGczVjGU/iqeKE6DZrui52WWSUd8DJk5WW/u/brqFHpeOUkrCd0ESfIQ6ODwpE7jh6SHDZ5G5Rim/wGAnSAAAAAg0GflUURLCv/AAADAACXBmdgk9weRIT3ymaWqaIlu/PisSgloK6Zps46aIdmgLtAA+Wo6X6f7ArhcUO9UDjMQXXSGbka9+hcpIHL9i40765uOlgNKKcZaBni2Sqf/1yzpuPjc9qzWfPlo/PFfgV0+J2XBw/Agy6wenicTeeqmSjah/VZAAAAYwGftHRCfwAAAwAAw/nKoVXF59HONO9fh62rUAE7Xhy+Pmr6fJ+Zd8qt8S6o3JqDM7DmAoQn7KKCeM6hyjY2lhLZexfrhJpSFG4lT0jMV0qLwShTZ0w457EjKwSBkbt6ZqZMwAAAAG0Bn7ZqQn8AAAMAAMQ8arS1wkz7QzhBriACEZHiHJ32Vf//hp9yVQSEhCqLCChMMZWBK1WZWQA4Ec8c/Exkrob63Imv4M+4E6dInVVGZBETWeHwzVlnfPKn81or1OJwchGvc4wZ6wYAUrCOoW6BAAAAmEGbuUmoQWyZTBRMN//+p4QAAAMAAB2wU/Ym7gBCbYj/+f8pBi0Dh/PWa9prwHDq+49YkCWPc5cdz395CttiTrSznmzCmpkMv1lKow1nSrxtU6SMiPG5nCWjTyJTBvGWHcj2iUoe1kLynMMRmAbk/Q7lF8L+QSeWOjP3lXJY9d4u3QBxjI/byi7Gu/yJ1fK1Rb5pjM2Pg2ZpAAAATQGf2GpCfwAAAwAAUfzhgcMdW/GP6tAa8k917KwADrD933JM6qEcnwhntajWzmXLlDPfKYk/nGuY44IkAUVv4ACqU+UZmyJ6j7HUGVVoAAAAjUGb3UnhClJlMCG//qeEAAADAAAdxOeBzW3ZXdYASyd/vx6j3sxOnCIsdm59yjWKa8rTA7L7UYfdyEMppcnEQsauKog/WDN90KjPhGM9E3uINHS1HcX7fJu+EEexID43hb+JzFaF0HhdxMKFol/xxpYc4/9mUZbehmC4/IcDSlNweja65Dd6yKpK47PiwQAAAFNBn/tFNEwr/wAAAwAAlvrHPk115p1YRf1WknbzPXLZt9cm02EAHP2jsZ+u1eYqx9AxuJyYe6gvUXpK8VJH1ukR4FeYfUjha7aBJiureh/EtJMMkAAAADsBnhp0Qn8AAAMAAMP5yqFVs4Lo1a0ABbHBDTYmb4wmKgWlBuV6cFNTn7dOXxuBNRl+1F2levkg4q9zgQAAAEYBnhxqQn8AAAMAAMQ8arS1vqL38a9rQATt49iUhcKaerNIBqGOiVzuKVifLEaQnG0XDXf/fgKjD5WADl+plGP50ZZ0ka3tAAAAn0GaAEmoQWiZTAhn//6eEAAAAwAAdHhOcwLWDgLcCb+ACdnrxRkLmPSMM8kdqXwH35YtuMD4T2WXt91zIPxUVCOCLZqGKqAKBi4Y9V02Ju94vYb8AmlBXCyGcsOCqHwDwMw86p2ijBWOeWUpFvw+MQGShZN0bcMJqUyfY/J8cjwt3WK0ibUqdZnt5G6ObAMXsgbnDlxBeu2GT7qAzlnE6QAAAGVBnj5FESwr/wAAAwAAlwZnYJPcGy+bqyw6emYyr3Ovdx1eGDCADaWiceVpNOJyZvd9EMo41cBryuhNQ8eSevEEiLZM1xAnLLiEQTmU/abwALXNkTCQpi9S03TKQ61GWBWekMG9gAAAAI0Bnl9qQn8AAAMAAMQ8arS1vd+feAgAhvO+jOxvgemj8CQc4aKdzaXeKkRklSmiscjbphKtYvrowiK9XjTvSj3i8BNIPKxfCbENYzo0XXs58Mu5mYqJifuVzqpks2Sv3CUfaHlneMMJFueK6dD++pinBuJt0eKCxR2CERWrJ45sOLY1Q8PuAoHI23ntbScAAACGQZpBSahBbJlMCG///qeEAAADAABNum9p/USWeADmxOW97nDvGklQqQsVowa5Mtyi+UUUVW906/rsrKaUxb1paiPoTxC7WYblKv/CxYqvs5DpZGKdw7BR/fWWk/Wzhes+PPvhOq7XEiSsuEZxHdlI4MeDjEETp/20B5REzHSHGxZQxl0y5GoAAADzQZpkSeEKUmUwIb/+p4QAAAMAAEtpDXK8vwZECQAJ295nK/a2PQ/Qd4EcwOIlK+2dVBGVm1Dx9JCwAsVGTdK0fSQwbnGJ1OjVGZUelJmM0acs8TZCqISvAlA5nZIJTdrTu2IzEXGMLnl73H4bXUmQGDtvZ//loownRAZ2xHph0bUVSlJbyBMwbBuxON0+WsB87zt2w2r+5wJgC/XmT5c8ix3wduyGls6IKipp4lY8DYUGsT5yHTVNfgzBMtQu3P1kDoK+ENTNqoaVuADxCNBqBS48GK3ivDTqfgUiQfWBSUGdNaI/wHdGMPW9D5n39nk8ujARAAAAkUGegkU0TCv/AAADAACW+scRe72JSqYlYE/azXHGSceTW7Jk+QABOkUP5tpKIfSJ9hkTumqZqQkruc9/u+rYMDv9p0nY6MCa8yma+uuxOzXWP8rd/5+j8th+fcpRHtHbQUGdKTm9twbvEwyD6Z/3PnOfR9YD8BcxdemF8thxpLwA+xvgDIhMvDcgLVwqEmn8LGwAAACLAZ6jakJ/AAADAADEPGq0QjYgWjbcGwAml4ME8/T7DuW/hwufdUwYtNhpiQuzKhHWkNLoOqu+ELolBPP4jE+A/1ckVEgUlW94tnj/Y5lzwONYFVCFRzHQ8naAz1taFOLLnkm4DEK+4qgInevYv070hVNASZaXrcbiG7vtDzqspDiMLW+/xZRuuI7n5wAAAR9BmqhJqEFomUwIZ//+nhAAAAMAASUUFU4ju63N6BABD9LhaSVAGmV8gtaIp4vdRVay89lrCIRjgSRbv2tcwzQnE/DCxhp8DRplq1yCXp/1Hc85iM1FPHO4KVMdZuRutBGf+QiNyo1WFzY49dlA6cMXixVXrHBo+zrrzp/u1MJrk4E4REeNBFgoU66tO0waxwvxDFu0NjnUO11T8rn1vXslIqjUUrEZUqyk4xJ9Oc3apzLm9KMxMNDR0p/09YtGv898Nt6+36e+IrkEaWXo81kxn/qrtjegaaHjMPWZtVOAGAW6HbYsLwbxjJu7xjSMu6Nqn8Uhxue8BmiOw1X7q4pHqAyAHlKmD+1lZDZKeSN4pfh+KArFg8wN8JUnV4jM0QAAALJBnsZFESwr/wAAAwAAlwZnWzI1DVkcl1AoiQAhOfJUORYlLczzgu7kc9oYvAn/dSd/f2wK1kA0ndYCn/ZFQUWRk2y0IClnrVvXyuKj3XT2oqdQkfYfwDEYYi84ZlpYtjbP5NGT7bhqH3K5+zQgrC7iNvdhb3QHVrEUjYb/kAChB8K3SCeMVJ9x7X9agbQq24g2hgqz8ds5ZueD1PNBAdIQXsMpl3tYANb+5JwBTRG6ymRpAAAAlgGe5XRCfwAAAwAAw/nKrYLtSWUkgAQp5b6My/P7Yo8zZ6i3HNQc3V/K4d05phNspCA9gvIzayscCavXtf4lKZD+42o2NrWb1ehpE1jTSaU5MrlrOEYViugKqe3Lu71ewZAYp4am622wcLt7VIWUn0Mw2da6R8f6T72/Ov8AIqI68SjtWa2pMjydGlqc4/TN7qO05IdloQAAAJgBnudqQn8AAAMAAMQ8aqTsBOV6CdcfAq6VGAAL1UIuUotNiKJ8ZITfepo0Y2duc57s4WbAzLW6cpdy8UWCnmc8hBBpyLIZshMIq0o4gUBT40YV+LIc0DXPMhPwUzuOxpQQsNRgtA/+hlg04ja428KR2ug7HPdYQJPrqVGAY+gkHYzq6irWSNwiOKWYAXscTYZ8sMyvf7pIEAAAAQxBmupJqEFsmUwUTDP//p4QAAADAAElVEd/7J43AAQ9cx1WO83tfTklKduorucWPoTaZIngJ8hXbK6Nw4ZXPvxGmUgIsOTRl+JpZQkz8oUwhgUG6gUQ/PpSMDC0LvVQWV/Z/QhD08jnpHGZteGD3L07uWCke8B334hZVDW3/73n8SF8wXUUeXP0wCkM4Y8aqkqwhAduVYa8SWyV7+FDrgQMJwS71HPCWC11w5fL/GkMKSt9kgbQrMuNuSXFhaPwb7Mq7QPu0ehTIRaguYSfYAKNFP/cT+T2oA0uFhy6kW77cZZGhblt5ECYxZEOzP9rL0FJI8mfXMEivrtAdgsnStwOW/0PWlAQHmKjSSLeAAAApAGfCWpCfwAAAwAAT5PRTfTxqaLG9jmtLQa6YSXTToDq0FuNasGjn8hAA6NeGYvAuGOhcTQ/bpPazjIvuwi1geihriZan/Ha6fvSN/HJQJfI5nE1aKV52n8O1cVYBoNG58hBNkGKD6tmf3reomOuYYwHgjt1B7w3YvPooyOCHIv+qKcXRzRcREwQpYqIvaM07QfulXD66yEZ2uZlksa/zG+O64QlAAABAkGbC0nhClJlMCGf/p4QAAADAAEc2ceqPAAO0PuLzmkDHi1P+dhQbKJu3KH/XQvKFc6K+by9QegcUhyQDhPxJOBvVR/c71r7mi88AQjTi+WSbqrJVf9uwllDHq6k3k3sN+vNS+ykxXeBTzOSYlcz6FDYbz1uNZOxWA9pUQmcWLyresJ/EGgmJwUxSfzCYtOgqyCu9ZHxA7N1F/LXq1bF+eUxF8tXgb1NLsRSF3amg0DM83PJ/uygZPYn14aN8yohaCZmgM+KxMb00ImiRgQizZ55LLtwDxenzykRybM/ZrZ7zf2xYmVYH5K3EFCoZqDdiK0fNdNS+2KtXRWdbyJXqRk2QAAAARZBmy1J4Q6JlMFNEwz//p4QAAADAALVXIHzMtgAXQN10WDrdv+oD/G0kD03mYemCzToV0H2N0OQmgcJhFKXXtQazkp7WOk9UpLyEov//4hcpx8TXE/mTvYX2lDWZ2+cXptpYwCkDbC9dO49QQRpwaIC2z9v/Br8runTRhcVREgZcDsA6GqtSWsQQADhxrkqm9R6sgTf5In52KV75PREr8M83uB+dSghIIRvmsVB2KK5GOyl/g5PHxJSZb72L3pEMAIYNO+6OOqK+nV1tk7osJbF/M2ISXBTUfiJcAx/ZKc51MhadO/pgwB1zhc/Ctn8Dk4HIQzLbK5FkzEBcO2lqlxUOSicWQXYlcsBFd1LLTtHY+dbw6ckgAAAAKsBn0xqQn8AAAMAAMleTmQACeokorUCc7sPqI1zqnEOERny7G6OAdCqCiaml0nL8vLAMJPUMR/YdPyh8vfCU6cXG3F7yFMQ6SssUtJeajYN4G4+4Ws/8KKY1ba3J5URokQOjwv44KifJ4H/anffGYnvR7A9+K6pXVqHRuX+sPbHIr6d2SrhXE2w6EK8GNhA+HfAMFMLWbczxVO9FzywOGEwhjtE2Pu/YPnGCtEAAAD0QZtOSeEPJlMCGf/+nhAAAAMAAtah3GP2SH5ACBdasx9TNbWWc/CzfHmx6JAhXuJi0L//Ykp2wb3/Ac9FT2DGrP3dSBmFYI5AYWJABoTkpt3CNAK4biWZVaO+++sIvFcsAwTpdtiWz2YggEQHi2j80B6ViPtLSrvQ7o5NJFXl3iusOgHwDaJhWQt9g0IxNUyg7jo+JkR7TzjS6BRXX7JEB1fX+4549oD69v+kWNXc7znreOnjQx2n5Zf8knP4rMQRBWIpVk/1R6iQb24dzNBi1Ij0b8dLTSR4kb3grKR9SxNjBkL+zrZo9AAK1lpjz2/L5K3t/QAAAPdBm29J4Q8mUwIZ//6eEAAAAwAC51jg6bwDFmFrEJ25RH20uB1DnqJbS1jKT55omkqOn5WwHivSVQKeTdP0tk/8uJMzF6pHF3XTwu97/13uWiAvwyrYgP6VIpPYjY3k/bLw/92ijEejIajeRcsX0zAhRvISOZCZzMeb3DHpqxZAHm1XmTTD4WZj+Hz5NF7KcaIBmHzWTDhqvj7M7mje1iyJN7fQGqKOUjhzAD/tDmyA+J5GT2VKCP+rGucTpc1x1AUw8AVvpwb3x4xwajh2JdgnaxH3F/vmxzTpiXn2N14zqEjezWQSDE0bP6OqGYPNgZjqPfANXg0xAAABFEGbkUnhDyZTBRE8M//+nhAAAAMAAugLCjB4mlnrPzj2ABM9cLRsFKEbw7Ck3cBIevRg7iT2yrDbZKIF38vp86fLVJMU+1aOeFN6oh/kaXXECJQ8cZ/HpApdh5YHgHAuqKFv34lmi1C6Fi4uFOf7TdNjS0Ff8EyGwAHMJssjx+GH9HRG2ARdYctfDAbat3mu5Mn1GYd/nKqJAi5I6N0jXt3QXZsNXPieK1nt9N1i59WKHVeP/gc94fzuGSF9MaJ1/YGrgE+y4lGYe6C6/LoUBy9PgZQT1Lwbxw8emTVWJhSqNiwQ308+GWnzPTU7h4UM8vZLFEgoEvFiwB465XrF6WVHT0lcfNYQQSMoFC1+oNsb/bq9wAAAAK4Bn7BqQn8AAAMAAfF4z69VwMuDeEADtCaUKC9J7ylBKPwEfs2qmPvG1LLrJ8ipouZHXrhTWxhMbMWGhSvXPuwGrL5qKKUIzK6YY786PshHBtHSoeztbzp5pItQM98JcvVlhKnIcmR0bMgqTvWpecwFYf1y3GfiyG624pzDXS/rWbx6nDt68dO6xrT/zfBz3dAOgPy6H4qQsuslc7BiUhB1r7BBawUnkB1BzR2lu1EAAAD5QZuzSeEPJlMFPDP//p4QAAADAAdDs629F6AAnWlTu4VojfTRIxbGrR31nL4elZ/9KKdLqLEhR+cuy91nXnhC2AAAcRuxx1t8JzsikJzuwR4vhN5wJ3G+uDNzZZfr25wzDKqefSrG9rSjzWaLS2LqAqD/Eu/zdokvK26l8DQlnbt3FPOS1BKasSbUeSRLMBrqlzfce5LrFNNtXQK2aox5EOh6lwq1xEXt71bxH5pinn6R7+aBHtPH6TA7QdrvN8Oh0aUdeB3AN68gJb9ngomEFms3DZnd4DduzisEkexI7jGoSvMlJq5Dw3GbqjV02tJlJxbv9f8u8DzBAAAAjAGf0mpCfwAAAwAB8EbSTuF3ykVhilUHgdMdxiclf4ZhKgAOPZBBxsRHiOJWtmQXaf3+KsChu9ICjq761LeGNSWH/R1+1c6puWg3uKguUBTi3WlGuAwfsnS1W4BQKqjcdpF56HdGBDo8uM9dMv1gm2kXLIEmf7Q3Yd454CbHtEQQlQReTwGlvnerBJrIAAAA3EGb1EnhDyZTAhn//p4QAAADAAc6h1STsi/fUAAhvnBaQBRrCLb/bto6W8EBeuhInqgxOtdE1fViu42ibMDnfNrbQB0ZT0UKV0pkrG27owhS3bUW3C2jKFMjQTzR9hpGldh7hqKl2OEAb5guV3CKE5cMnU32T54Z32raCtOoPuwtpGgFshIdkAiJuRYb5rtgmHJ7uIPXy0AMB27QgE8ZcxPKTtKsi95VNh8LKVUl9qzCWg75n+pmcZsmDrDMM3yy43MfNuffca8g1Ax763u7rX/5X9uMQQbUEfabY4AAAAEPQZv1SeEPJlMCG//+p4QAAAMAAefhPKtZplp0QU7MAF9Re/sBYXG4MhEwy2j7QdoDUdHQhGxam5eQyGvffegFvWX0lR8F6wHGWymeSFhlqDfJPFOcY3nCHRLIKVIDqljoGGWsVPyxN9+1Ni+0VqulJNya10X3IdNooOIPb2NBJ7XMH9if53hIoS206qRAGEM4q7RxgL9gS5e8SPtlf81I3bqaDst7Bhq/vJ/nXLeKrD3fM2x61MVFfDYED5fc8imTfL/ZDq0zhT5M1WVaqvHSnFO6+IucGHzBZAZhl72Uh3qn5uLa9WhGSlq2hNXwKcDsDo8ganndAEZjlFQzuNgLiRFuHER7WDvrN9QijeDDQQAAAQVBmhhJ4Q8mUwIb//6nhAAAAwAE1MgrgGsQUZiohUWcsCpc+UTvgfSL/WqXF6kXwPwpu+qRh3IrMAwmTnJts+7HePe98BUu7NBk3Pe5GYvufD5WYhO5kuRZvmS6Ux4M1hYOcWXP+HRugleK7j6VTjGq4UMsc58oG4MC/BiMNjqewF05NhT8iiCnxj7wKznCjNBdgDtZxuiDhpigQQDvnXjASdm3zpccox5Ccu3XvEn3nKAZSDceZI1jwlygEPJLA5i4a3NiWkdPeEE6/Y0MzC51G1tkeFi3fYMH7+183tRWHBROmUTULuOJlXbdJ8XEw5CA4P20UuUErBTp2iuiapbv+We7OcAAAACYQZ42RRE8K/8AAAMAA9ijnTFCLytAknVTGDIB/JMWBKoI3aehrvigAaDqjsaqDDBVb9AgTkrGMkfNPmDiLvF9npzZZg2iA5HqG96aruFAg8/KNU6SAC1z6sd6+ObDozs/RsbfS2BMm8eje5qbqLyKfoXVkPAEfbL+MWAeNTD5ILzdW06NSqjPdzjSW42Xz1RBLa6oZJMJGYEAAACqAZ5XakJ/AAADAAUe4BwbLUa8+KHCai5lvABw836TndJCDYun4nPDMDnPAAR4FiCaLeISqSLYzyQ9XG8oKdCp15l9YBq7OnbTJaOAsKD0JaqQZyiVpaaSx9+qLYcGlTflOSb0/T9NsIWOyAqAW9gE/4dqgVnYrqk+b6CAqYSyBmjuLU0QOVuIBY1n98pQTdzy2SbAhq9Bfh7znBNHY9jvdOiI/w/YDpBJCqEAAADgQZpbSahBaJlMCG///qeEAAADAATWSNoeG29QRx9ZV7Uu49Fk8zO1FZtTRwBO2ouRABD3HSEYItd7fRQ98DS78v4TPWIjgLBX1+YtgISClQ2Oy6MmolrRssBOCrbxHFQzHnMXWJO0bLiJ7zHCVFeyUumpwcm5cRuKZqgpaage7G8hAyhG0JRBT/BLV2aaKfw3PdPo8b3rh8ogv4gjdF4aXpq4rx7rNUE7Pl3v6zZLsW+50+QwWxDrpUBkLMyvDVyD9CloBGRVFSCCfm8Ws0rBK3/ITxc2nMM6fBNWUm3v8WAAAACQQZ55RREsK/8AAAMAA+NTgsoNB2OQbDFR1PfbwHipSGLcwJQAH8QjYO6ZNZAAEHEGeJbmjSQJK0h5p0eer79aO5laCgfcP/kMqLXG+pmfuPkoppanEMA9YUZJv/s1s81JwmoHvX3MnfEupw+D19jdWHktta1sQ+HzoFFwiCvWE/q4+GG7xcmjwebxvc5v0cEHAAAAbgGemmpCfwAAAwAFHq6h0boAIfnTxFG9ToFEguIpLvG1hJHOAzijQrf4Xtc8z8ZkqM5EITqNnG3wppBhmADJaTvuGlfIKFHosmBP6zXISSIezMi3Pj3ytpxeKPrAZD3CxN0fWYws7atNTuZ19VmAAAAAqUGan0moQWyZTAhv//6nhAAAAwAE05Zvjms8/QMw2gAQ/Ws1/3NzHe3PoVwr3+YjOiD+xacOhiL0NAXB9vWfUx8JMbVGDazf4dea2/6C0Dyra8aeEq7LMc72iM2PZWXazid2HwOsPn/5A6wol6afXWDwZomDxnUTqOohboiCPIC/u9PE5pcbxv3vnEppoH9r6WwULnpD6JqPb7DuLXEC+ykEkInV8ny5wQUAAAB3QZ69RRUsK/8AAAMAA/jItVY1x8R3izAJ+Gfy4S6cO/cZACDpFAxYXeRb6hPGLMmnZm8UdEIKhfmM+fbkx4TDibjTyvmiM2hQKDnmvD8FEQPESXnHl+MGuO3dFLWtYy/gonWu07vOpAQiJ7dx9oeK2H17jiPrObkAAABdAZ7cdEJ/AAADAAUa09v4YgADrPjxDMFfHZaSN7ffvIslBE8KQaWdPorSGVgVQxRKE/1HebWIn3CC8zKorJidb/IlzvVSXrHTpNalfPr/OsJueJFguv9+VeNA0iGYAAAATQGe3mpCfwAAAwAFC38q24AObRAut2eG4Bs/IbLCZKExVo2hvOANF7CTUe1dCIKJPtpuW78hJ8kmWwu/C5nPXR0DGuaohJoAm/ocDK+AAAAAeEGaw0moQWyZTAhn//6eEAAAAwAS7Kqyx4ADY5FAgOnWLOm8oxYtEfUIOrbcxapkebKhNYjLlR7CD1uKJE8AKl3j5gB26XEjvBr4Sgr7+1usw1/jCTp6Y/qtohJzgKqdGlMnhZtjx2pCYs7FvJ2Umhq2rKzldUDrPwAAAEVBnuFFFSwr/wAAAwAD+V3zAju8BKYhMewu17XmcQAWXznYFkHiv2yw7621RTk1h+4SP9W8F9gWHI7+5thzBzNa9P3BAXAAAAA6AZ8AdEJ/AAADAAUdFPOD8XikAE7Ypy7BhRX7n2dXECGzLVoKrxyz0TSRwwWK1ZeuwqEXqFtHWt4bQQAAAEMBnwJqQn8AAAMABULTTgpgpG30wmPE4VlLXDdZphyKAB2htcUNeRzZFsA9m8aLpUeQEoRIEZS5c+InVJdxedwi2dDuAAAAtUGbB0moQWyZTAhX//44QAAAAwBJU7e89tbABD7t3QP3Zv/2Kh2h+DsfcbTjx3/RkLN4CSc4xu83R3q+qFDSvHkUzpKO0cbJ9vc5KEuIIcNhxwDlJWL+g7jsuPZ+CUKObgDKB2GW3+8T+CXXUhDDGNSs3MH1rCDm6q4m0EFalE7rRIF5H95cEj3A74Hp+8WGGvc8BNOUsxHpeje5XAM47952722+ef/e5UE+YovKX29pwxSEgCEAAAB7QZ8lRRUsK/8AAAMAA/gETskySAA7Q7krNY+Y6KuNUgc5iSzta55SgJ3V4Q/uoYrKPIvsdV1yAQIH3qWOnL5IRo9BHYvvuJHz//VHVajNSjZUxDzBVy2n27WxZcspo1EBbSDkTTO1li8OQvu0/jtgX+Gkrv7Ml63w+ntBAAAAUAGfRHRCfwAAAwAFQRBY2KwuUURouzIOtCGhQATq3bzuK0w63xCTaIJN81hZIlD6d8LcZbCAZridxnZAK9aGwlnot7IZ1c8lSnhAsTTw6E9pAAAAhwGfRmpCfwAAAwAFCqrP8uqV+ADlKmr3NXfO6Tvox//KESYEryTe2MCI1VtfdyoXEER7gVeVZGHil0WdVAE2OMku6W+EPC+D1FX+re6LUwjwXSPdpGgt9ywD2s307STMRjxM7iAAp4yM4tWwDNUZlqsKtj2MsTIaFCIWZZZQgdwC8B0BgGNrQQAAAHhBm0hJqEFsmUwIT//98QAAAwAAtcm+TL8TIowYhljm2qgw2sjyx2UUAA0qZE72nyOuKBwuxMlK6Cj7lwcvFysWQnLJJPbY19W9xwiNtHitYJ/OI+xsK7+VA63X+LrmuhUQcVsmGnxYgOxZup5j0dkL9SLZqUglx7sAAAunbW9vdgAAAGxtdmhkAAAAAAAAAAAAAAAAAAAD6AAAGiwAAQAAAQAAAAAAAAAAAAAAAAEAAAAAAAAAAAAAAAAAAAABAAAAAAAAAAAAAAAAAABAAAAAAAAAAAAAAAAAAAAAAAAAAAAAAAAAAAAAAAAAAgAACtF0cmFrAAAAXHRraGQAAAADAAAAAAAAAAAAAAABAAAAAAAAGiwAAAAAAAAAAAAAAAAAAAAAAAEAAAAAAAAAAAAAAAAAAAABAAAAAAAAAAAAAAAAAABAAAAAAlgAAAGQAAAAAAAkZWR0cwAAABxlbHN0AAAAAAAAAAEAABosAAAEAAABAAAAAApJbWRpYQAAACBtZGhkAAAAAAAAAAAAAAAAAAA8AAABkgBVxAAAAAAALWhkbHIAAAAAAAAAAHZpZGUAAAAAAAAAAAAAAABWaWRlb0hhbmRsZXIAAAAJ9G1pbmYAAAAUdm1oZAAAAAEAAAAAAAAAAAAAACRkaW5mAAAAHGRyZWYAAAAAAAAAAQAAAAx1cmwgAAAAAQAACbRzdGJsAAAAmHN0c2QAAAAAAAAAAQAAAIhhdmMxAAAAAAAAAAEAAAAAAAAAAAAAAAAAAAAAAlgBkABIAAAASAAAAAAAAAABAAAAAAAAAAAAAAAAAAAAAAAAAAAAAAAAAAAAAAAAAAAAGP//AAAAMmF2Y0MBZAAe/+EAGWdkAB6s2UCYM+XhAAADAAEAAAMAPA8WLZYBAAZo6+PLIsAAAAAYc3R0cwAAAAAAAAABAAAAyQAAAgAAAAAUc3RzcwAAAAAAAAABAAAAAQAABYBjdHRzAAAAAAAAAK4AAAABAAAEAAAAAAEAAAoAAAAAAQAABAAAAAABAAAAAAAAAAEAAAIAAAAAAQAABAAAAAABAAAKAAAAAAEAAAQAAAAAAQAAAAAAAAABAAACAAAAAAEAAAoAAAAAAQAABAAAAAABAAAAAAAAAAEAAAIAAAAAAQAACAAAAAACAAACAAAAAAEAAAQAAAAAAQAABgAAAAABAAACAAAAAAMAAAQAAAAAAQAABgAAAAABAAACAAAAAAEAAAYAAAAAAQAAAgAAAAABAAAEAAAAAAEAAAgAAAAAAgAAAgAAAAABAAAKAAAAAAEAAAQAAAAAAQAAAAAAAAABAAACAAAAAAEAAAYAAAAAAQAAAgAAAAABAAAKAAAAAAEAAAQAAAAAAQAAAAAAAAABAAACAAAAAAEAAAYAAAAAAQAAAgAAAAABAAAIAAAAAAIAAAIAAAAAAQAACAAAAAACAAACAAAAAAEAAAYAAAAAAQAAAgAAAAABAAAGAAAAAAEAAAIAAAAAAQAABAAAAAABAAAIAAAAAAIAAAIAAAAABQAABAAAAAABAAAKAAAAAAEAAAQAAAAAAQAAAAAAAAABAAACAAAAAAEAAAoAAAAAAQAABAAAAAABAAAAAAAAAAEAAAIAAAAAAQAACgAAAAABAAAEAAAAAAEAAAAAAAAAAQAAAgAAAAABAAAIAAAAAAIAAAIAAAAAAQAACgAAAAABAAAEAAAAAAEAAAAAAAAAAQAAAgAAAAABAAAKAAAAAAEAAAQAAAAAAQAAAAAAAAABAAACAAAAAAEAAAgAAAAAAgAAAgAAAAABAAAKAAAAAAEAAAQAAAAAAQAAAAAAAAABAAACAAAAAAEAAAYAAAAAAQAAAgAAAAACAAAEAAAAAAEAAAYAAAAAAQAAAgAAAAABAAAEAAAAAAEAAAYAAAAAAQAAAgAAAAABAAAEAAAAAAEAAAYAAAAAAQAAAgAAAAABAAAEAAAAAAEAAAgAAAAAAgAAAgAAAAABAAAKAAAAAAEAAAQAAAAAAQAAAAAAAAABAAACAAAAAAEAAAYAAAAAAQAAAgAAAAABAAAKAAAAAAEAAAQAAAAAAQAAAAAAAAABAAACAAAAAAEAAAoAAAAAAQAABAAAAAABAAAAAAAAAAEAAAIAAAAAAQAACAAAAAACAAACAAAAAAEAAAgAAAAAAgAAAgAAAAABAAAKAAAAAAEAAAQAAAAAAQAAAAAAAAABAAACAAAAAAMAAAQAAAAAAQAABgAAAAABAAACAAAAAAIAAAQAAAAAAQAACgAAAAABAAAEAAAAAAEAAAAAAAAAAQAAAgAAAAABAAAGAAAAAAEAAAIAAAAAAQAACAAAAAACAAACAAAAAAEAAAoAAAAAAQAABAAAAAABAAAAAAAAAAEAAAIAAAAAAQAABgAAAAABAAACAAAAAAEAAAoAAAAAAQAABAAAAAABAAAAAAAAAAEAAAIAAAAAAQAACAAAAAACAAACAAAAAAEAAAQAAAAAAQAACAAAAAACAAACAAAAAAEAAAoAAAAAAQAABAAAAAABAAAAAAAAAAEAAAIAAAAAAQAABgAAAAABAAACAAAAAAEAAAQAAAAAAQAABgAAAAABAAACAAAAAAIAAAQAAAAAAQAABgAAAAABAAACAAAAAAEAAAYAAAAAAQAAAgAAAAACAAAEAAAAAAEAAAgAAAAAAgAAAgAAAAABAAAIAAAAAAIAAAIAAAAAAQAACgAAAAABAAAEAAAAAAEAAAAAAAAAAQAAAgAAAAABAAAKAAAAAAEAAAQAAAAAAQAAAAAAAAABAAACAAAAAAEAAAoAAAAAAQAABAAAAAABAAAAAAAAAAEAAAIAAAAAAQAABAAAAAAcc3RzYwAAAAAAAAABAAAAAQAAAMkAAAABAAADOHN0c3oAAAAAAAAAAAAAAMkAABM2AAACOwAAAKYAAAB3AAAAUwAAAKwAAADwAAAAvAAAAHYAAACXAAABAQAAALkAAACpAAAAmgAAAVsAAADHAAAAvQAAAQQAAAFGAAAAnwAAAOkAAADiAAAA3QAAAS0AAACfAAABDQAAAKUAAAEPAAABFgAAAKUAAAClAAAA9gAAAH8AAABvAAAAgAAAAKQAAABgAAAAWAAAAH0AAABLAAAARgAAAKsAAABUAAAAuAAAAJAAAACEAAAA3AAAAIMAAACgAAAA/AAAAJsAAAELAAAAiQAAAOUAAAE3AAAAoAAAAIsAAADZAAAA9wAAAPkAAAERAAABBAAAAUIAAADAAAAApgAAAJ4AAAEnAAAAtwAAAJUAAACXAAABFgAAAJUAAAB2AAAAbgAAAMkAAABjAAAAUQAAAIYAAABfAAAAKgAAAFEAAADWAAAAlwAAAF0AAABdAAAA8QAAAIQAAACaAAABFwAAAL0AAACGAAAAmgAAAToAAACkAAAA1AAAAPwAAAEUAAAAoAAAAQQAAAD5AAAAmQAAARUAAAEMAAAAkgAAAOoAAAE+AAAAmAAAAJgAAAD4AAAAdwAAAHMAAAB+AAAAsAAAAFgAAACJAAAAewAAAE8AAABGAAABAQAAAIgAAAA6AAAASQAAAPEAAACbAAAAeQAAAR0AAACYAAAAmwAAAT4AAADLAAAAlQAAAJoAAAD2AAABDwAAAPwAAAE1AAAAogAAAQgAAADiAAABVQAAAM8AAACjAAAAnQAAARIAAAClAAAA/gAAAI0AAACQAAAA8gAAAIcAAABnAAAAcQAAAJwAAABRAAAAkQAAAFcAAAA/AAAASgAAAKMAAABpAAAAkQAAAIoAAAD3AAAAlQAAAI8AAAEjAAAAtgAAAJoAAACcAAABEAAAAKgAAAEGAAABGgAAAK8AAAD4AAAA+wAAARgAAACyAAAA/QAAAJAAAADgAAABEwAAAQkAAACcAAAArgAAAOQAAACUAAAAcgAAAK0AAAB7AAAAYQAAAFEAAAB8AAAASQAAAD4AAABHAAAAuQAAAH8AAABUAAAAiwAAAHwAAAAUc3RjbwAAAAAAAAABAAAAMAAAAGJ1ZHRhAAAAWm1ldGEAAAAAAAAAIWhkbHIAAAAAAAAAAG1kaXJhcHBsAAAAAAAAAAAAAAAALWlsc3QAAAAlqXRvbwAAAB1kYXRhAAAAAQAAAABMYXZmNTcuODMuMTAw\" type=\"video/mp4\" />\n",
              "             </video>"
            ],
            "text/plain": [
              "<IPython.core.display.HTML object>"
            ]
          },
          "metadata": {
            "tags": []
          }
        }
      ]
    },
    {
      "cell_type": "markdown",
      "metadata": {
        "id": "IVcdwI-0-Nod"
      },
      "source": [
        "### Programmed Car\n",
        "\n",
        "Now we will look at a car with a rule based policy: Whatever direction the vehicle is currently rolling, the agent uses power in that direction.  Therefore, the car begins to climb a hill, is overpowered, and turns backward.  However, once it starts to roll backward force is immediately applied in this new direction.\n",
        "\n",
        "The following code implements this preprogrammed car."
      ]
    },
    {
      "cell_type": "code",
      "metadata": {
        "colab": {
          "base_uri": "https://localhost:8080/"
        },
        "id": "AMzYrqRy-Noe",
        "outputId": "c8517cc0-3e48-4495-88f3-27520d1463ae"
      },
      "source": [
        "import gym\n",
        "\n",
        "env = wrap_env(gym.make(\"MountainCar-v0\"))\n",
        " \n",
        "state = env.reset()\n",
        "done = False\n",
        "\n",
        "i = 0\n",
        "while not done:\n",
        "    i += 1\n",
        "    \n",
        "    if state[1]>0:\n",
        "        action = 2\n",
        "    else:\n",
        "        action = 0\n",
        "    \n",
        "    state, reward, done, _ = env.step(action)\n",
        "    env.render()\n",
        "    print(f\"Step {i}: State={state}, Reward={reward}\")\n",
        "\n",
        "\n",
        "\n",
        "env.close()"
      ],
      "execution_count": 6,
      "outputs": [
        {
          "output_type": "stream",
          "text": [
            "Step 1: State=[-0.52389396 -0.00100533], Reward=-1.0\n",
            "Step 2: State=[-0.52589707 -0.00200311], Reward=-1.0\n",
            "Step 3: State=[-0.52888295 -0.00298588], Reward=-1.0\n",
            "Step 4: State=[-0.53282919 -0.00394625], Reward=-1.0\n",
            "Step 5: State=[-0.53770622 -0.00487703], Reward=-1.0\n",
            "Step 6: State=[-0.54347747 -0.00577125], Reward=-1.0\n",
            "Step 7: State=[-0.55009972 -0.00662225], Reward=-1.0\n",
            "Step 8: State=[-0.55752342 -0.0074237 ], Reward=-1.0\n",
            "Step 9: State=[-0.56569313 -0.00816971], Reward=-1.0\n",
            "Step 10: State=[-0.57454797 -0.00885484], Reward=-1.0\n",
            "Step 11: State=[-0.58402217 -0.0094742 ], Reward=-1.0\n",
            "Step 12: State=[-0.59404568 -0.01002351], Reward=-1.0\n",
            "Step 13: State=[-0.60454476 -0.01049908], Reward=-1.0\n",
            "Step 14: State=[-0.61544269 -0.01089793], Reward=-1.0\n",
            "Step 15: State=[-0.62666048 -0.01121779], Reward=-1.0\n",
            "Step 16: State=[-0.63811756 -0.01145708], Reward=-1.0\n",
            "Step 17: State=[-0.64973255 -0.01161499], Reward=-1.0\n",
            "Step 18: State=[-0.66142394 -0.0116914 ], Reward=-1.0\n",
            "Step 19: State=[-0.67311086 -0.01168691], Reward=-1.0\n",
            "Step 20: State=[-0.68471365 -0.01160279], Reward=-1.0\n",
            "Step 21: State=[-0.69615459 -0.01144094], Reward=-1.0\n",
            "Step 22: State=[-0.70735839 -0.0112038 ], Reward=-1.0\n",
            "Step 23: State=[-0.71825274 -0.01089436], Reward=-1.0\n",
            "Step 24: State=[-0.72876877 -0.01051602], Reward=-1.0\n",
            "Step 25: State=[-0.73884135 -0.01007259], Reward=-1.0\n",
            "Step 26: State=[-0.74840949 -0.00956814], Reward=-1.0\n",
            "Step 27: State=[-0.75741649 -0.009007  ], Reward=-1.0\n",
            "Step 28: State=[-0.76581017 -0.00839368], Reward=-1.0\n",
            "Step 29: State=[-0.77354296 -0.00773279], Reward=-1.0\n",
            "Step 30: State=[-0.78057195 -0.007029  ], Reward=-1.0\n",
            "Step 31: State=[-0.78685896 -0.00628701], Reward=-1.0\n",
            "Step 32: State=[-0.79237047 -0.00551151], Reward=-1.0\n",
            "Step 33: State=[-0.79707763 -0.00470716], Reward=-1.0\n",
            "Step 34: State=[-0.80095618 -0.00387855], Reward=-1.0\n",
            "Step 35: State=[-0.8039864  -0.00303023], Reward=-1.0\n",
            "Step 36: State=[-0.80615308 -0.00216668], Reward=-1.0\n",
            "Step 37: State=[-0.80744543 -0.00129234], Reward=-1.0\n",
            "Step 38: State=[-8.07857026e-01 -4.11601033e-04], Reward=-1.0\n",
            "Step 39: State=[-8.07385855e-01  4.71170968e-04], Reward=-1.0\n",
            "Step 40: State=[-0.80403424  0.00335162], Reward=-1.0\n",
            "Step 41: State=[-0.79781884  0.0062154 ], Reward=-1.0\n",
            "Step 42: State=[-0.78877104  0.0090478 ], Reward=-1.0\n",
            "Step 43: State=[-0.77693768  0.01183336], Reward=-1.0\n",
            "Step 44: State=[-0.76238198  0.01455569], Reward=-1.0\n",
            "Step 45: State=[-0.7451847   0.01719728], Reward=-1.0\n",
            "Step 46: State=[-0.72544524  0.01973946], Reward=-1.0\n",
            "Step 47: State=[-0.70328277  0.02216247], Reward=-1.0\n",
            "Step 48: State=[-0.678837    0.02444578], Reward=-1.0\n",
            "Step 49: State=[-0.65226857  0.02656843], Reward=-1.0\n",
            "Step 50: State=[-0.6237589   0.02850967], Reward=-1.0\n",
            "Step 51: State=[-0.59350928  0.03024961], Reward=-1.0\n",
            "Step 52: State=[-0.56173918  0.03177011], Reward=-1.0\n",
            "Step 53: State=[-0.52868364  0.03305554], Reward=-1.0\n",
            "Step 54: State=[-0.49458997  0.03409367], Reward=-1.0\n",
            "Step 55: State=[-0.45971359  0.03487638], Reward=-1.0\n",
            "Step 56: State=[-0.42431342  0.03540017], Reward=-1.0\n",
            "Step 57: State=[-0.38864693  0.03566649], Reward=-1.0\n",
            "Step 58: State=[-0.35296515  0.03568178], Reward=-1.0\n",
            "Step 59: State=[-0.31750797  0.03545719], Reward=-1.0\n",
            "Step 60: State=[-0.28249985  0.03500812], Reward=-1.0\n",
            "Step 61: State=[-0.24814638  0.03435347], Reward=-1.0\n",
            "Step 62: State=[-0.21463158  0.0335148 ], Reward=-1.0\n",
            "Step 63: State=[-0.18211619  0.03251539], Reward=-1.0\n",
            "Step 64: State=[-0.15073687  0.03137932], Reward=-1.0\n",
            "Step 65: State=[-0.12060626  0.03013061], Reward=-1.0\n",
            "Step 66: State=[-0.09181379  0.02879248], Reward=-1.0\n",
            "Step 67: State=[-0.06442708  0.02738671], Reward=-1.0\n",
            "Step 68: State=[-0.03849381  0.02593326], Reward=-1.0\n",
            "Step 69: State=[-0.0140439   0.02444992], Reward=-1.0\n",
            "Step 70: State=[0.00890824 0.02295213], Reward=-1.0\n",
            "Step 71: State=[0.03036126 0.02145303], Reward=-1.0\n",
            "Step 72: State=[0.05032465 0.01996339], Reward=-1.0\n",
            "Step 73: State=[0.06881648 0.01849183], Reward=-1.0\n",
            "Step 74: State=[0.08586139 0.01704491], Reward=-1.0\n",
            "Step 75: State=[0.10148879 0.01562739], Reward=-1.0\n",
            "Step 76: State=[0.11573116 0.01424238], Reward=-1.0\n",
            "Step 77: State=[0.12862271 0.01289155], Reward=-1.0\n",
            "Step 78: State=[0.14019808 0.01157537], Reward=-1.0\n",
            "Step 79: State=[0.15049133 0.01029325], Reward=-1.0\n",
            "Step 80: State=[0.15953507 0.00904374], Reward=-1.0\n",
            "Step 81: State=[0.16735972 0.00782464], Reward=-1.0\n",
            "Step 82: State=[0.1739929  0.00663318], Reward=-1.0\n",
            "Step 83: State=[0.179459  0.0054661], Reward=-1.0\n",
            "Step 84: State=[0.18377874 0.00431974], Reward=-1.0\n",
            "Step 85: State=[0.18696892 0.00319018], Reward=-1.0\n",
            "Step 86: State=[0.18904217 0.00207325], Reward=-1.0\n",
            "Step 87: State=[0.1900068  0.00096463], Reward=-1.0\n",
            "Step 88: State=[ 1.89866699e-01 -1.40097760e-04], Reward=-1.0\n",
            "Step 89: State=[ 0.18662131 -0.00324539], Reward=-1.0\n",
            "Step 90: State=[ 0.1802576  -0.00636371], Reward=-1.0\n",
            "Step 91: State=[ 0.17075062 -0.00950699], Reward=-1.0\n",
            "Step 92: State=[ 0.15806452 -0.01268609], Reward=-1.0\n",
            "Step 93: State=[ 0.14215428 -0.01591025], Reward=-1.0\n",
            "Step 94: State=[ 0.12296794 -0.01918633], Reward=-1.0\n",
            "Step 95: State=[ 0.1004498  -0.02251814], Reward=-1.0\n",
            "Step 96: State=[ 0.07454432 -0.02590548], Reward=-1.0\n",
            "Step 97: State=[ 0.04520109 -0.02934323], Reward=-1.0\n",
            "Step 98: State=[ 0.01238081 -0.03282028], Reward=-1.0\n",
            "Step 99: State=[-0.02393774 -0.03631855], Reward=-1.0\n",
            "Step 100: State=[-0.06374985 -0.03981211], Reward=-1.0\n",
            "Step 101: State=[-0.10701638 -0.04326653], Reward=-1.0\n",
            "Step 102: State=[-0.15365517 -0.04663879], Reward=-1.0\n",
            "Step 103: State=[-0.20353302 -0.04987785], Reward=-1.0\n",
            "Step 104: State=[-0.25645913 -0.05292611], Reward=-1.0\n",
            "Step 105: State=[-0.3121811  -0.05572197], Reward=-1.0\n",
            "Step 106: State=[-0.37038452 -0.05820341], Reward=-1.0\n",
            "Step 107: State=[-0.430697   -0.06031248], Reward=-1.0\n",
            "Step 108: State=[-0.49269726 -0.06200026], Reward=-1.0\n",
            "Step 109: State=[-0.55592894 -0.06323169], Reward=-1.0\n",
            "Step 110: State=[-0.61991854 -0.06398959], Reward=-1.0\n",
            "Step 111: State=[-0.68419574 -0.06427721], Reward=-1.0\n",
            "Step 112: State=[-0.74831453 -0.06411879], Reward=-1.0\n",
            "Step 113: State=[-0.81187274 -0.06355821], Reward=-1.0\n",
            "Step 114: State=[-0.8745285  -0.06265576], Reward=-1.0\n",
            "Step 115: State=[-0.93601224 -0.06148374], Reward=-1.0\n",
            "Step 116: State=[-0.99613377 -0.06012153], Reward=-1.0\n",
            "Step 117: State=[-1.05478458 -0.05865081], Reward=-1.0\n",
            "Step 118: State=[-1.11193604 -0.05715146], Reward=-1.0\n",
            "Step 119: State=[-1.16763449 -0.05569846], Reward=-1.0\n",
            "Step 120: State=[-1.2  0. ], Reward=-1.0\n",
            "Step 121: State=[-1.1987581  0.0012419], Reward=-1.0\n",
            "Step 122: State=[-1.19427021  0.0044879 ], Reward=-1.0\n",
            "Step 123: State=[-1.18652173  0.00774848], Reward=-1.0\n",
            "Step 124: State=[-1.17548846  0.01103326], Reward=-1.0\n",
            "Step 125: State=[-1.16113808  0.01435038], Reward=-1.0\n",
            "Step 126: State=[-1.14343234  0.01770574], Reward=-1.0\n",
            "Step 127: State=[-1.12233007  0.02110228], Reward=-1.0\n",
            "Step 128: State=[-1.09779103  0.02453904], Reward=-1.0\n",
            "Step 129: State=[-1.06978073  0.0280103 ], Reward=-1.0\n",
            "Step 130: State=[-1.03827616  0.03150456], Reward=-1.0\n",
            "Step 131: State=[-1.0032725   0.03500367], Reward=-1.0\n",
            "Step 132: State=[-0.9647905   0.03848199], Reward=-1.0\n",
            "Step 133: State=[-0.92288452  0.04190598], Reward=-1.0\n",
            "Step 134: State=[-0.87765038  0.04523414], Reward=-1.0\n",
            "Step 135: State=[-0.82923273  0.04841765], Reward=-1.0\n",
            "Step 136: State=[-0.77783078  0.05140195], Reward=-1.0\n",
            "Step 137: State=[-0.72370164  0.05412914], Reward=-1.0\n",
            "Step 138: State=[-0.66716026  0.05654138], Reward=-1.0\n",
            "Step 139: State=[-0.60857514  0.05858511], Reward=-1.0\n",
            "Step 140: State=[-0.54835959  0.06021555], Reward=-1.0\n",
            "Step 141: State=[-0.4869585   0.06140109], Reward=-1.0\n",
            "Step 142: State=[-0.42483166  0.06212684], Reward=-1.0\n",
            "Step 143: State=[-0.36243478  0.06239688], Reward=-1.0\n",
            "Step 144: State=[-0.30020009  0.06223469], Reward=-1.0\n",
            "Step 145: State=[-0.23851824  0.06168185], Reward=-1.0\n",
            "Step 146: State=[-0.17772322  0.06079502], Reward=-1.0\n",
            "Step 147: State=[-0.1180812   0.05964202], Reward=-1.0\n",
            "Step 148: State=[-0.05978395  0.05829725], Reward=-1.0\n",
            "Step 149: State=[-0.0029466   0.05683735], Reward=-1.0\n",
            "Step 150: State=[0.05239085 0.05533745], Reward=-1.0\n",
            "Step 151: State=[0.10625911 0.05386826], Reward=-1.0\n",
            "Step 152: State=[0.15875332 0.05249421], Reward=-1.0\n",
            "Step 153: State=[0.21002575 0.05127242], Reward=-1.0\n",
            "Step 154: State=[0.26027822 0.05025247], Reward=-1.0\n",
            "Step 155: State=[0.30975487 0.04947665], Reward=-1.0\n",
            "Step 156: State=[0.35873547 0.0489806 ], Reward=-1.0\n",
            "Step 157: State=[0.40752939 0.04879392], Reward=-1.0\n",
            "Step 158: State=[0.45647027 0.04894088], Reward=-1.0\n",
            "Step 159: State=[0.50591109 0.04944082], Reward=-1.0\n"
          ],
          "name": "stdout"
        }
      ]
    },
    {
      "cell_type": "markdown",
      "metadata": {
        "id": "eDSKmI___tEl"
      },
      "source": [
        "We now visualize the preprogrammed car solving the problem."
      ]
    },
    {
      "cell_type": "code",
      "metadata": {
        "colab": {
          "base_uri": "https://localhost:8080/",
          "height": 421
        },
        "id": "_FyIrJokfDA6",
        "outputId": "58480919-b205-4545-982f-5d726c0927fb"
      },
      "source": [
        "show_video()"
      ],
      "execution_count": 7,
      "outputs": [
        {
          "output_type": "display_data",
          "data": {
            "text/html": [
              "<video alt=\"test\" autoplay \n",
              "                loop controls style=\"height: 400px;\">\n",
              "                <source src=\"data:video/mp4;base64,AAAAIGZ0eXBpc29tAAACAGlzb21pc28yYXZjMW1wNDEAAAAIZnJlZQAAnvhtZGF0AAACrgYF//+q3EXpvebZSLeWLNgg2SPu73gyNjQgLSBjb3JlIDE1MiByMjg1NCBlOWE1OTAzIC0gSC4yNjQvTVBFRy00IEFWQyBjb2RlYyAtIENvcHlsZWZ0IDIwMDMtMjAxNyAtIGh0dHA6Ly93d3cudmlkZW9sYW4ub3JnL3gyNjQuaHRtbCAtIG9wdGlvbnM6IGNhYmFjPTEgcmVmPTMgZGVibG9jaz0xOjA6MCBhbmFseXNlPTB4MzoweDExMyBtZT1oZXggc3VibWU9NyBwc3k9MSBwc3lfcmQ9MS4wMDowLjAwIG1peGVkX3JlZj0xIG1lX3JhbmdlPTE2IGNocm9tYV9tZT0xIHRyZWxsaXM9MSA4eDhkY3Q9MSBjcW09MCBkZWFkem9uZT0yMSwxMSBmYXN0X3Bza2lwPTEgY2hyb21hX3FwX29mZnNldD0tMiB0aHJlYWRzPTMgbG9va2FoZWFkX3RocmVhZHM9MSBzbGljZWRfdGhyZWFkcz0wIG5yPTAgZGVjaW1hdGU9MSBpbnRlcmxhY2VkPTAgYmx1cmF5X2NvbXBhdD0wIGNvbnN0cmFpbmVkX2ludHJhPTAgYmZyYW1lcz0zIGJfcHlyYW1pZD0yIGJfYWRhcHQ9MSBiX2JpYXM9MCBkaXJlY3Q9MSB3ZWlnaHRiPTEgb3Blbl9nb3A9MCB3ZWlnaHRwPTIga2V5aW50PTI1MCBrZXlpbnRfbWluPTI1IHNjZW5lY3V0PTQwIGludHJhX3JlZnJlc2g9MCByY19sb29rYWhlYWQ9NDAgcmM9Y3JmIG1idHJlZT0xIGNyZj0yMy4wIHFjb21wPTAuNjAgcXBtaW49MCBxcG1heD02OSBxcHN0ZXA9NCBpcF9yYXRpbz0xLjQwIGFxPTE6MS4wMACAAAAQiGWIhAA3//728P4FNjuY0JcRzeidMx+/Fbi6NDe9zgAAAwAAAwAACNCLwW1jsC2M+AAAJZAt9C+gGAAN3dq5XHPUJqMQ9STIE4h5i1p0ovAz2D6+0y6GAp6iGk03o7xeeJnNFlP7pyt72mmO8alQPFkcQS/hupH7h4mJTeRhtQk621kLNt8RFPKKRW6wQBeqa/bIUz2QUD/5/AKR9JghRtwUcbJYDG+GJMPfc0Z9+Ky2ZULlDK+ObhIm0waUlSDFaiGatI7Cv9YYX3GwANdOvfJULx5gqPt4GHqavREAVJQU2iOKP5G+WttIUpCgmsc99A8Dcsc4NyqwXB/Wn1HghqJQQTXBhrqdl+eCJeXRZ8bhBdBnr0sWP5YVPan+zifC1CRYcA7fnq256iVjYkyvp6grqbaJSiuDI5DbujXnFly7nle/W7NR/1S2Vof4k+CO61XnSIdtvxgWBwUWA46h0k1oBtMIQvNUXU33AM8G80Ey7IIx18o8b2mKF3zbUTMnFoBoXl6eDPvaN5fHuWZowtenf+WYDl1jSre9SqRT06h/6ZRDv7xTAHJNq6qxYSI0NftlMttSAzKr+nSofw/95u7GewZDF0yP7yLs82zMDY+0kJ1m7wus3HJL/RKeMZXAAAADABOd+97ZsfU/AetTFlL3eGUPI3gGHjOnAH31e4cNjmvsmesMTTM4eiERjIRWvHAU2TClT9QN4TxKLEodabOQADnwf0FnYOL2zQOiHdi3H/i0RT8Z6Q0OufexkjrfnBX8Ml+QdWQhPTOOVmynP2U537Z3NDuWSSw0CZz/THyMceaGg9XQ76ezrOt+G1EjwsVV9mb+q47cAwK/MLgHGq7Gck3N7ogAwAQ5YaQCO+lmuiUbPjz/Yd02QKOIDdL3mSY6VuxGFsKBYO8f0SRO+qjpT+Cm0RfoXnFLlFhjelV7VI7Aj+kvvWhqqdvsZh0oAjDuA/KteGfgQh2a4TwEB+IGv2Gkdqv3xJ9lIxX/3yowxySFuZ0+f1VUxedtXp5HyDwABORx1ZrGd+OIhIS8oWUL2EdmLP7P8IXICbCYmyEDV1ApwDnEiEFKoBVI7Zjll3KcVGMmcEDgBRlXZlJsPyA8JyP6fGtElmhHQ+E10HJ7Thld6rVLs/sbMDcspT4yhVk5V/cdobTn/kQ4ShBbsn1mFiUmUBjTYEwVOB8nRWYZ+fZRorSg+VbVzJwEziuojDaBme+4BQmK6S3hmx04jcjPXejw839OdX/0emPwxp6BBehtubLMbrrq+Kem0x/eRuI7IEeO9nvalmIHwarzjaNA80eco7v8zrqhCDQXtvbIBJZdISniHDToD9Vp42mUm6kHhfrXqeY8e5YvE+3q1aw1I3K58e2Q79VN900UgWF18QdfpQIPLBATdwg9uAABXVn0g9eAwYBDKBh09jReeRz/kgP9MBDPYe8dOVtgfULjZd9klC4VecBUoXp/+/Nxr25nUt3LNWyjZXfLHXhCqmA9rATdu88/aPY7n4+AGAT+ND337i/gEtQ4dRrGlDk61v16gcPogjUgVwKx1S3Zx+KKpV7WAYRfFTmnMBoGh+/rqA36lUBu8wIXFD8KGhlAtdrRoTlTqwsVDMspO1rMsY16Mzy9vKOik5cvigHNWkJYSI2kzf5xeYjU4G1qNAAAKeEh0P7f6H0DmPODvHjYSys6p7vhKP5r9wdkl+uV3Z6xqWa6/n2i3CaCbnaxxBF7rWQRZG7cyiWHlKfnkVk/FPmeB5yz60PqeexBVHUedbqSlUIFFn46vItwWNB5mdT+0Hk5XiCR5N6YJ60eWMgNuZunq3KmlwOgSF9IZFvTE5YmP/E+DqWFW25g+H8JrIC+4qVZU8h8qoFOEntb8Gan5nCwzXh2Cf1XJXipmQgC9UwMeE6iorSLm3mlsdcv1bA+L1Gxc51Egh7PKoDfoCfAMSh51NH/4r+nsBfaKnmjiSoxlIz6n6NnLJ6GZdgledksv2OEQ99NWzpFDN5fzOMEOoKSkP8iP1XiTAEosYw6eQtMq51ui6y+V8oEUBVHNLLXqOHl1oi/oYektmOyxg1Hd5eBPwgMQPWCYVYBQ2me0z2N0q1CmVfXrRQVszshaKzTxwLV0jPYm1Zlc8FsKyCo3pWKDEzPfx1B2sPBA4PZOmgMkq9HGsKIc5Sh8FXCUq8Iyh7v8ectcPz1hINsCBKl8QDSpbpcn5tIQBudtD7yaSsVO8xw5o3W2w8pAMcq/1an/tPs7NuJBW4O7gS7Ell7CnYIIZ9MO0OP1chcSVMbY/7+wVQ3c1Ph0CS5DvhM9iEbuhggBGVX1/BkWed0g1XrynA1m7mAWqZ34Clk+OlFhF4Xr5DM+q+Df2FUpysy1PHwPWh3Bd7Cki3d/K+SIDBJFHYxHM1tdUQ9P8ACdSHBQ42cYV6Ner4oK0o+2bcghkAIyh3zSC/X7GbWlLV95QLuvuZBxFSdTaYvSj0r2uByPQjOIrZHfhskOhfTZLNV5v/I+31vwyL4YwQr4BKE9JWHmxPEU2NFd2AQJNUpReb92cAt6hVXu12udLBXx+UfDnO6NARPTnYfwOZogS2uprKQGAqrqBMz0s6xAOG63e21z3p5AVddb+mqmUmelJz7GrVSz4MX+3DAav+U4IzJ/vfFD4V8bMz2iSD9RfPh2hBJaEn2DVku7rloC52Bf6czw4OegTryGK6hHumSJSD0VEmRRDqwj1W2uEYxgZ5nWiiZAnV/dNw4FBpjDYnGf0eoeCdV8Pf3H62OcAeLd75SYQFu1GDX+cMtaUuLwZMDCOr27Rb95Ax14Ok4yS9rVDbjdn+xXIL3aPCmFwpGiWj9X0IAjxkwPU5Q3DpSKwtnn1hpQAHb7VRd6vLWiquGKNsKhnYAmqdfD848xffseLvyWSPeoFhgZJm7pWnP7RsnlEVszor19i4JaG8SpB6oHAma2sZ+5mZ3BentE3Y5BFC/70Fg4nzcSfH+WEgaTz5RnCIwdZS7qXK484xv2U1QNyiL4lRE8MTm9Z9f+DsLRbSH44Xu7NU7itPXcZR73YXvsqQ/M7WMRp21Afj81jrXodsb9Q04y5Z8/rfzIxuP2ir8htD4I3KKxhmLWsfJjcNtd2OAF+Zu0Xk5asplaF0bDEq1Cl4fZFiqHaNzYqF9z81GWGdijm3fz3qPOQB5NMyT+R2ZsL1jGzD7mbzD3bLkTwoyXEZ8V1q+bZIn7RKYn1tvfVleNiAljTjLegyZQFap55cGC4xC0w3QTTn5yjqNeypmTUB0Nz9/bvk0H1fAwGyw1TC06BFNQedySTkKA+xEaB1s+OtPf8vNkXpX5Fjuhbil/Chk3aYjNnXkLbBhkP9lap4E+ihO27dcATbxoYiZBkNewn7RMoyWyUZnA8NGvJK1xqqCzC46d/zvFAVORiJ3h7T6vpgcDN3ReYHcNm4Rs7EJoFd+h+KYOvM6/67X1RthlbF56AJvIQ+MajL/GbaV3P6jGocoZNP/yk29MXcOXyHSixHZN7O+LQEGV3nun7YTf/97b/vo1VOAa4IsQ0lk5KlWt5o/dSGxhBOYEiIUYvxJ12GcFcx/paQ7paP87MjAZap+P+83+Q4VS3eNSfqbgdpP6K4E/0bqQdF5dJR7BaB6+Cfl/pHAAGnvC5dxSwZQ/USFks/Jy58WdOUDvVew2S7RaYhka0f75w83bkOjcm39m1XJQs3Lwnvyl4LvXNLo3SQqH+kv90wBF82nuYhuT/OHnWDEiTJdr9jPW5EXSuCbhiYI/7ArKem3YqEtcoepyX38xzCcOeWw/b21FwV4w3AglAXiU/HHy3XP8Q30ulmp/dZdr17Sj7Uo5H6AniyLVct9H/FefJjOO9Q7V4rRBuqJhnYYka0DT/128VnaPLbpAyM7UmoBjeWJOV1FC7fnAAEUC8ebGlie2A8ttljQRa9853NtBJo8TzOAGccfryT/RCX+KuNLf1VnJWN/yLjBCBSQqE0y0evfvtRXDUgcSFd0Z1L4atfYXv8p9KnMn8kac0oCRnc5ELxb5fJ8Gc/BLRpnngei+27SViuoO18rmoZfZ5iBqDb5wjfRoEmsHJq9l0M3sknD+wGgoh9Pxwlfn7XlVLp06U1Ov4sN6XwdVlBAx5lEncPMU7+3yyp8e+2w3swMNS/Ht9iQDafRMhcMS3TpXHEq+u6LWPgQQsJ+tKKveh0nE1VAane0pwAAAwDJcOncLZ5JDBOkDSCNoI+BgW2ZvWZni9sOftxm6tQCMFNBOj4JA9tfzIlbtsOk/ElvUSOU+5NmzB1nc+lKOjVhZVJSOUrJN7WZ8wckc1PJWAbjnuonaTtW1DCmGpAWuRljD6TP8B8Nl+LhAvyty3kUZ3g7Q2BAO5Hg0xPHV9jOGREr++P0gh45qZdQ8MP0C8vZsd7xKhpdV+4h9fql7kxKz1IIg8xKLlzPcW9C+Y3oXcMEgjwgmItXTvGChZhS+vEWHUWLE30dvbRTWk93drBS2x6IV/RSuypTSVrY9daQAIjWZ3Ol91t2zbyxxP5KRmQsba4zBGko2N7zvhR1JCXk6e/V1vWdyWDjH4Suof48bWN1O6+FI4M/WkiPGGRnMQ53ULu2PMV9UgYHhrE0khM9OH6PuefNoennxU+26THAbytMDsPE9ID7K0OXRllZ7R8+0KI67ZMB8eCPC+gG8vEPUdcf6J1RIQvSvO0mCptmiZSGbOB3KDEu7/f50+hRju9GLWc0qiUFvU9vapnF0Hb039/9PewQJwMFPmfZvuGZyYHjIvsxo93+Qe7NOTt32j/yOgDMPnWf+9GJJnEVSaC1qadqPmtVifJFolaDEfiGyRqH2e9jeupaARFPuao/ycIQTqXLhrMrL9BISESvDAHmKHnOIrW9TjO1PqYHzyCXV1cjXTtkdxPAs4XetSL12rvtvnmX4qZn90cvUbQErTIgGXmiAERgbH6xaq7jGg4UNSv8Ic6jOPqF6dhIDyrFEt4X84iAHUAAA7/+hWTq6pz01bEEetOCTMvlueBttakt/Jl08XmCiyc2ZZ+IXlKaqInFzeOc4vGRHaUcwMIA0rVOQE4Tb+L7X9O/zyUAM6nddkOS5K/mY6dKYTTAwG6636qoj/TjFH4cjEnubvQGDnqxwPVtrkm2+SUQgyDkFkVP8jMn7Lt64Mf1N3oFbhOkIBUufE+pHv83COsNtu/9PlhfIr/knVf3/cJwMJauUzBALvIvQcItCZdChCOnOrBmYuuQBaPOFABmjvgI/ag1bOqSOxSAL2P8/s0t/lvSQiPkWY6MZFiRbJWAH4CKWP6QcDfVKRRceDvF2LI+qID51BMZVulRJVLja//JUYWfZcNjfEVvo/Amv7y85/TZGCVfEOtyn5+G5btDBwa0gNWorKRbZhtzIdNwakCylXGwpobanOXh2lDUeYFjKv67vCZhg16RVEVLFNCBtl1HOIpzQoIs4Ilp6BdZgh3sfxFJ24Mq3Kx/MykABhpoZZiHRRAPXw3DCxDAYlEmmY4V1+u1cQ03gh3NTuECMQB2CU7I6kLm1ALNkiVkRMGNkmdhe6kN3R/K7jonoOiduPBbGh+C5InjOEF3I4I8NX/heQggcSNR9EaxZjYAEx6Z/7kKEZ5CAl4Cfp+l1sx5zIti/DGuldoc12rYChjIgwFyAHJBAAAB6UGaImxDf/6nhAEdmuEgpgDgAWHXFjUdjTaZPezzaVkTBBILBubiOBUBF+FWZ1iy6p5c0+1xU0NF3qazS/0C0xguHTtTKpO/JHUa3FvHTem2T7Uk2tvZkKXBuWccQYOSwk19agzoFsupK2M8gYfHhF6Di/jpZ15fZTl14FUHBhz8R/bM33+nc4vEDsiXTQLusZrK0PGKawr+cLOWqcETvaN/izsUDVftOItABKAECHZvf/Eql3/6EMKleCjZ3T0+KnaSIQEhCLiDhw9JuEvA040auNQrrskL9wmHo26YcYDNquIg2wLgf8VWaMIwncuFfkLBtTNOmm8tzM2iS10/MaYUKVltLeOlPDvd6laKWMlNV6LsjWttf3bjaj6uhMuXiU24m5Cpec3POb6EOYty3UBGwM81HkSREkZc2TsB0KBdhNtTT+63M5Ixigg3gfkqLWXxX56pGeawpQUptdO9GZAMV3F+1tgRLSp3Vd5cgRNacpla3Ubd2qQzgbYybwOxP+W8T1z/L/iq9xqUg+HXNTzfHLeDmWoBbJaOumTJEiFds8ECWiMZGL1luNcucEzyzHvrL8HfgpVNzX/xPMo/l/hNqzVMVVQfRtnshn5ksiSdbl3jN9P373M0/7IArqwJUEmSM4isMCQf8AAAAIIBnkF5Cf8AEViMckY/d/bn9TekaupjSJO6VLwc2qMQskz8oN4Xh8FSchCbgZNt6SQIc3DNPWwGHLqOLzjXrqSjgBChMZzhAN9b7Of3o/z/T9GbDq1RG6SBgCroRgBQU5NrmKMJJNxF2mu6re9uHGEEMZAyNIf3sZ4cqJqBmPAZMl/BAAABJ0GaRjwhkymEN//+p4QAK17wn+P97L7v8+0aAB4cv4LreoAjw+Zyv2qOKDQGj24N3Gyd++y7eN9Wj5ihpkc+TatyED0UxAgRgi9jc0Ad4S/QbwOfmdOr6cADk41vV5ca8T3rCJuFGPtLAIpdDq8fpzsElIjy7YBXxKJTqlYUXBYlGtzFCJlt4Z1KPA6cHJFpbf/6EvbDQpGV1n//mb4AQt5rj088QHmJU1bw0+x5+48mj0dfwxVqtSkIqRZqPSy/PfG6eMvV4so8USwv61zsH1fFzIMdnC+/8Ietya/y34FiAjSa/nPxteeILVgsyDIhk2K2e/49xX3lcvUmuhj6aJoPAXHXY5zluQ/TEGEox2UH3mZrMi7B84RNXuR0D8dMMjLqIcG6wcAAAACEQZ5kalPCvwAisjuT+n3tV7XmZjcWYMB5RoUIM7i/6Jk6ijwGX7iie9egBM3dpgoMWRAcAAJt6Ykb9Xq6J3Oi9Ykle4AhbV2IBhqwupbXxG68YTBx0fSr44JDFDXUKitSq6fhhkebHM9SFoQaydMjdk3RlcLjpIOZLSH032pFNnieTJaVAAAAWQGeg3RCfwAGb8nvIuzyTzfG/QU5lvnrKboYr1xgAnHO/WBZpWsBCg3Y8+a/uox3xscFdYxUIcFXeoej1zmQjayN2WJlERD3lFjE96MCYP/fYJXbvrmpy5uBAAAAewGehWpCfwACj2/ga6YrhPqN7GhS+twwAB2RW+jQcGkSdh9wmzchlyqftr+3F3kb9CcVCr2MLitbaJGFXphFLw4hcrBXOjsoeeaHmxbZ6ImJKAlnAtFz9etENtFc+1wHXT11PDjoCQS5xTbJfUYs7lOp57xMHCJ2Fu1uwQAAARNBmopJqEFomUwIb//+p4QAAAMAAE+U9i8NxzerkAGWxyhAMA4wW8MZRklBS09Fc6uQfUP+thVjHu8X51f6JKdZF/vS7+3WTv7Ja7n3n+L4fx/A4gybvcmdrTg5MxVHfd9PsV5+e6BOYo+/XBym6CAGrRqmW4/zpvFFpdD1LN9npgY787K0ex6/sK/jxWzZ6WpcyGCXPkvq/yWers8KLmgPY2axphWhxjkB7x4TICdM4Cyc/0mlcQVYAj5BIhqXMDqjyov2+jH13kRgEX4bn5UyaXOKpoZW1OVxHJovaHnrSbJ7FaRY9RlQstA3ungN0kY3VwcBiA0iioaBpJA2yvHlDdhNogEPbUTqZsy7dgam9PRWgQAAAJpBnqhFESwr/wAB8a9EX66BsJMK0O3NjOQFAPKSrb+H+STEpW1ZyeXPd/3YADajQ4rvNhorWXavxLpDZfVPNqbEapnrtH5YHgmO/+3/De/9BIXldCRnv4RrgA7VuSJNFRt0Tbs9RdcRbRV/C7n/kq80OdZIIVijAEb7OX61reF3PNa/m6aNTkiDspZm5ZrdzrZs1IjZQuSx3mkpAAAAiAGex3RCfwACjoxq+7G2CKQvNd0Yn4UMGCSFeRwAB10EKk3MQi3x1maN6qbckJAw5jSIbq+NHPfA9okyaMZ1f23ht3aftnWDeJCx6ucX1sZjVmE3ebhGIVdpUGqFFmqAywFP0+w7J9jAmS6nnC+cpqav1hBy/QJAWki3WHt2uOaTlnYlzKfbmlIAAACkAZ7JakJ/AAKPb+BrpiuE5nMm1fkHXcAIUWgVSmWrVnksEIRJ/xWjl7lZ//XDNQlW/xj4my+AP8hPmjKFJMLN6KEYrE4iDyhNnrCKoZ942k6KwKJW6GHYu74Fc1ivsqwAFl5vTe2FaWPV0w6lEQX09FOFuBC93Mw3W4nk+SN4joIn9Sv64HgeQ+Zqi3HCtLt+DxHSXiUQB4sURLGZRip6MBexcoEAAAEzQZrNSahBbJlMCG///qeEAAADAABSF713f7iyADUBZUTnpXb1PrhhY9c/MVFhwm4nFPdKKHipO3mEANUAKsUkFTklR/xpz0oSgEn8yZajnWSDLDV5HCPAy0vrpK5S4edb5PSjMaXTcHDOaRds8B18YII4lJkBqzEzN1omGrz/s4bgmZzDoxRX4+uiqk7+/qWV1Pm3ZbS92ihejlbcwtIJFT7CWUQ89ypqy3gH8KC45n+mN7lkS6kqAM0v6Oow0VKMt7oPzmzTcYfTn49X+KfV88+fo1qidt+I3Jjl5X2chl7MuI8VGOmnD6cmkI7t/o3w5Q7QR8+kVa8LvRPObdAeCbbDLZetAASzC02Jj8xtOCNWpPACate4kV/4iHGA9xGTJePZI0dDkUlcXS9DvIdLTARUgAAAAMVBnutFFSwr/wAB8a9EX66BsJMK0zG+2CK/4DnwFNn8kqAEKL/CYM274GoJFWm1lIp5xWmBGWbwYww2+uf7AS7lIWEeRkFIsEoUmPwUwY9muxPGmGm0wwIcyCBohMSu3aJhAy2SfLGK+FWjPl4NgEZ5TraYBdwK6ec1JRwPEhw47/FyB+FOgy8Lbi3k8mD6OLZWQKxxG35bL0PQOk8JbDtcbz3LmX8Y3Sv6vQ15Ds7nouwWBOnVMT6eYNPxlGjfKmKbqLCaXgAAAJYBnwxqQn8AAo9v4GumK4Uf9gZC3qAEFmnAs8KMNxT473vG/5eNyVdh6OSscDJziZo5eyxyS2fTckxU+qhfkie68nqWYp6UT+IXzK56zOJW82ruKmc8OEg/rs9QgaX4+ljd77VkK6r7jIZctme9F3F6M583XGPh8cHGTUSzX/kJQHtg5KPMAdg1Q87n+SjnHcXkCae3Y5UAAAEDQZsPSahBbJlMFEw3//6nhAAAAwAAUgrEGSGezJWkAFSear8sfCkVdGboqSt0NOK7ZF9M5iVIHZAJC94XHOGtbiHL8otjBDjtrusMVGVG3ewRglnJmSKwIjWL/SvSZDd16qmoBxWkYx7GctCEpsfSTfScDsbLnn+jmeTmItQs7byVe1kjf2BCa6+OFTffCsbHCEtzbVIstM5bHiAzOAMxXqpapZPwbw445W2bJ+yGGbTJe+eIfy+bxeZvAR6n7gsVdGFhEiN+VAtEqJ0q40Lp+jHufDf4GuRm1gzDnkMwsqRwqCT+VTiR+UOqmMdkE8bkNK3OnISFHpNsoEapkU6GjHnpXwAAAK0Bny5qQn8AAo/m/eLlRXFQ2uF/hYx4zjPzNAAOs56Ik/eDC9ry+1At6D91l4RrmFQBk0NZPMbCkWo/9LTp/Oq3y95riYrvPW1UFxsVvV/7oriVRf4NTYb9ojAPqqBinNMYVRBtoFuD64FVCEZ6IkTlXUVxophy71PCiMCZR5NtupHvXF4LdKSS1Q04zPoNY0xUJblH1RMH2PSZ0UFuF+Zwdrk/a6mA/nBOfE5UgQAAAXZBmzNJ4QpSZTAhv/6nhAAAAwAA3TCkwpmkJACWUBpSp4TXzQ5eblbm8Ykcwiub8SgpZAquMrsdnY2aO6x5DUz6utl2VMoX9Yde9vk00H+/tOtDEtP8TgPNAbQ3iQUaI11v6EjVbl+uvMN4PwliSC1aEbVGK43TLv17BXndY0CdL88yCrWnO+bVIBMOqNUFAsIsgQaTF5J/mLcuTMycrfLtLrfLHcfiSxeAu2UMZ7TmdipUXAK7JxyoguJ0lTNxmiLI80LKpTpWuCINtyAwP6O8zIOc2f+xrfOk2jn9PXvOPii21bzlWvrsRNnlG1oPBEh8qYTBcnAKiNw1M0wT9oJXd0WQAnc9sJx+sqrV79oGhylACUK4er3fUpYI+mJoktYDQG5bxJ1NsnBYE6YuqmlWA0r5XWX/uYYlqiE1Jw7MSngRjt0mqoJ/df2/bywfQrg7bEDLZaZs7e83ycvVIgIlIzJWSgNxZxCBK3kY7l/IMfU85fr3SAAAAMhBn1FFNEwr/wAB8Y3YDXrDIITZnVZwPef8/HZoOXRACD9UdhoiordeKUNNuHb/OA4R2fiQL4tU1etP8QqhNmhiTO4paQsTUC5KA+71iIcljkQeRFujDu5jBCwo+S8yGfweHFD5XO/c59ckT6s2ecC6TOmJm0LM3xUUjIr8M9dM6DhuZsPjHRoghNO1Tqb07sMfwWDcdEGsVV0FCKobTloZ7rTSqotfbvUyp18JgUQzBh59/lkWptQi21OYBnRYNWEOowgLbn4FzgAAAIcBn3B0Qn8AAo6MavuxthfrMi/NNFq3sCaOgAXyP9Evuq653FFWymFdFXy0uY+PKWPvC3/U3DvmhBFnrdJKD+wgLu41eK/5p9SYRjT0FYdPkVxuPyGKOQSPbHVn8tztpNG5kXdgySbiT14j52gLWLMapyLEbQsSY4bpbFyK3dPYYawKthrjFAkAAACkAZ9yakJ/AAKPb+BrpiuN0vHpXIgA42PJm6zVzaXkMy2uQwUoBll9uL9BLb0Oi5QPQriKPguSnunFcy+at4Wp0R+3F0HwBL/jp6hGFqeIKhybDWE1eQH4TELg6VH/ynZyIeQ1x2Pb5EwC/1OT6/Zd2S07qjATe41nBWVa9rUx6WLXZ0c0cXFWN8ADLj054m/luPlHDNYVYccy+zxI08irqD5r9IAAAAFgQZt2SahBaJlMCG///qeEAAADAADi98MLlhsgBMyJnK94oi/oZJ3yPqONS5bwu3ULn0+sbkZrcgZovyPnOcIdR0RdIU/ccRH++fNVD6GMhUTkrz9jVmKTi/qnNSOC7VfU1/7UHBHCg5d2ulCr69gbk2KWgNu3u4kDUKIKMPKGGVqDvkD6aNPpE2zFogeO9Dxt2uWS2vHihDQZkIxPCe0mkhUO5VCl8UDhBTGJyXf8Qh1YsiJw59KAM7u4wFZD8whtOSsOBVYvnSwFy2T7us5oAhIhgWEFjWKUUNBRDVxAAmEpeuvCO1OGjglNoWRME+mtwXySMSXU54mAG/hVvtAblKT5torwvcdhInyspmHZxmK/maYM4efWuhzqqYvSNBq0bM7kK4UGlEsiu8SnCNSIVY9jZ97+f7L/veabqbGSz3RkMxeSsARR9AHDixrgT6RI5qCJfVcJ9kkK7L5Y66ufuAAAAJxBn5RFESwr/wAB8a9EX66BsMkwPlvpmG2i9u6h7DPgosAEN1nneGinrzmqjWBNH1kff9R8OnS7HCaA3w/bQPUw0pijdcVEf5///QPoPJyha/mQydGgLSuLdPrur0Q49byXmbpp06Nv6kfD6V46RM2epSThrbxEreE20esbnj0KMgCXuFzRstBfZwq87mH8gvI0pPQ65NFCE0EizrEAAACfAZ+1akJ/AAKPb+BrpiuOKxf8JJ714AoABdbNpEbbx2eWLLpxbFoSBpMpMH7RB50pjimSDDQNmbFf0sIghVeNT7iRPt9ToXeG72s6+m/xK3+tPqPuwI/HaGoncSECVYuH7OnPsjL3xsUFteMJPUE6EFlDGbUqitpuMcLB1dh5lGBZXH4n1yVCXJ9d5UZ0c+HUHRUXH1fiu2bZzgzYZP2YAAABTkGbukmoQWyZTAhv//6nhAAAAwACWti58yWOQAcrNjKgZSVeNPWZKghRxlwrtzN/8jA2SV6OJoYxqWru7voyZjbh6ghL62uwe1kx9uYBm0/WR79OcYs6n5JVUHb6OjdnPAe5euvZ24v6G6JYy9jx3lN24mftsM+PCa0QdIikQuqo/nhCXhfFf2hZqJuCoZ9V7Hoz/ws2iyFTbran2wO0uv1cLViNfhUS+WZ9Ejtfd4qqwura41WarQQzRSUQyA1OYYJAlYRYTyCGoJrAO6PV5K/ycUB1h4OgoROzD1u3vap3WpCR9muJXJJcQr3AW8m21wtFEuw3ZF51xoLo209v2bd2rEVpV/JdgvAG/BxcdBilsU6Ehyy/3urvbXy3YxPp+2VfpxEkwge7w4I2Z+kBRoz2VP/fFQEGvGKAb/I8SfBbKStJyteXIN16fU00t4EAAADTQZ/YRRUsK/8AAfGvRF+ugbILdqYAoNqIm5UyX/nhqIk+nam8KB3o9UdKMMyM/NKA+wkLkTxwKbLKVHvbw9sXiCjloLVqULMYsUC+jMwr/zzAx3QWWS5wj5QmxBLpvQHxL589zqlyp5XRR6WNyQnYQx2hiG/AzBrBkZWmQTHlLruPd2pkuCS4YBsN+4XCCHofAJCfWeG5QMqKOt9tieibB53YytwZyqOJawFaZ3S/73WO4CcjGIsID2NUzBis/GnqCW6U/YHWdv1NHajOxReBkk1sQQAAAJYBn/d0Qn8AAo6MavuxtkF/lnUfGAAAXrTsLnHPaqc2jrU8EUDHuTtTNGS0FwJZBj1po5+vJir/Za/7R0HyZCh0va86D2Pyt1ygZepOSbmrPy57+PjaB9WhEHDoBB4DyEnuOP1gfeDhgl8utrlS/7pKZ2AHnhWnHHtv21LO17XuyxMi3yzfFMWX9AaKgiLgifR6EFhjQ8AAAACdAZ/5akJ/AAKPb+Brpiulw70leLGvfr/kADajqeIV1arV2MNL4WqHHEjVbIxWMs0zlVnKrHsVXMh/EDO5pIasd3TBblr2hgZa6MdV9lQ6em9BN2tELxLg6qDb4ltphOatAQ70XGpfPiG7DoE6MSZLYYPxSc4LgRgV7YL9VPx7UxH+UlsvKzf3RJKqNAEhmSzb/JqouRwDfV/6dWCUGQAAAURBm/1JqEFsmUwIb//+p4QAAAMAAmnLP0tTZQ40gQAEQe8zlcWAyIUS6q+2iB2vWWx3pqH6uB9NcA4DDzxh94+Id0blvUJlU2TKHF+Vj5U/bRQcpSLkM4m5mDtFsw3VcRLavyrb60HXkOts3tTHEly0jeXzDbPKtjQEYtz4JZaEP73HBWcQ9kW3VvhCRJ6sqlGJf50SBsBfIIY+8b3hnPux+DsmQu5Y0CJlYkqTE3kZZy9l4wwqzqnSBR57Xl5vxrgA5iQoK2zimcBnzjS5f9kyHOZXVB9dHygdqjzhh8thVNSD+bOAzDGYzM21S21rNMu98u5DTkyBXeHtJMF9NiPD23Q+nE96mmy1gg3DC9Zosaey4EcV+2yrqRQrFBtgYr2NkpL/A10QI605O/v5+hAAweGfNsyz53APQYj4Kteut4rbARoAAACrQZ4bRRUsK/8AAfGvRF+ugbWKUmlZGT6/Jolxc4FCjyUQAHZPEaNPgI9xjHGajdzFDnqA3CU2Tni6fmtUG1OnC3kF/r2RjJA1APPKGOLZQl5HZXvRKdM/tDoHdOk7OkiifrR+km47MSRTrDmeQ6i4XosbGaHfiOOvk7E6o30bP66Ju36BNKFedlCJ5GD53xbRvO1cXO+Dq7hDirSa5gmDtjybd2Rtv2jq+ruRAAAAqQGePGpCfwACj2/ga6Yr5J6NE42s0M339a+/IAOcOp4SnK8KBal6AgjVTPmRGMxD+TMt6OP9EBFOJxfF4yJaKyiCOKigqZigw47nBzRacim2V7J17igIgRD1v9Tf4BPYzYh6Y0bc7868ISMly5dgaJ2oOIdt93FNYpv2LxsTRUu4vfV1BlgufFF4b9v5XMXLjR/Lg4vDCneQsK3AhTU/oiwCiqW+wYHuMCEAAADbQZo/SahBbJlMFEw3//6nhAAAAwAGbc6UMNkBPyhqnEjPYSNGC8Ar5yuZxR4L78DZygzKyUo/fA+jEqrynYCdSPrArHApMysFDAfhw1X6+LkcYUH9HCHWVrlHDn5agi7MZypKbJm+dmwtVSZpuQeO6l/MWNJYZbqh7xu6eoyJrCzOX99f3GNP9jMl1+LYgIVnC5qy8WmvNnYfzk5WER9dZOcBxEtJqBsxSJ6YQ/3j7JyreGhkqUu7ViEQvnISFLb2HHcGZu0G8Li4ZrEuprRdlClWujN41Q5Mf9pgAAAAeQGeXmpCfwACj+b94uVFfOVwXdmGAF+IDSWdOU7kL+hPzvE8AIDwmrgd4S8Wbsy8/vAA85w9Wm3CUnYf5+RlaRK0JxBLuX0tjFR5DJeGtEFxeCdWLZOIu5vo7xvPBD1pEsF+PBYwpj25701ylKXXGGYhccw3sK7iMoAAAAEpQZpDSeEKUmUwIZ/+nhAAAAMAGR/uXUD1xEfIAWT+AlffzXVOy2MYIoB1Nm5u4XGTx0vySEwWtM6aibY2T7c4YCIlfoRNEmOQnNLfi9/ESlw5S/XbUIO3AaR6bqzylP7LvTBvzQSTDiUEe2I/8TNzZnYhkpqV9oRV7DhRfnycSqpZQNcoHA1/650cFs6EU+SIkA4FsK8riv4rDRlMmR5zrIDuuHednJVxCTx4iIjID8DhQiXxouPj/EwFObjP2A6LgD0eu/qkcu7HV7nd5PcKsdnGKRczVCJn+lUeiMioayXavdpXeYGMb7l5guyR6vHjfywmbMkQSYxHle9qjAelAkZRtaxQx/4qwjWjZwgEpwKq1X944F9IQLHFPB6Hx9Lr3OIo/cTv/TmBAAAAkUGeYUU0TCv/AAHxjdgNesMj0riQug2gBCc+StIH//+HZlEI1RFbO+SLd8dtpOO/AT4zxXfE0tIwW57s/LXsKeqwcYEwU79KRa3p7O6CCqGNbrRf436jRCHDmtKblyUeN4Z7y6HofGyd7Onm6yY3fgwScmvHx66bAPIRq+GqcIsYEZdEh2B6JMFRLQUGRSBXrKAAAACBAZ6AdEJ/AAKOjGr7sba1bmIBhABOV11ohxYqUhPcYe2nrmlKwjbAuJziz6zQYZHbT3aYXw/rD5l+2Rk3pTf1jORo8HARjCRkw6+yz3x+IbMBxWSetDzG3zmW1kbJCOjt+tvn3oXC3B5v3uCJkERwaDf0uZ2aFXPEm0WVjoQw4EtpAAAAVAGegmpCfwACj2/ga6Yr5rAwBwo5S7pSQGCnQAO0DcgbmShg08aghCQOrtAs8l5HYuG0dL9zX4MUimCpCiDZMuHwWn3WHAlfECLVfPl2jZGn+9Cz4AAAAJVBmoVJqEFomUwU8N/+p4QAAAMABp+E8pf5MWauy8SdY5AYpWMYAS1U+bXBUVigSWEdUJ+yoGq0vJZsH5o0i/b4hdWv4e9T77dfJzD9zO7PaY4MN12y02soDz4KsO3m+xwVhMaDlhn6Pf8yctV241NiLDqt8bSQpqxEjG0ctyn2K9zcHvtoKE/Nnzykb08S2sI6Fi3rvwAAAHkBnqRqQn8AAo/m/eLlRXzQ1gPDZfG0wAHNFbspklKSuAvlkvRqqgdqzV+i2H/+yFXOjuACogAX2eFNVOzTIsCWTU9yzzb1fVlaDiI2EjA9ooLIsRMQnN3mQ4RNiySdi7JjVJQHYFu7NpQ/86eBujmDQLKvKNEfmeUJAAAAOkGap0nhClJlMFLDf/6nhAAAAwAGn4TzRKaXCmAAux/74nYwdk1PupjECQ5sJHg/FT/y2FnCAvhA0m0AAABLAZ7GakJ/AAADAAboUSesAHNFX5LPbppdnaiJXQm9Gzwba1eTT2j1bmj/drENvOyC7MtCYixC9IMT3cfc7SYyGGC9NTq+0S9pYi+BAAAArUGayUnhDomUwUTDf/6nhAAAAwAGbcrGH9kAJq6GMlv3HLAABWKWQn5WJgaZ32+/mTGyhPiAUhjMrhs39xhyU1Z3WxvXGs/jVpgWC76znPHno0rvkOyaJ9GtF32fqbMnrdaFz4rmLi3UA9xc1kQXb4/dDsLCQ4EN5rE5uwKnrae56cj8rN6vogyDdD/C6ao/OBvvdbMz+oKI2jkdq+BXhaBMcRIbdw63sGU/th34AAAAUAGe6GpCfwAAAwAGvEu90vqvABzh1PCQUBBIOB+jRlkaCQA5QaXmFt8cve0TmVLr6Vm52/523gLq0fRpIpzeFWB8SjGLu/R8DqFi/j+8NKnwAAABREGa7UnhDyZTAhn//p4QAAADABk/Y8HQtHUaAZ4/08I/fTErOdogANphtTcCV3rQxTq6l42p+gESiH+aBw96/zuOIVX5B3uwh5nIJgvjaIlX/sXhnMa95/8Pf/k9aqaZaMpkrfx+gFlu5K3rwZ3dxVPQ4ByoOixf3iH3udqU/rzlMFw4+EoElKAsH1kWYhg5VJvp7rgfl/K6rRZuX2v04lNthJ6jHBPk0oPS4AV3J13Z1G47nt2ZOQNn6FMp7hxBPEXRiE5GF/8+C/CAfcDrbGTy3Aw2TXd2rIi9XXO91VHclFKSy03AG/v7KFmQ+okE6/M3QOGLe6X2rEtVerEHIFeM9T5gKcAtjxmsPrzJPXhdVrJwEJHA40LUodo73NyDfAXI5WaRhLZL5eKgh41S5PwCuFleaGDe5wSgEWMPNTGZC3MjrQAAAMlBnwtFETwr/wAAAwAFQZf12qHtDieqArzcs3nooIAIfLgUepZNQNsr940CIIOaO2V9+xdGSnrxezaKNYFA+xaW2yVwx22gv6yEVhqq95z3wLcitiLWiXmvaaXqqE/ypxric1ba4HZeHutWlpXUENmhz7ebdZd20eXbAiyG7iuJFyiZ4nrygdrDYswOVmX7qOaoeIyAG+bolMRAAWKhi0q4+hjQAvQZMDX4AjGYTGVTxiCzFjXy+hbuk/gQ/trnJlNanyS3S5SREeAAAACEAZ8qdEJ/AAADAAatMjR8pv+RQD2BFnNARFHRzhAA3oS2qqhxCdkJr35lm8H2QgUCXHe7/PoSX7vvZb6OVpWvTjZUzpXQtjP4feJXloJZ2eGBtvhiqVoiI12oDLKhuwOFqJSdOijGDb0fGDu5dA/8+JJ0F99ViW8uIbwblxI0cPpTdlSAAAAAqQGfLGpCfwAAAwAGiFo6nIlgz2yi8Qz/R326+4/XvkADs//QvYzxRRU1Ihpm6+1UPw8cKN0c/+lyVTBV0pGQeVoPmlSdLa+na+gN2ReGu1T8OeP1o6FM4q9y4ZWmtyC0s/jG9AXJFzYiDE1JVEqDSuKXvuQH4a2r9XjyzKB29854rjSqAnp5K3qaRKeZRDQsQKzYRFSO6qhXWeEDChvhr3e61ngdbSvB6t0AAAF0QZswSahBaJlMCGf//p4QAAADAAk3z4B0LT+UTwZ40K05++fIAIg1VV3RPoPrs5FdgBxRPG42XWZaq9uwfCngGEW/EFvxLf+Sgjb9mEujN8DkKKChwPbHk016DUD36pxzBJ7eTyrdpiBW4mBsoqtKkXAGfAh+2ubhmOtpqbsqKqbkXNkF8O7lqQU+bTrwkmimjc+5iKthficmeMZCa3qvieHjp4sB6mbJ3fYvdf7owXd6OxrmPBLUSH5Kc1QPREXaPregUX6rO8a2vrDzzyx1MmGXSmEsw/lhaDhuk/5F+1lDH7QaBKpzMODng8+fiVyvA1znqgPVnu7rRGzu/SmnJRftbDDdQx1HqsEYGzb9G/aGzkxvxKkaeU3513qb3IXSvfshLtAFNB5eBUJJsF+h2XfU88RWDcl8G5zTSxHgABgSlAHlwaFt0SwieKJrUQBv4ZCREcXE5Q755mVaHiXQaH6g5grQ1I/jtLlhh+oqt6QH5aiBAAAAyUGfTkURLCv/AAADAAUOzInurYUDt7hmR2bwlyqMKoeAADQKoaeg3RBt7LcNAlbLrYct/ynRIieMoAJ3WIsBIGfB6C1UFj/kbDPOoZkZhlO6qfPbA2JkXScBsX+mvvYNRd1GEiNM3JfV0ueX9CR07dEdg01yBLHkq0EhchYLpxI/OWeI3AEoJu2KgKGGF9BvH7QRghYyQ68HOmxhTwEBSwsulnHkk///jphRo0eQb7hhjvzf8T5ddnuahXn4N+TS0cdEMQLH7C5jgQAAAL8Bn29qQn8AAAMABpni9alPpKxoTtBbARo5CygAcsWzHy8NK6mglngoUQMosbNHKUuMiKqrB2s+903tMNWk/TfUl+H1aAHyaPG7VDkfh6TH0YSddCul5TPS8M6HHosKKfqHr2/K5Hj4/9kOSdFcqVlgl6OF5f1N9+icCy5WZG22ttRdYxEj1ALZ+sCK3vcrGAM65nGHdHGwk0exi9Z9BZ0epDdHO2bJ8CNzgPCUkqnxZXK+Nlvd7rze/2FjxU5XgAAAAT1Bm3FJqEFsmUwIZ//+nhAAAAMAA2PCdHomcof1FMqqjrgATc9fRDNulFLL435NWVrrtnR1x1NLCBIr0mFrzrq16Y655x+T0nqqWMYOgAfEsT7+KQ/3+ASARBfiwNOmPoD0stbNdGHV2zPDCurTlLSSeNsvQsGJgZQpFLAceov2PynxvuaIDjkQmKlzAyJ2FewEIWadRT0WF6g4IkzBBzc/okDC7J4xdw8W5Rgc7jfqGMT0vvwLxXJcT6D/gLRgUgMK67GRtK5b0lh5IwqoZ5wNy+g4IzTdE8cFd5x+rlAcq1Mmz425f52bUPseRruGt8PpDJsiH1g4JODlQt/c4ZExwWJf69R2saFdeOt3rpU4dByZuKV/SAgyVQhTPCoDS3A1pyIOQGZn6lHN3LTMX/y7oG5+b1EFW5iwubHt8AAAARNBm5JJ4QpSZTAhv/6nhAAAAwAAVHmXXspKUNLfbrnJuIAAFTU+F6R2Gphlcosx0+U/L/IOOARJ68LOXbA0+JYbr8fR5i3Bn2bW/XVavVfetZxMbLMWswoEXh/DQxVK3NMROM/ytLiarR0cF/xjja48lja84g/hR+GXSsM21zV+r4vfVqpyLWC7DtKoWF1IoRjv96whvUs/JMCL7NxDZtON2rabrW6zfC52jaOJosYXrTR36lupqpGOz1H46/K+RqmCjuymn+59LEMywQ7076ifvrP9ztdvcyiUxAf4r4Z3G/YPHgsEYqjH3Pk+7bKGz35YLfiCfZAKb91grwI8hWi1wI5sy7tQYxLLAwVNIuUMt90oWQAAAPNBm7VJ4Q6JlMCG//6nhAAAAwAAUj3hLd/F084F5G8enR7cwYxgAqP//4Q1+FO6t12ZKDvaPr4ETaD2QiozeJ82JVT2ihF4uSerzpjYd1ZUhW+ygw+3Cxt9gNRa9CTibsvg4VkF5BmP+fMdjEgmzF3O8NA6mMt6B8FE7rDFiaefvLT6w+Cqb2XxjBTlL2+8Gfl1mo05T/uLqBOTExVt8kksgSbDNB30lS0wZLr/0c6XzSF/seoqOtPZGkNKL6sfcPUG+P82lKqjkSnv5To78yXbjLzPEIcYrs4KJaQhWQgFtkbiqku5JMwnXcGzJnqphSzWJ/sAAADCQZ/TRRE8K/8AAAMABR82KJYeCZ6JK+brx+gAheoAZUHZEreh95oOpZXpfgXpn/ZyERGZxGkoD5GJ7lfAL2TIwhhPm1ZDANhMZGUZnSS1BO8FA6Mhmv4MnLtEAoGEYpXrVNSS7TrQib+okp/u6rd+CTdz17pHPqbg/av6Q0pOPaFw/3bwoaaXOKOO4n7e2kRXrpW2IbRJecYeiAFxgdGh7xwrTGzct+8qnvireAf7HHM83N9meZPnTu93ThgVjFH+wFAAAACWAZ/0akJ/AAADAAaZ4t1/cJT8p7TGEhgAnZSIKqx9a7/Mo87QnTsAHODFQBKKOjw2MQG+eF2xo68omaQHwc22jP/l/+sEuJYBTEBuafTWlg3MQ9zq2Ak23eXyNC4ydb32l2SEhoPhgnoW/PvzvNpE0lLvtNtKdK1yvacCqW9lBqrLJ3yD//2jLHxhTSWdQ26q1S0tp+E/AAABgkGb+UmoQWiZTAhn//6eEAAAAwAC1ZVrgCPevBaSc0jC7vboQWkRRPXZfyEMTkTl3TW9Q7gdokBG2lAp8rdC+I4zzy1vMa1dyct3mdwzudRL4HUoSTIZaUZgAlibERUuyiB7HBvJzF5B0PtHqTH7puDIv9OIHWCnr+QW5S4ZUNYEhJPN2tc1JSiuL1qbTgmXPbkI95Wjijt53R/GVPjko8VQXpFIMBGxefD3M8Mq0Q/mYugtVzzSoymINXt6KCPrK7SckKPtzjIWVc885AS7yvrlw/PHJW4Ab+XCIMl5yaJgtoSy+v9p9Sy5yo28j/S240VRcMl9M///MEaIGacNpL7j3NKmxssVJY5kYQd9BQ+ETe5a1w4fUE5TmC/FKqqTcyfuHpNmlo2YO98eNHmwXIrg8u35dATHkIW9l7iqRmlEGIFI2G7y6L/mwyljgzlbv72eSO8OcRzCOa0LzporZ3rkS9YKZKIjF1iLD3T9lez1jG1gV/4M+zI1vm5R8etQgpAKAAABAkGeF0URLCv/AAADAAUfkyVtrRrLJG7B3AaAEY+Sn/GIeNf1RI6VfRxvnFnlP9X3CnZG8iG1FJImcEOfV8i1F23TAQQyAVI9PFnyqtnc4N3sNsR0ZRfO76Y0Jpgthf3MHdfLF2Nr3SX3Ah/QmXf++sx6GQIVNtb3tGRacmekYGZ6bQbOj0mA/iPPYnko1pU6CRYMI1XnlgyKxSInJcw/vDIwo3x3vTrbxR1FEr1sFhi1jktK4M5yAcRSuaC9MbSu062Y4Nil4RvUsIIP8T7wJdeYK7+JmK/5hamoO/ThwZ4Mf7EJkQS6H3F9agXGlJF2ZLekcg/T4HDkrBh+r19YiNWnwQAAAJsBnjZ0Qn8AAAMABpfN3OUEotgTPm0AE6zp4hdPMZwoFCJiwgNJyXgNE83NUGvgfDmMRNz5o8rjDQLr6Znu5aicGHlTTEAH4xjPUKQMWcuWVtfroai4yezwHQkQ7Cn87D8UBIZoWJ+emSLNDAQp1dM7rWsBm0VTjD0riYxMz0vBNWYE0kyfbVYnqayX1hsfta7t2VW/48Get3RZQQAAAOoBnjhqQn8AAAMABpni7xcnsf/3OcALeOpv4yhzqt56ZXUYNA3xZiQtpID2BtlomF/L+ipmSjtlgET/jNr+imAy1HibKU8+fWZsTJKHQ9BjgOZFOn536zT8V2GzH/+TorOqWoxRStxA9iE+hLDR1mKhgeENrwCXMXxb3967F+aYpVB5QCsxYRevLBoiTwSKeCZ98bfqAC4IEQFgHIaihiGr31o26rBs9NGR0HUOpTVn6BAF9zs5KjGQXSFq1EiSB4Pxu8LSBJQbY9JZdyMxjEztbHrCu21YXbMkIr6dIErcaXJndUoWR4j1lGQAAAFGQZo6SahBbJlMCGf//p4QAAADAALoyrbhGmYoYkUAA60ceefEDHSUPJ8L1SopMCju1mR7UW2Z3h6kw5nvwoWH4/sH9MuAb+wGik6SqBknd+HSSQazc1tB97YMuaykh4RxZumAXu3mAlT0muEl05+cOJp96wK+hVFHRPksHqCMPt8WzRb1dpDnvQusbmCiVfYXqmkY90I41uzaEh/UZdaRj4SRyCnx52AJYR0UzTM3ZeFcSNgaatUTeE8uozFIv+n2gorTa8pUTO3PdWoqX2cr0j1e4c+Y1K5Km+ZyR4JjFGWVdlAEGiv8nN6BEZguTxXzKG2FSbWrwX4Jv55n7QpVQP6oJhVIurxj3HsuxumMNXmNXbc8Yv8LBECCkLh4XEIjFlR2cxeVCfIpdG/ppf/tZNmkFKSfACIjJK5woYe92hq/qZ5UkIkAAAFIQZpcSeEKUmUwUVLDP/6eEAAAAwAHPtBGLZHPwrFt1AA7Q+q0QmglBa9w7Ux/+IY29xH7gT0ICZkrm1cGQPQr7alwtXeqkNq9DwriTVXfyXV2z5X0yIOw8x7b633eXHPGRzMkp1Z1LAvQP268aVO2/rDYt7bPE4sAZ8SdebCnCCMJC7iLBU+GvNRDJaj7R/2bzF0VCPN/NtYs4SBeCHvjf5RpoG0Ujggqk8utANuEZsj993O/ON2jiGH3SzHOfoIPHZRmt3hDwr2ONzSBJWUSMzpeNJov+yaqXAKznSCAXOCI9GDKtCfdph9IkvSL4gNv9SXU+7b9Ua1PkSLcBQCvU5iAgGzPuzy0yaoSmRj0v6hfd7f0qac9JHyW3RhnT8Qi3pFq/ZDiX3+qBMa85Vj4V0o4ec275p1H5j93S3nkP7VbMH3eF+RCwAAAALsBnntqQn8AAAMABohaOPs2fIAjH6U7vUxpn1tfjxiBPVv0iQdqc+BM2/RaKJLM8xN3TDGc3ZOWyvQ8UsZwhpXuFoazF15tAJRigR2UWpFVmsWgo/C8PkES+AO3PAvSDGJ75W3e5T1XtksweGt61XlCY1C0wzTFN026zACoNbuDWlqRhQAJvx1PmtX0iwmCx7jrRzllFZEwKh2SYjySWEVr72Rm6da5ki6ab11IraOOS3M3dKQISFPUCAvBAAABO0GafknhDomUwUTDP/6eEAAAAwASznqkUW4TSDnS4KUAF682hk2FRQu+FlR6k6QG12gnxZG6k5eYYMWk63X6egQhA6x+PQyQRuNYBt/zUNv1kp7nSuJF+CXZgcBPWT3UFspGi3OUVQhMPi3ROWKehQk90qWR8E0pO2cjJNLnpdvHR2T/wdSZK+OUW8e2KwMhZ3SUZF/3tT+raE3cyY2/YkMbRk3CMS8pwwlAOiVgmO/jW2JSY6COpC8cEBrmDfuGzaGcoSLdZDOmdWV56ePaX6c20qr0B+k3mxjCRaFmPgtLEYCtLQi9/ArMt32sdGvShMnoZe+qy3P1kgDaK51sx+miow7J/Flbx8IYJsjGnw2uHluSNkrEX/4/f8CBAR4zG+diK9LVs2aemqspGViU1WOg9eggbGJvFus6nwAAALYBnp1qQn8AAAMADTPHLYMJZE6/RsHdRpBkRISGLwmP/HOgAHWfHiIecaF58S/Ozk51Gn740ZCqepxBXqgszDFscU66116EoivEpVUd4tMEwnvffLZ5XXvJPzko91tyjQ89kLgwDBphfOVuudTpUN9KrSKrL6sREuwxRxiBC0MyH6T2i+fxVmqqqzvS+X6aN20B9p/lDBIrtl+bj3ZDHj0hjv+sr1EijiQh+6ysO40HHOv6LrNecAAAASxBmoBJ4Q8mUwU8M//+nhAAAAMAfztRjVWKakAN1DoIwlWjlc03rIBFh+KXNW5NtxWD9WFhZ27x2v84b+yU4HMv0v5dZRlZ0T8s3G856nH7DUgZGC9w3kXI1mGvsPVTJ0lzLGvAp6sAOQnZiVQZowbde2jy/Mm8m7+G4r5cfZZoC4xJrKmegNyXqZu3TzK+vE//89X2dNUn6LdRtCUTvTDSHpurnAfyY7I/cpVVJPRb2Fc0kKwXpYFUqzUaku/4AIxq+2vgIOQH2+tMDSGAJuDDAz+W+R65AEqzFB6iRq79viMiwpQ3vVmBHQkZBAvfEnlYj5vev9374vSsQo+PFQky2ppT6aYrp9G7nA5WK5uY2w90dJJOxPBkwBA3AuxqvJUntskWxiXqRAAbXx4AAACuAZ6/akJ/AAADACK7auVYCf7PBgt2hOK+oE7FYW4wABe6wQw3BWkgZpNQ3r5vPt4jFsCx+m/2TAkjhvmifjv+m5P6QTkMoPTSLeJXDeq95i1Mf1PspAMFDb+k+1H6GBdxJq1uMxwbv6EfCYGjC5U6OOkt7MoC5OtXo3zev+Fu2uasu6HmuWYMcPWOzBxt83wPyMd8lWRCJa39c+O0oOmJA5IdmdzfScCMS0F+Kk7BAAAA20GaoUnhDyZTAhn//p4QAAADAVBkG8DRLF3beik4dB54aZf5mAC1xtWY6CNezZmQLhz5SEDD8e0PBD1wceKHTzCzFwCPkyxn+dQvlHqpAI/aS/8pMV30A28UJEkndx7mby8fvbcgk18ZudhzqkngiluEgY7RgV3fRNolhjUQFFlJ3kUlan1E3edofqbdzVgGWJhsQ7SCGM5VAD9mjC0YW9QExHt9hul7pxzuJb2Stsd6YH3yD6ixlEDI2R1Al3QisYgc17qkKQxbbxTz+4wsPNx6pBAqd5DfUKJZ8AAAAOZBmsJJ4Q8mUwIZ//6eEAAAAwFPrwJDj6NPjkIdYAEz1wtJOQA3JW/UDiP0+3ny6gaDCAVidtZRaWNOlqfZubyMk88FtGD4OXaG4MwVwmohTkIOjidZf/mdFVSY8/sOzs9uptQDpbRJXH7/5D8B2AMLcvEpDOjoRSucCMMbhSQE27yiu79anpDyaA9D9uY0BdkAcw0R0SH9txphNfRbL+mpL6LxEGsz7SYp7UvD1riAlh+avAuzCr56z406/Yfrp55m89fDD7m6qQHEEki7j1vOnsWhRJqK73xmdFrXr9i9xY0y929LLwAAAPhBmuRJ4Q8mUwURPDP//p4QAAAIrI1au/OM17tChTP40vB2CSQgAnHnBVRBqgGrnYjmbVVmdE5VpPb5zVrHMsEZu/aBuW3505KRqSmJ3wLK6P9JYig85dfaTbAXm1xPHe91It2hQWKwigjBwl8o+KlOuvblprXvnzHZxOkPqWFG6l2dgSWpkDOsen2uduR7THpLpmPQ/ZHVIkp4IXZurJRcmaIAPtu6dfOQNN4+JheI/iBonBjsNY6t1djJmsm+dVTyJ8wUd2TM1m4u4LigDwtPvpQB4DXH6eRT+Y+LSyL1As05maks9h1okFn8/GgmznfjyPXs1DB3QAAAAIoBnwNqQn8AAAMCW7gJpV2HKMXAA7P+N8Wba3WUdWuZH1UU/jFg0VmMonBEKsdDG2yVf9aUzSjrY47qEODFvDuQq81FYTO0pHYkF23j0FiWHPADzWpnMDO+Jx4BnU15rweA5SNVgX/+30+mRr2VwElJfDC0VBT1YOkdGBdc/EV1ZbUH5drhp0qASsEAAAD4QZsGSeEPJlMFPDP//p4QAAAXPvhN42CqyACHxtWY35C0+VZ1JN04dkm2Lhho+Kq8P/YJqMisTKzUTLrkYsTUnA99AUkQjP6mJAuuYZVZY4LHP1M+dgMtROO4BdCJ+xhR42qZLvBtDkH6CxW9P0Ww2PtD6mY5t+wUtgREhABTWBqAGBCiwuw55RkK7tmmB4yJUc2kCGZpzhS2wkOhHiQyxGZepmIfZbPq7tBNx2dAZZGgBedvpKpVV581DIVazNyOJN+8GRQ2zpSgXRJMhaguusz2ZaDhhmXX2FELs0MWYafTUDq3m9U/f15bdX8OrM1U+PsFlZqwVsEAAACZAZ8lakJ/AAAGR9Bq2/j4AbpsEYZ2ASS7yAQg7XEEjkebr/hQW2NWnirSwQ1u+y32rGwpp2wl790iyK88h5DosS8Nr+wUMijYR1JaowwM2joFIp3XIsqH+saP7Z+YpvirbPd45Ljqti0qG7muBf7snGPDWlGUtlJaZtoeaEaaCT/oHF9Ao8MrIODZSoHKuYu/IUmxfbSfRqKDAAAArEGbJ0nhDyZTAhn//p4QAAA7Wd6N4PqAAavxmxbbfXDHJHfHLpGML0RVshOAwKZzsd8H+NiXpCMEfRBdTt10wbEJ9qUd75ssMO2NYBm7XHm903TYH8pNq8fKX2h9AnWTscaz98HOBvGxOMUrK+nkPFJNtwevy1Ne3F1/KbJIYWxtu8EPNXzuUjD+IQ50EPWJL5iMrqBLcZYzZj2d0B1KjG9IeXK/brkcLa3uCykAAADSQZtJSeEPJlMFETwz//6eEAAAmmzb7wEk3J8BYfkAJbrhVRKBgX/2Y4nDouf6LcTx4rT8s2t4fV+ecXMuvQ3ARjkPsu2eWZJUvxv1tU8F+TuT8yuwaxzMUvh5U5+BnVmtse5XBLGT4lN7Px3aKUtIreDfDF9cQ3cmNRe+9sh+HXIrvc9rcsCp11vsX8Wmk0zXuDD+qiz9YMrcck8Ew/4R2EirQ9jSJHpqg16vnxxf11MCxpgLlMeXCAlLQdkDVAlilLufDU0Ztw2OZBTBC81KYKSAAAAAkgGfaGpCfwAAKhbrTCQOTtljro3ye6AAXzOniHJZkr9M8ZjSNQQ++ksTw3xCni9G8Zpdj2snktZEVBl7gcDHFzIJOguAxeXGvzQVAmMCy4smfRqg5zxpbb3TdsuTYvS9wldmLZeb+c6bBZcmEa+wwFR6tjxLRfQAv2h8oYWoCrvqFKqdauLnwt+PW7fi/4ZKWANmAAAA50Gba0nhDyZTBTwz//6eEAABkspIUUqFoFwAdkmSwO3/NnGlI2K2bxfqLPujZfOXSbIpTOApip9MkakQZmaMHK3uJ9TndNF/hjfY6oq9XwxYNM9bqMsCv0Y4XbLkFnPHTMrU4gaGeSUzYvYl3lvkRiX/qPpWoQhsMY1RG5XPwXP6TkTuxPkNuUsppWMOMXvdXyECK/kHkOGoMdMSfCxkPSWFWV/ibSF+VxeaY0KbH7Je5Mc2DSyYaCwQIzJGOVJV+zaac2X5vJarceB5g6lsY8MKif6/reb/urVsBX0xxdNJMWFpMAAJOQAAAJYBn4pqQn8AAGweM5aucIE8HFXGQhBVzAA5+UQTxBGkvURT3dXw6+FpwvRnI6hAZSF9q+vFpn+nKYMHUYtvuFb8rGfAFHj9OA4YAXPOHw6b8lnJ3s4QGa76kzGnnmlqqMSf5zdxkyIrd2DUUr+6qpvTh/edylIme37HsjQ7gqIf8U3pTTdTa6RljZHu1wULsm/5NRx4G9AAAADbQZuMSeEPJlMCG//+p4QAAGdAXhluzhNmdIAQp7zOV/DUf9UpwvA3DHoPPjrcYaTl/j7y+hNwgpmUuOccCCQM3r9AqioD50nDGK2ZJsO8QrWfzT5+c5lrlSeY5H4Wd+ViGcPLJGC/VAlU5weX8ZhxO7D5EPW3JCdylSpNJJ/YF4bA6laRZwWB9AXn4tBMScawAbMsD8IuuIEqd6PffRXqVnDQgp+Pu2s8RDTpqp2fON0nOPqmEGMD+6KuGUobJMbJxoAHU5nNJR8RoIqGxYuR5tmHlsbfw75FACPgAAABREGbsEnhDyZTAhv//qeEAAEOWqGlhAFob6vjku6Ng7L3O9AAdoapVcg7oVVqhYajdC2BD5lm9mDSMfNbijZDgaFTmDFoZpCShy/U0bSx9LkB3y3Y5mKu+JAxTiIbV2ejlOxnKQFmpaD8rb+09J41ps7lXysqAA44rLauRRkAdV33jwryDqKZ+tzcxwMJ1Y1MzgKMTWb6waI0+0JnwFk/IEq2Ja1cwPbS8X9zyug28AgkZey0Dofb4nuZZa93YBYo23K+/bs8iIIT6sb7Xmq0A2laKsp9yYsiZzuPHjBRO0j2jyz5eUQC71J/WGEhFXFc6dgao5oHuD8qYS7wkiWL58CSXUCexDLJmPjWA9VK3hpDALYkUD6ztAkTt4x64HYDX7wKG97zKXD76lvUWGDLuHBQXLXDGNrjh51MOHfXIVLr3GAGfQAAAL1Bn85FETwr/wAA3QOEitJ133M4AQLQnsBoEv8shTtGoH4YgxLFSqvlKi+3H08SYPJbXwho62Pu30a3mNRC9i7BNAgaE7t0mjaynUSgu3uPQBVhvzU40lfR+SHVwLxcxuuqfXxwasWzbje/ZdpmK2gvoR6wORkLdyI+OOWZ06s89gOK5mH68pMJH6OLazDcpouDW/1qPKgLWX8wK/S7KX/47UvEEayxU11NxH4FBBalzmTqU8o8XJJTCNHTDSEAAACRAZ/tdEJ/AAEeheABx7QhAwgFpFytDV6BfJoj2h2SQZTSwMhG2CNAw81KwawaO4s2wvkg1erJ1kriKbglGc686WdS4WqZSWGsPVX7UQafUYMdSGCiuUz8DmPBXol56pi6GFQuoK2DFQo3ahA9R72TcAA4E+qPblfi7WNNLyk1t/nUE/vqOEI21OZ+ESTlT31JmQAAAI4Bn+9qQn8AAR10Uf/n0knxv/miJThZ+S0S/jLi6LnTGpwBWAAm+bMLyoCfEn3dQTCVARZs9Gjlqzt06e5obhG8XZTtagnh5OV49UN0hS5uxi/Uevd/6GZ7wBiCKNX0+zwVFQRX4vHFUvt3yybkBQqXTQ+mI3/t5/c94lIMjsdu/8ju3+Ztmu7kQglfZ6PoAAABGEGb9EmoQWiZTAhv//6nhAACxqyWI/DOkYWbtGSAAmijOV9t2aVY14uNQHvBZXhoWqsMJUJBQouRy4niNWQisX+YY8Iq1n9hA4loCmFq7zf82sy84j7Cdcd1q6R0502v/2GvNwxxIJrrXNwxBtpEOGB8P/wNyJ8ABu3p267RZrg1rNMdjaSEXOzGMVhNrhaY8lVsazm9rEaQQHTHniCK4wqf5lscBe5yeKoAmnBkzc0ARzEBFNWMDhAujEY5ri3ePxxcysbowSgXET2dpK7sZCsGHxQfGsRQBysNvEtrH6njiWezxu05Hyvf+0CZZ9i4/kmJBTpxbujHAAVXjC7+SkylQUgVmIShTDyW2vXdtV7Mk7RdcygA9YAAAACeQZ4SRREsK/8AAjr1svfpaShuaWFz2Fn/H5JO9/LS/LDYAS8P1iSPIy4iEbayMGf8400s9mi3/zzcg8dM6iaD7DljYEKdxNyfRgF80XSokda/34QAcW81DHp3AVyvX6u6//8/Z3QB5r1Bs0MP/70u5I62HKVN4G8uL/nU/yKh/i4oONFFyRzvPZVbZ8qOzvqQMrP3/1kqAi5vWwuIv2EAAACLAZ4xdEJ/AALpcQXqFqw6PEJw4ULjTxZCsVA+ENk9iXlmxP0jRAA6fNuNFI+CY1nRWNYlV8E/pfgsNwaVI5/sOwchpPOBz/ROASiZoW7k5GAKWAZfHQ8W7qfHHxsR7IbNF9BirW/bQT7D2ZFW16IajawpNnlF2jg85DL3mBNNm/bnnTUOU+vK5WZ9wAAAAHgBnjNqQn8AAuldHGfKfCKPYABdaOiJPeBhSyKPjmI17+HJLcoRH1VKvrS/YCczsJJUODBZj+ouQa4cPW8HZH9RcUXQL3NnBuJqK93miXOlC3BFOLRpQmUyeQWmDElACoEyTc0BdVktHmDvA6yVKflmaJ8PhM0Y7VgAAACYQZo2SahBbJlMFEw3//6nhAACxnrHXhWhJxZRge2FzEQeEZbSRPuOHQAS3amc+qW7uBEhg/Lygh+vaqoMJkTiaLO/vC/RvL9wOF2xXZ5/cp2qYutVt+ZIcAd3uGoOklHXR4Cqg+/aTnZPQXBOoQKt8zEWEaVsPM5fIu0cqxS5Ud7hPOnA61KsnEiAwu3s2QU9gidZQsagA9cAAAChAZ5VakJ/AALpaYt89+6MAsFfABzaGdiQozmUgpR8ENnj5kORSBn+wV/ZCwzhzotN9GEdrs9jux9t2CkG1mYFVkcBHueL0ehdKf/uL2YirhZxQv1qk+aXtctiHZtADPic50XVATXfe0T4gZw+1x8o8yyciRXE8+p2bTt7yHn4mW6mKldeK311MrdP/XMM+EIbr/ZoLeh0KkL11pm2BwKnBlgAAADbQZpaSeEKUmUwIZ/+nhAACsgxjWlE19Pe0ADTT5mXDgY29LgXANiNPV46BxLX4oDBR9TbBHkbb8laBn/v+0ALOY2lDAP4NtQNWZjdRJQsCIGBImLSPlyHf2FVesovcyMPujD3MrcrXjpYapN/4zFmj7f0k4yGuhcLqG3gmI3+1XqFZShTKYi0Jq1/pcj4/BtxfFCl37e3w3mpp4C6dxUnTPn5ORJRIi3ICSvCVQA/uhiwjleeG4QdhfPFQR0MmyIRbPuZb4uQmDyWjeWqpDY/Byzv/sMtS4BaUAJPAAAAlEGeeEU0TCv/AAI7qsZhYX6iZrrdtQAOfsC99H7HhtXt+Gk/iSKA2sxixi75ZI8OKm32mHujiwGOlOhz7wQabjIIbIVaQfRA8MH9n7fkKR0oy/dArZHeeZ7k+XyG1P+mZPbriQRLnb6yekgEOSwtj2EZsHYB4bSnFej0OAIfmhKUK4r3ObH1xiMCcqsJXeoIkcFMAEEAAABLAZ6XdEJ/AALN+6qw/lR1MkN2e3E/dQAJxoZolOUz4mNpqtl1/iBgsgIfrYF/OW+2LECULHhengeAUtvgX/yklYNUH1AKYbLyR9VmAAAAeAGemWpCfwAC6Vw9jXYIi37g4ncYaNKho5XrTXk2xQkGROZFghoMAG9LnN28mwQ+6HcZKc6D8t+8tcDdfuU+XtpuZ+hy/NUMqdcovWx5JWz2B/ur5vL2S3j2YJevDJoskwDhgT8+ewrr2syZtSAqMcpIDUDGUrE2SQAAANlBmpxJqEFomUwU8M/+nhAACtcy6PRM4sKGlOz6JkQACik/wmNMoX2kzxcU6uRikeqT0q4epfvV6fZL2VKd8/RQAn7Lp8uKZqY02Vxbk2YhruVg8kGI/ElezEFDOSV2AoX4LLBhAaOqBuHCgqa5+HDpIQqC89oVPuZ2LcUpeDrbabIsSp9XE/4KkL0gnzJ7Jo9mknh76sWIn2AZe/cOKQ4u57F5o1PaGSaDma2D2/j1iVkbpAFaBTLJnKd/HVnRTIYRk3CQTLYzQBaM/iF0c1nn9Eg1H56GAATcAAAAugGeu2pCfwAC6trwAt378978Sj1Fj9DOdMOY78keDEfiSlLvSHsD5lVVTwdxqD2fezxVXMweNCpRK9HOLCrxTDYH8h3fG+QeklTwhmTP5PB3X5Vl1sfmSVWEHEWGZjKsUrvzjZNg3duQd4Nmwp4T/Y0dI5ywdClKvdJsR+lP+gTWxxXraX5P3ioR9h2c2O8t4nK98U+w4ixb4QWPzwWQ+rQMLoRHmM5pxOp6yp4RMcbKzA2LCvsDTXVH3wAAANJBmr1J4QpSZTAhn/6eEAAEFVD+rmO4y3+fI2ABCGkT4/1zbNjg7EH3L80b/6j3j2dHGR9EMxjwrxW5xkpntK4raTFWsohcMHeUnFssDi/4FsHz0L2GRaqZeyBFmvrloqR7oBs2kMO5/OLrd0dvM6aY5tkx0zxA97sXhotsRgUGM/CjkHY/ONxQLW7spsZtDF3Z+0nucqQY74RABZDgNdaUToWRmGpyeNevJd7i1WjT/Vr6jgv3FnsFlLUi/DQrMB8e76zZzp72DWCLz+8jMDIAGDEAAAD8QZrfSeEOiZTBTRMM//6eEAAEG+LE31bZKIQI1bJlPGK4ANoJoK17GQJayFH8weVgZQvUyYpla0krloDSgSOdEg0nAgUxQn1umD4RPlPLo9bSH2h90NogUKQFT3qY1cIC/B5UmQTeu3C5ovT7PuR9580vF6nQ7RLG6PnXXVMdnmIK9jz5FHXuyheL9DSLihJA2EksDtYCUqWNvKi6y7YdyUHn7OwK4cQQPtY44Mj/rLKe5AdPU3AdRTvWXlaxTHpivV/316WLefNC7GOLDT+41GbMpDUCtUnqZCdgeIwE9SM6tXG6RPRuk9bcq1glf/SaO01P9vGFM52/QAdUAAAAjQGe/mpCfwABHYjDyzfoLJyAA5+b9ZMrmGrOSilPpL2Sb8s8w3P00/Qg/0iMMXJjNUPhl3kVkeZ7ZfOrFIIXcvMh6lcv8VsJfcEF6XZ2vck0WUj6TUH9lOajgSez+gYtTuegZ/7zeEaPcUq0EVxRz6oQlcvWb5QgTnQZqC6dbG04R/J4cIclEhEgRMB6QAAAAQBBmuBJ4Q8mUwIZ//6eEAABk+E6Sc6LIUQXnKEoP3OON5xsYwANFRL7zAG/Sdlqia/w2EvoinftF7+W08nYkLJbHclgkXGMhB5RhB3OTvuHdizB5X+qTkb84v2Bm/TqHtGX3RiO2AAzv90qrK+JUYRv3KrQB2eIb89M+7/jZ14YBJ08BbS5AE2+Sl5oBMjG9s1T26s2CBhBKJmfOoYzmgu2lFNW9NPusUOKdPkz1WXVy9nLPCblK9gv/Czq1p5/dk3pGrFM0u9W4Fh7itXk36D/A0PSqOvqOrR+GKnopmTYwzp3h2+mUbb1G7D/eU0kDHwVGEarootQCtjocdZrgAg5AAABZkGbBEnhDyZTAhf//oywAACc/E5OdkraHPhueKYNpFpTZjIY1/kj2EdYfSG+kQADRZUoWcvmuoCr8PL5tzSB8Xk7Vp8NW77JRsVn/wmOBhOzrGCu9bQoA6DT6voznA/64gmREL06rVuXIo6H8FrIUnpkPUiub/HjjcVGMYMNyb9WLCDQuvVkJiGaAhXRdfhqPlCGS0gcPMHoG1jE1FVi4ye1zUuN5oHHBW+Xczl/xTAb1zu6RaSMGJlTy7FD22GLzGVYXZz5XUdh0yOEQdSKi259wJhnZj+yL02kp4kRwWL3vfgZ4YbeCKHUoeXsdicgFSN2HJUYZ3vNJUqwgXeDJN16qnQKr+zNmF8PSOycx1NTI16N17KlNK37XfLz1AFfdQUFrrWJGlKuJzx9eZWHM3YTfB+joCmhYkO5pTaaDOzqmytCOj0MTh8Df1cXy1g8nSUVUbxtU5J3/SuZxz77furUuuKrBUwAAAClQZ8iRRE8K/8AACDBkyqrUtDwLBFu8tCwc4qkekLTrQ32qAB1neVB31wfhnEfOazPqoGE0rZsbVNW1WJ3ep8zxJjo5yDe1YArGTsEKJTX+71TTY+CCL4uOb+E0SgsLDwBtexvSh1JvGHtLJ55PD6BRey/zQ/Jv3m67JXpFKV67o2Pelr2CWccCcn/bb65T9JR/Zo7Cs7umCxiSUfjgt57jQuB/YHnAAAAnQGfQXRCfwAAKyineRElr1MRcoqSgaucLX5gAOfl+hdPL+slVcwuwF55qvvMIbee//BtQLp00V2F2IatlFYBmaUrui/3Fnmvmzp7oePp3cKBiFvWnozOEhLaakZN+9j+TIWjsH5iPm3o+th3P1yGdpzzuWmARzUI/kEa0CdSvSfutHv2fAjf613BZO4DYCv1WxnRmktMT8ZdB83ZVHwAAACpAZ9DakJ/AAArNvzTkw52Avbmvn5CSzPfUZP4AHAcX9vXfxjQZKxogn6Qx7ef1TaddChqKbGyfabh0+df8Nm1RZH+Y5g79woImdqgF/rYA1ghp6Lp9VZBdgAPaxMzHK4GYK8iuHQAPBfy426c/yasSM3XchwyzryZiQ4vsX3fIHAf44pxnJqoGTuzuTwwjhc055C1mB+mMksSEzJRgfAU5/bw+BNxYH8y7QAAAQ5Bm0VJqEFomUwIX//+jLAAAAMDacJ05zQ21zaS/g/AAXzRcJl1F56H9a/3z777fSKhFIqtf9Uj4p300ZqfpNgjzttS/K7YC22/+j39d7hETuIsZnmXQxrmgDxJccTTfemLop1NjDQvKuNQEme2XOag/V6tp8CIq7HH1oAe8S/9RQRSI094rAHVEM5xOvSxlcRHnnGjyeN3hZ74h3USH3rt2EgdbSbMuBDfUPNnnX2RCckSbK3Tp3sxnsxKT94UacBzi2nEEAtrM+sHikPWWSPhWGKHdRFDpR60/BOhyRthsPEd+J+zGbrd7SEA3V7tYqWVZuFEGZOtCuwUmkvGdZCzv7y4MP9OLGFOrwC8FeUAAAEhQZtmSeEKUmUwIZ/+nhAAAAMBUeZdIYzAs9JoBO9j+LkTZSADn/wWjmfvAPI0lqu6Hhd9xhZBzrDkXyK3IViOmNoCdmBZF9JjDD1Mz1vmzLlu8PLKI0JvZie8/8DTXq1gHFded3Vl4Mss2l86YL0Ug0XlXtUM/bcaUxS/r8d0iUwx/JczBqwXJdEs2g6DXRjW2dPnazlMallrC24pTvfCNe0SQxO/852d5hJ6LKYrHhP5/0QMGynkBTDLz5dyM3LAtqktqa3DEt2XKxEP+wN1dH4NgR2xHDyndLKRr6T4AIJfQxRPp+m/1UQbSdIBgafpXy7Sw+NDWCPcXuCRMMtpn9g5aGgUDp1rMSSnGLvYKgkBR8nFlliPngzbyl/+u4t+4QAAAP1Bm4dJ4Q6JlMCGf/6eEAAAAwB/eE6Qxl7xf+aVtdzLgA1XjYn6TRnlqbIz2Gxzubbfe6wWFTcq4eHSIcHb7VAevNitZDV9d2AfdYvrB5T5GFH86b+Cu0Ph9SR2HPRcK94UnmKo0c195ycRNCEIJqm1fNQn9GPPm98nxEct1VOITdel73Mt7jK5LUCmE+N2U5QFZp1yJdsmsshBYghHcPr5RrZzoB4kCCm0JprGDViBbq5ppG10gwopxlY0J5xuvqbkZ5cp3uC7Fyqmo7E7MQlsWFeCqJoteKWjS46HegivdbsOVDyH/J4GOAiN+pc6KCQ7YegXNmV9qNPf04OBAAABJUGbqEnhDyZTAhn//p4QAAADADE+x4OknU4DqjO1uwAnWlTR7EYWrd1CcNM7PEC9oEM/GWVvtxnvbglt20BeFH2MXtARqruGCWIYfLxyO147Bdv4l4u1v7ootygcL0ycYfs26ANzE+6b2jko6a/cfDk3uFB5XYSg2ED3UYsZBF3qJFLTUJ81EwQOAe6CC6bvdU4U5kUMGC3DkQRFIHNNhcDQpxQdIE7u9yE36CZYrLhB/EfsufupbRNaSPhyDuaHassLhC4o8hNiR5TEoKEGO1CaSfYOTxDmOmnFjONni3n53tHv8MIDW7IbIl0iQ6giNnQsjseQhN4vGe/AWIuJCoquginpKk30O1VrBpId+ev0fWDLBH80BAnv08tBWYUUbkkowKaAAAABJEGbyUnhDyZTAhv//qeEAAADAATb5GwHe/Sb0oqIpzTVLHx58GOwBALMAJ29jHvtfqyjESppIW6QxXJY7Xbhvyz4RwZSbyuHIOsJqtajOwL6xPsPeptxI2l6qvfXk0pVcN628zgK2gCZd0yBvGXpKi2IhFUaYAO/QhIf6knkqzVN9fWT1bML86iMnqrNc3nmikEnOCxJ/1DSLEXz3r42TZLTcclz/+iUHcTZo9w014bwsudHj6bsZO6NNH8ZilHRC5NXsAWr36qpO7am2jkSm34tu2wsYAZVR6tQfP/qFukmicgsAzpulQk9IvUqTd+DmYmIgzfZnh6CS/xYdjwZrDHX9PfmbmLBNS6vEZUetm7CWOqAkRuK2Mw+tFu2U0mihrvudIAAAAEzQZvtSeEPJlMCGf/+nhAAAAMAB0fY8Hr0UB36bGUwgGux8HMlBQAiDxVqQjQKgmCkgfxIaTwg2Wv23EKhB+0eWcNL4r/u0hCeCg6z3cLSPETDlak/uPeeX0MGridWp1nWV8BidsTfco1oXlmKxMjlKtiBlf+uBBLRDuDd/d4vrP4w5eY/+eVpgQm6xBbflVZbt02suRDlaz9R+JHdgjeRsNziO0Jg3tIp5UxKDkUnItZssISJRv36O5fBWu2WfwUfI2nvZ42dtv93Co6K6mECQ1JJ2Gh5fcbhKvQqzAviCY0sC86fg3rDIRYxPKbw6N9Hsrpi/pf63HZGEBKBMRjknE66AdsVAlp1P9PDTUq/ArCjcKzIT316oIO1GmOzvQwwir5PBodVVOaQiSVZFV0/ZHKJFQAAATFBngtFETwr/wAAAwCjluabD6YiXqH3fCRzNYPJ/XMFgAABbPOjsbjfb0EdxbW8J271AYque1FUmdv/NwbIDXVS4SlLXRQ65PVebq0dHDxt27MSWtPvdeS0xb4pzZxJBAY7xinhMiy/UeWIWKqy8tRKXnx1MDwKPkx+88FnI//UeC5pJlyPUfjjVfw9kuXz7WEFRtbOfWNHPmylLwozP9Q0NXta4d2atU9Bu/oqaCZiY59L5zOMlKrOizADjOtSj5KPBUVgrn6VvF9jcRsW8yb0JJY6FXtMdOqcmS4r6gpnJVsdh9N8Q5WvV4mdV/Qhjj4a6B7sc8uh///z0nr1Jh1y4znf9HhHW94e/TROjl06tZ+3svwnYSWNboCR4LEWHt+wGFnHMHMiyQoKj5/XiU/O0AAAAPcBnip0Qn8AAAMABpfOH4JK+V60teCBO19Q+QAQ+P50fmLT32uWzwZBCskK0dj9nmq2fALwbvCuvB87IfCZ8AeqEa7e1NYsB0NLgrr6NWIlADLKbhctNHTaHsuHeomLposuwKm3cHQTXwNx13Hx/gIrtKrHqIIAhN1aajuf5YmeCchZqKJnoI6+MqZ3qCrmmlpYkzU7MyYMBSrUQPvf/+fT5chgTovWXMQsf1Cob/zYSWqnjokyZNM+Tj0689/2e/k9uRUzx6xzNFB6eIo8pYdM1SviFv0RwWgZ2qxj0pm4UpMDe4EZ7Na9M5UEAlMoMh71BwLMl2TYAAAA5gGeLGpCfwAAAwAGmeLdM5PLhGApfarXF/zgBNI5TvTXixgEs3d/DC5u6r6gEAq3kWQeS7X3Crge7AIHIVfpT9v9qLjTLubGrf6G0fKxXhxRDyCkxSlIHqEj2EhEev+BGiC2jQbk56KniQAv6WBOYur8dUB5DozULuCRVL3Lhyz2qbQtG5Z+INTvS8gguYDkMaFhbeD1wmRVddRmFPrT+fyh4ue0uSkVQcRJ9oMjo5DXbc44h0CKofGT1Ihc+Fbn2C1i0qJWhO1R/NXjEZof02nkRnXk8pfrwjZYQY/+7Wp5c2b9VUZBAAABS0GaLkmoQWiZTAhn//6eEAAAAwABPXTrmtAMJs1xTCfABUY/L7K43idejTGEJVNjPQ5YbJkhHuErjog/w9Qj1ufsBC4pyL2IxbMhLNDBqkAhqaJcMYnowih/rt9VmoNO4XkRjpg+H5K29exhtlBgKT2F6rZofkzmo+XNLDw3VyMGp+AKw2QVzJK+vt7DWM1byZaHBo1sREcCghjLSZ6C0gXr3ltLWadVKt+pTyAsN0OROC1OYlBbgoV88oVu6jmJTdctU3Y/Ox4CkjhOta28GMAmc9OoOFzL29UgWOrrTP9Q5atEGtFURCEb/i5AUnZcGJjmG7nm1qKQItATlkAKcsoe4gFnaF5PyQxsEeXocglB2WMiIAZQ8UMMdfmXAjSS14+m/qubv6L8joG16rwMTyaou71n0Y2P9yXIBhL52URayhGULR7blJNrnbMAAAG6QZpRSeEKUmUwIX/+jLAAAAMAGedmQAtZ64TLxm3z7jsn5e/clVMHd5I7bqBx3Jrb2TWyLk162KB+PSfQlVIcuOAkYiIgFa4eakXAz3obcG0bzkQ795Q6o4mHMcyyp4TFRPmhTrr1FicsDcSy+3eRPKu/028Ou2nUWTOVAKazIglJDyb9QQ5zoqj9G5dAXCo8f4Omnr7KB4PJKqIeUTiGtAxtM67tjSwBAncYHuYZp5kYOKi78WLA0sWMIuR9u420EPQgL7IR6k6EsKzQ/fSf8E4/envOoVu1DnKcshiqB3toeuWqFtFrupQ0Mpmac6s2OChbGbiVfP1b3R7VUO6At8/xMbBDZOzFxuJxmlSS+3eLc0Y7KnunLiyIrmL8Rf9KO58SLEChcljdLQkFz/4dyhg9W9eIl9irp1JU6Y2c+P6spcttss3lurhkHvTNvj5W+kGpInAj3hJ+tfB4RS2asCQ3/dtz1cDChnqqwSzoRWHOg/FS2ZtYMER9yQkFobmvu57ACilBbGB3rJuzu5K1l49rPYfc21rsgn7dRcRJVMfqNdaZoMROYhU6C+09Hwr/jLLlkgjVYG9CwQAAARFBnm9FNEwr/wAAAwCjluadT0e8YVNF97dFjb8UohzLx2TkfpQAQ3Wodj5fNcGdgEit9cQ6hzacbtgn5iX8afv2EO4j9VnFcFc29uGeiGXygl8lMIgaI1KBxEXgllGdz/Z0DdD1jcCePuqm3GNXGsOuLVSz99YmugbcAvHT8jQjxS9vEM3VaBgPe6tzzeqD3m3gONIHL9dTZjkFt9N6GuoYrVQtypJ1f57Is9XTBQ86RzUyazxd1tZVLpXnap0bSWtGT00OLolfIf/BItOnZX3H4bnIvnl2dnfsLiS3YAxRiTosjZtSAVmKsik69E/SiNSpJy+NnqPYqspZ7kmoXq6scw5OByGHrl6frDXtvS5BoBYAAADxAZ6QakJ/AAADAAbp4CZy+mi6s6biqh949YAB1aHdmIOnwqGzct3HE7hPqE6NvnKsKPsiUpzokcw/FyHlOUgEXqGfQShSYYHkyzPY9k8fXnCnB2pJ8GkPz8YjrF+JNIVNu8aILHXWE4Kk0CbjduWdu8mgUEvGHv3QOuGas0eX3UeRND1DCDUAKVPc2CRuaaP2vyMjgRk5tXK5Q3qEuTk4Wfo7KSqLT62UXp6SY1dpd1bwcDnusVmeNngFCFIHcl4+TmXc81qfrNlap47tXwkjxD6tYxOADF/hjy1jV40DW+riVgVagMYla/t4oRj6cyXjPAAAARVBmpJJqEFomUwIX//+jLAAAAMARilSlLwFcQANqPXCZa26CqalRbWzgfjToW/X24YNdr+JwTbOcUKPA81e3zvnZFPbCt4b6uixQU3sURIdcsH4LFoKZl+qDIlZ+g9J8s7/4iq9oj7D63xOQT+7mNCsnYtQxdlX5jO8WG3ZZbg1oKaNVYwgMIeMQn839ouPnqK0pTYlI9j+NAg/X+yPdF1Q0AAEvXpoCm+Pacb0FjQPjBt+N4jVUcBHtSFEev7JQ7P2yCX6zwqts4j04K9msC5nWTrSQT8KvF7hQnLNyL8TW065Uke8otbAvHaymxGC8m+WNi1jaCucSTIjCWcTwQ21DwFlu2pcNfVbNEKgsy11xcaLCPjfAAABIkGas0nhClJlMCF//oywAAADAfT1SlLzZIgASyYUJlz1OeNl1X7vTjEwUeQd6ndlneEx1jb7he6V4n7QR8Y0orxLFupOsS+F6EqvBeSzJhCRz+wDZ4FjS/9CA0SGc/5EcvSCpphi0TYS9/TE57yGWg0gvS0GqZH5TZSkna0DYd7dYBTptuUSYChzNN1z0B94tWgIGHrgUzTk0DIF48rRxRlOPqtW28AgCLM0STIXFMACaa+i2Mq3gFxYidKxjsX2ptK8qrHylWMX700MrItKcVSAT8NKKPXolx5T0vyrejgsHoEw4Pa9r/3c/1zrAIekEygWxrTtVM1dZHuNurzcWjaTJPvE8EY0//4107nPalvwdfFMBqW7C8Jij0zIGbJRXKSAAAAA9EGa1EnhDomUwIV//jhAAAA2IcDSKnFvAAK+Pq/orzhcth9EFWiS6iGBd0wo0xHObKtIpaF5Hc6v04BQ/ZGUTRiKy8zsVWWvfRObmh2n/0Ot90vAcV78kegZCaEW0VOg+Krn6f5Wxc7lNlTbjKFvZacp1CJ+w3XtJ0pyMZi9tgnci8gN+9QL1xTVfhQNs5YPHlQF0bNGfFPmnpSR9QgW0lqYv4fLaFd7xoondgbTd4FeiggaTEmh2WPO6vl3PrmXJUP5xWFMhNDMPUoiHlTC5G33bQxactTkQ1FRqNbHavUbH/Y4O59NoEdUuL2ksa+XeuDhjZgAAAEGQZr1SeEPJlMCE//98QAAAwF9Up8ARMdM1KmOEfMMnlJI0z5oLhTcRblfkY4jWACQkTysFRCH3VwBQy+VHKxCM/pSvxLpq0G0mOtASkJba596yamSc+LPrma/mp3/4O9aFWOOjjUSB9c0LKRM4+AMhCurBi82wzIymgOclRvlAE7EbjcJkxFkzeivf/LydJWMQkLKAkrI3q8VXgoX3Cpq/D/gR2z5PHZbbKFGpM6gE0W7m6kBDGQz/sl5TnYeiSSkHU1Ugae7BBraLWdv8/H5b/nsN7TukQZpcspr3TLgGKtAduWpoxrxOiheMP+WjRg8WUp3SnXif6SfJ1zsX6yT9UhFysCVgQAAAOBBmxZJ4Q8mUwIT//3xAAAKhSDwSHTW8M3rMkANSBR6gWOlAgdet/0l5JppmIFWO/3g7YC29RPhVanA8IZ0kwTFnk35HkspWYGy3Zzmb/T4PhFN/JlJzvG8sLYuEzcnQBSJTfour/QMUwgd9wJewECHesYFLIbUH/hIncB0xqVP9Z2REgPqIcxIgIqwAI0dbheFuhbBuoyEHCZirfKFyJJ4/IF4r3joAAX/wIu2nN1vt6I6i8Ue3Ycemf3GbHW+zeB2cEiwEL0+XaLlZQi6HaDY7Py4mxacaIQrr4Tv+yAKaAAAARdBmzpJ4Q8mUwIV//44QAAfC1yChAG4csgI/oAL5msrSxc3hGnUiGzN1+ZluDaf4SgrT8P7ThLxrNWGka4VEWFE72i7fsr+tB9qVEU7uq6/fDqiAp95moxZbk+5/5xDZysZY6fTmlGx2sgGvt7Xpur5P+5mp/nofeDF69f8fkOd2ixKDM/Rrf1Zp1jPTIpvC4QP0kR0s7aHzUY5ekCJVrmWgjal3g8XPBUkHrx2KbjSCNKIxzIxnYpIjiFpz5yMTckllOWMKTWCj3RzS1chVwMDUYvl5FfkjBMoph+etAoG0eaP6Pu8A7yiSsJxTdaJnyolHghdx9IcyY57w/ed24cH8QmbwwbSaAFFm9GNMHyhseBXq2AA1IEAAAC6QZ9YRRE8K/8AAa4OpVd6QkYNAR7AoAIcf6e1T6RZjGG9+fr1G9x9E/yy4QkY0k8ratSKYUUMxDn+yaqIf8Gy1tH8/u+vEH/CPXHlIvs0zcjR80Y3VLg79zbvYTgg6snJYucWpiLY0H6eXC3vBbZMd+/YQESN0GNUVCw9AiX7naqYB2wMa60cxOjKMl0gL5lRanhx7ZXZ1dNPN1TlGJ6vO2P96ZBgW81sVzcngS4b1oaPOsN0NXFa+HHBAAAArgGfd3RCfwACLBmsc/2DFHg0ERzKgAEQdvkNTgb89z+1qVNhXxuy3cSLeHv9w3Q3t18JetlBmnBEl1iApAT67+JxDCrDZBTNkPe8vK3b/i0I+H967brtqzE1fRRioHOkz5nnJt482d+7TEBpY249UR8WTNanJGSBMsGOV3UEBvt4fFUCIJRY0ToumyROkqzTvQyOr2qN74AWSJGgIAsU4w7vGqWUHHQHfQjXENmBgwAAAGoBn3lqQn8AAiL1P+hZSLGpo3O4AOV7+iSGwng1osMnTQuphtpme3+iixvJv5Q9Ojt57p1WnxtssmIwUT3m7OaJ/WMEaStt2D1QCkjDwhgJKlD6hWPep0IF46YJ5/8bk8s3Y8dBkULbLMR7AAABBEGbfEmoQWiZTBTwn/3xAABNuifj1UzC2UBmTp4iUnbfPOOyfl79yVOYxmYZNRnu4pYsU1rNZ+Vwnwi2shsc1BeXpyzYhXoYMd38N2K6lHLDKMCbbrVX9IdnRcB8O6ct32fy3jqvSR9DoVxwUZBDiT1QMMgCxq5fhX+NWpzhlbNBgkpShsoNt11GT28umz5QOQym7lZuluaRgyOe4O/ELGfLOJ+gntols7iVDEdglyo9GjzL/N0AHZacUegUgg8dMgrpOfp5akpQgn0OCdxFx5lZWwVLCG2O9XzXpidoQDtjGIikqhnWlz2zXDQDrIYScM2Y96sCOfaoAlZMhgpR1MleAAHpAAAAlQGfm2pCfwACKtMNDQ5gANiYc7yDMC5sgRWqIV89GZoPPNJSWjqMVq7z6JU9EHM4bnNaD1NT6au+lpBj5FaD6nRJS/s4nak2UBBMFN/mYgoCSdQc4Jj6bBUgWWPHJ2i6f9Xn8fkjiqtWeT9xCftcntg5nooyRzwpP55+oDPQuwJVy7dQXCPgKOnbI2d37Z7ywT7bcj1hAAAAw0GbnUnhClJlMCE//fEAAE26J+QEgDpbi8peoAq3hbBzyjJTxRDQ2JuiEpXNfgEdzCHez5h3s7PBpdXJwMDtd0X8SbnsTFQyb7c/MYLuXtZFOiM0Zv7DfvQ/CPkKUByJOJjpk3bw7AILqNQ5pZAQRSwHfXpgSNquk/03qgX5c4wUzvvcjX/5SkBNLtixoEzcHm7IFa9ThLBxyE/QIiyJZ8gSExJmccs70JGUu7WBKlm1PucGi4mJ1gtliEfS+RDgMACHgQAAAOVBm75J4Q6JlMCE//3xAAAdH0+ABdAY6OPYE3Z2MCMpRUX7MFoiyhoMTwH/NLslO29gaBWX2LJP1+wDp2D56X/QSpsSSM3emgNEGc1mziQcnQxaFOzlWsI7yvQKfnrtX6LP6A0drC4ormwkLFZu7rWVsLsjBR2fYkek0jXz1TugzZXNWz6qMfYSUba99ubvE7NJxehDTtgCW+BYHpFliDQd3PrgEmsyjGxdRcB1jiQkf8TCij/1GCDBYdsXABZ5oli+0NQF6htojpC66A9i5bQbVRa2N/lJ6HakxjxBjM9XNdMkAE3AAAAA3UGb30nhDyZTAhP//fEAABxvTcxpb40RnFskgPVWgO84FcPCIM+X7BNqpuFA2cEOXZ64TOcFX1UCWABtqjpXnTtxBFWofHWQOn27V+yZTDyQsJVXNd8xMh3TR/8W4KhOHJMZncZ4Moqhbuy0QpxbGUqUYPBRKMgMJKTqcGo/jNrfeaw31t/TgrMBS/o//oqpt3bM9v6qvH+hcPyRshtYNndSna+fQsjEpnzFRmBtxQrzlMycctM5fHTgxc4aODItT2QzY/0b+T8bc6N9UO7Ms/2FEeMl8gY7jEqAgAEnAAAAq0Gb4EnhDyZTAhf//oywAAEh+JxH7U+f15TXxyWsw8hVjggnQcM9gBMutjsmTaHuVx49xOXuPL0Mglr+Ey4jJhSootYI6589w9tn7hCOwnPJG8MvqCqd9QPdJqHnsiy9Nqza+wv6BanmjIrO907AiUq3UxP4RF2XZDzFnlXnBEi8nXS9q+8ssocDzWfjNy2GrA/ydSyVHrMmJU2AYvHCom4dR7P142fwfgA8YQAAAMVBmgFJ4Q8mUwIX//6MsAAAbMersLPnJhDT1rPzsi7bYbCegslnGYGqgBHJOX4mazSi7fCe0b3OCg7MT/73CjeGaBob492I+FzfbpdFovXPv1qNzpVHgffp31jpZi0FjzM6BL2Jrf7NvvP18H/n/2dWQXq1hYus5++CNALpifYrHtH1y+nm01Ks8Cg/7ceDWQzm7pdtO7GAkjnXWaO+diLM4XJVfvrHl8nsKl/1eILioux1rk8++iZwzhpHDvCxJZUBRgBHwAAAALRBmiJJ4Q8mUwIX//6MsAAAaD1vAOspOsllXa5hqq/wvVOfsAE6z0Ey9kxl+zGkuH4P9fFifodFfAmXkfAWNjNJvA3Gglx0OVsDJ+NffGBOpQkq9qJ6HUZhkljyrTqhlt1jBxrddpmLKHbXsSYcQAGcxn3lGbayjQtpsXgCsHpnt4q1qjbef1ucM9S9yufSwq7+hzCG33+/Qn1scKfPMKzVguT+KEpxD5gVRsV41ibkYAX55N0AAADCQZpDSeEPJlMCF//+jLAAACc/E4j9qnKNv+GOsvMcALjFRj1jYw3UpMuMzPI+7e3jzLitwcdy5KrMIumxdBYhkmHaX1bsCDOUL5Fdo+ldD3fKzCjqRiyfdDR1R1F6IhKsHrZKxe1d2FCChn6juru5YzqZdVieHBSzPDrwYGJi3ngxSqgeXkQF/YFhCHl+lc0Vnk2GhfDnznt8IRVvo+JOBQzYPg/yWrn8+/HXB2KG5xEDt/T+Ss1W0yxZdaP/kDuAQcAAAADBQZpkSeEPJlMCF//+jLAAAA5PCdOc0NuCICRtwN9YJOt30PcAJ29ShMvQ0P/Jj/0DIO8phWXcqGiDu9thjiPoMUMSRgIMryOzOiflOpRwawh0SjfRfmI6FYRAALICrE/ea1wGpD5sMP7icPCK8WL0bZdfwx143BMf2UAGF3JZuLTGjD4x2+ukmn77ZkY2WXwXbviUipdBdiNL9RxVRxOzvdVcROSRQkpy7R70xpPOTMPuBW5vLadWPFnbk1Fub78D5wAAANpBmoVJ4Q8mUwIX//6MsAAABVOZcxgYZ7hKOCvs9r+efwtd87fSuQADjepQl1pitYAfxMtvbsy/4P85+u8jW99S20+4nuPoKeRWMbgH8NtgHc++qdlhd84T5iR6R2b2ItiygtmuKaXytPmWQT6j/2tn1CgwG+Ofaemou55PEcDWY0cGXqTngy3B63QKewROzlovigL3WCtSIj+xk95ZZBd8w9MLIo0pW4UTWbfMRH+ozz5wW/nq6tCJfh16vhYUlYbPbKXnJzuhBlZ5TXEKCHdjNoPQossAXAQCpwAAAPRBmqZJ4Q8mUwIX//6MsAAAAwHq+W7wS9x1zH2E4dEBj9QARkeuEy8RGYRabUZK2fKe11NUN5lLA8ctB6ySZG+/aN6LdTQwpg6jrJ/77m/eO1oRQr2v7agGcqR60cN5EjEEPqqvUUgmil1v4fIFoS2d2Ol9gWhIIhZQTFJR0FsyVQvDAmZ74I5LhK0D7F6cqK12EOCBcwohBPCnQEFv3NEZV4Nupv6VdA1B4UVd0Tsb4KMArW/broieZbGe4i+OfmEPkpRJI+BSykh9sNGj07XoDzDqd47kf/eB1OVhVjyZQJZpmDWFdoWlah8HBQXUDPGyZBcRAAAA40Gax0nhDyZTAhn//p4QAAADALZ7v33+wxvwm+1WDSX8Mnt3D2QkySuxAAIfosoW5a0N2yCo6NYUZAkU3PL5P+XIMNrKJ2qFkKFydK+a9WZynFhu9FSVkd59c08vk5AuqoPgA3MkD/epQVLxQdWqnsIZ1NyeXaFzTfabq71FUIqgajA2ApEnEyp5/6Em/KtzxwQHUwQvzftaYQpnKMC2rxay/shssbS0xJpGSkRd13ULWnS7CmiqIeqYmE15OHWypzKjU8ufY2a4j9PUluHuz0B4QCgstVgZLBOb28PPmQgkqV3xAAAA+EGa6EnhDyZTAhn//p4QAAADABnfY7qYi+7yrknz7U7HxwN11GcchAByo2qy+RrbfKGdbHDk0iEohnpkb+9neQkEVhJrsxpZ4AoqjAPU0gWxzuZaa2xj7/Wip7vatL9kQTFKQuPzJMNLIyyZ73H93WbBYfKlaOTzgtaRJ7w1lAvltmqGC3f5R8/f3wHpW9Krn53xLpAmEEAMvKo4V8yxU8YWwHzU6Wr9nZ9eYDJkHn+u7KPLcszn06teIUjdFl112m1l6GDqScTZ0fNZVXShcp0Ioc8K5TjsQRjPZFHsLm/6LnToMA5V1l4E2ylWegrGB2wfe+MMxxy8AAABHkGbCUnhDyZTAhn//p4QAAADAAl3xYa/aIMZ5W97sa4J0237mABT/IB09ZLeZxBjqcKbV70hv7U9augeMBuI85EbiIn6J8g16e8X806BppdF31hgkP+nH/igJFGJlRQbvtNNjTKo9aGIGjrxtCNo3x3Kgh5bmg1725e6hFzFOVud5pxiQoKWygQnniVMqii5y3JthAVWLw8cyzASQhKRoW2P6o0eFf/fsVmi//s4zlWTUtMaoBDxSxvigWK67JDvI/QtnrsMLduTH6ZI50EIQnrZpTT2NNs/AJ/6EBC4dRtB6ZqKrOKmtvaxfTtWLcMSCo1idkutAT/7AFMpyX13+nFfySpvl2P2jinBsk2XwqpympkCUYy+hu6M/d43QhAAAAEjQZsqSeEPJlMCG//+p4QAAAMAAON82TsZoKdSQAXzDuMqmqKqUAvIQRt530pEfOAGJg0v+niqanlXxDtgpICoRZ0mCwXaH/WQFaF2JYgoNvwiDgOa2azgQuhTVDYRa3ILdNT3/hslQDOLmjn1WqyoyzMe6AxE244hUIFlJT5zbtHd6Kt4hUjQbjXbX+1GeYm/ZffqOr3ZQyOSexbRrBJRbaVr7euFRU9g4WXyImU/SC4iCmeyLK4sg9YPzoZSADlcJsFL1SaJX7hROFk3XLMvuPw/TYp4ux/yhLukPOp4WXfwlZE/AHWYotf2Ve0uNBRR7RX0zFRbAxg+acwNkKRH3PO57cWoNQI3gXEvYNv/hDW1B/3IohHCDS1Z9qb/5R7/+9s5AAABZEGbTknhDyZTAhn//p4QAAADAANj7Hc6Z8fRk1GaeQQAD+evBaSIuEZ4ui2t4T9E/XmF22sOicfjFQHbn6QYtKuWbd2V6ToMqAMRrbYTCvffBIkJ1aK4/FFuqETYZ9b/VmqjaAz13/sHWHo5MZ3QtR236G5SmZZ5X10voRh1/AtmkdTHEQcWsb5L6wvKsTTCkgD24ATa3c7rp8x42uI9/Nhb0du5zGev02Ofe1GSe9Tup+nCOaInyHEjALY5f/kCl3UXD3b1xfac81kZAdU77lqp7Wofb9zit6c1JXDr5l8gJt/q048cAv+Ra8UkugDnuVi9rTNesUh8ky3y+HxJKSKs7oTRDo7DFX0INqyS4jHEFy2T/ts+4LdeQWaAK5///XFnK3JAI2jiyIH86MeI+MeCBgBE0akTvIblfRqujfO4fwJf5i/wxERwb+MeGf+PCGbSAB2NUXADLFpVeFGCywRIZZTAAAABAEGfbEURPCv/AAADAwed+cxJ7dy7dENJU8KoOXBMkRQALqO5K0jaGG3FjqAeGD3qtMeQF8xKK3gc9ZhSbCsQ81ngaVWssgKskOEMRw8Po2XxD3Qgp3ERgKBGcWy54D8L2yGi07PV+GtCz13jqv7kZnsTLoDF2kwcx5JSXh446Rh1NVkGkUv0vWt6pI8XwC453sWXINMGu3RS0mT+OflRoZYbIsKGlpVICLyHxv42rJJr2FH534l/T0RD9tGa71QR7h962+SqDZfYi1Qmu36QXz3/ogDB9oygocX4bq4bM3KP1uluhc1Bco5+YcHMvIT25VhJOvw69gbMbPfYqth4ixwAAAD5AZ+LdEJ/AAADA+GyzugR0Fy1lxGUl6VXAAO0Op4g2UpgUija5RphyxC6/zwjS5rxu/YGJoCyXAC5f7wUs5XQrcnRDaT5pieZK7KPT5oqHTsGWq3+bzlm5fqeHYIG5/GU3fr+OCP+zWkJE5qbxzbkiWETrdc+NWC5wyUXJk3af8eSN7TH6pXCmzXEQb4Iy1kqb7CNeiEjk1CbX6xpext8eemSqIgM8ZW/BR5H5KmeJaPFZCSipPn5pnwJ7/aVPkSVVGHM5z49twuGmEhRFRpm74ETDMSinAZi0OgCvpZaJmmoOnFlYDvIs8m3I1g8kymNlq8Pc3/4iuPZAAAAzQGfjWpCfwAAAwPi8WnFc9+1cX8VlkHLVKj3QIOQAEPzcByVkK+8N+ocyIoNLb7qQyGno2wP+MOUjnTGZESidZAOueaYfZCSNVzTW45hZv3TnP5DFRKM0WZCH/q7avEQuZW67yBhh/4qF7ylkzXK/Q80yfidwcwlwPHS81e0Hn/9VI4llFe2kpWSivY8iiAc0BLikITHfD+EgN2C5wfM7uQ+Hym81zL6sysBIA0Sz9YL8QIxtgp3WHs+ht4yHaQUE9elmZvgwijsrXq77+EAAAEwQZuPSahBaJlMCGf//p4QAAADAALWpN52L0xalg5AAtMOJToHRRwoHqRAVjXbEFZap3N3WQ3gbpkOx885mFQTmhOEWulF24QoW69YLpY4X/uneLcerO8hb0aH8r96R0LYKNSECfIQeN20ehjnrRjZpnZMvc3mxCIyztkBxNfXHVW5Kvb8JvicSepmn+K1c1nPF5bm0kAtczlfWuzVrYgJh4ZRzM7dY/+6ajl6b2UH5EhKLpQ5slHz278strpC3DE2tuzmEDPuatiBexFX6FPSznr6bwaVaW/0zjyWo8e2jKXpZwyN/ZaDf5KQerQEEaUIf7PdrSE5zP7SojMQJts9C5ac1HuH6N0OVFGgHjGFxafzbKZbYaT//qoZPDIkcbWYTx+gcMvYHnSsBuuMDa1RxwAAAX9Bm7FJ4QpSZTBREsM//p4QAAADABLuPPvphZizEADQeX7J37q3gxFRiG+9E7PZIyhxJs4oaTz3/Ze30mV0mPwA6daBfUuYVCERkfU7C4DKD7KpCOog8HN6XuGhufP+9k0cnbua+dk2iHG2HZvRx///rXcNz6+TtY3l1LQCW3Mhh+lA+Zg1Xba+XhF4FuZQYwWaGaA+j3jrmkhXG7w0J3Fq4rmeBaOtI35HiYtlvwrwp/HTSB2rzHG6oXxr5qjHuJlv14wmSV92kmVUZjxre3b/RTsh/JjMMTfdUApUsN4PimZbnBfocSK+JQ1CLO86z/uqtjC6dtmdyZBUCAhSN9BugwpUXYK31rS12zg6Q19zegPYbAdZnNmNWDVn7/KSUmPQIVgUZssRBd/U+64zlHpEa38FMjg9FYCz5evJ0K4lgb4JsOtiNxGVsB4H3nO3mYooLKG6TtarvB1iO6hW7gCNzrgp2+elSp6BeDdj54xVGAea69Jp7jIQBK2NxzPPcAAAAPcBn9BqQn8AAAMD2E76HAZYPFdHIsdOeHTgG01oVKlACFPFCPvi73796IJIDCDLI1EPmszsugJMM8mVdo3/9QVpvUoPD+x/OZgdsk2SANaz2uR/vJbMwvC0cv8dP1NANpQwdNAH4T4pzOwjrKLrv8p6WlcoGndKg2EapIKnlYoaZ6V9PjboHoA88vDtgHrRE5bKT80iPXdJPaL33zdXyTt0bCyaQ2mhICPTdElLVylAFMYgpyFGAAquuBNZ+fV0B8c/4ogV/I6/MF8MN7CddIVE0b3xjZ/sm2k96pVwgpp4mW232D4hjVB08BO7UKBzjIzMXFUoF+XAAAABFUGb0knhDomUwIZ//p4QAAADADEpQ9YJvepxCYDOAAui7hZ4iQsc4pZkPnwW+4tTJDAVT+JXJNQVnU9lzVkkwukI5uMPHkClqdEWYPpNZOCmerNOY3TJAgb4yZCiguYhQJrsCOzqKmXekBJV1jFeMMGs0eQYoNELKopzydTstihBohYNqCOT2ZILlkhYNfRodkTFzP/jXQUdx3ZPUH11G4gOw90GhVsQhZu6PpUwAW70ebHKNoIKcI/sBEfFg6ZKNOAe2xjvXQ3FBKkrr4UxE3PCnp3J8/SyfnaIQHq9hH+K5ChqfqWhKP5d+u+VVbkYZ9rjhydWJ93Sv1WpsnbHafXeNtnovik4cCIhe127/JtMU1kKDOcAAAEZQZvzSeEPJlMCGf/+nhAAAAMBT69+XUI8pAByiOvcaLsX3z7JBy7+ZhIlSNkiRkX7mmxT7RnNdFoEIcafWmcLlepie0hzXN1vP70KveSnz/uO9qCe/8ddvVruN9rSoqb0qXo6mTVjbS2/L1T8+h+IeKUxhZyhVtdxjBnGTeuokNs5wKrVNiOasnNrrVIF2kFIdZ3zjMx6009VQ1+jFLX9fIEwMQzpcpPl1D05aaVN6gRRkkKctSMg4EdFYH4XLGVL8p12ycoSpmB0/wXn3imTVBpRGIFYucV+NdredeOhehWz6EyZkdF8kZ3zx0TlLNtLoqtLlSvXKdDZE3RjJEiTOcQkcwuOQw9JWEul1lPHhvkihZXAPRaQOwgAAAFpQZoWSeEPJlMCF//+jLAAADv60+HxRi/ABtR6X89swe8GIg4SdvMrfBEtiVmm9gxUfIoq/uojjSGNB/zHZvRq+9GmEf5WY0p2cJ67eT4onMcr/xYGZbq/G9HVoDmI/G1ck5DyaZWYJ7ISEPm7UfJbqCRRQJTfukX+snmDjiEL8A+ofKAZc7neaDzVjEhTnpLziB86LEoV57JPfJq23Uuu7YA95zMM0g72Z0CYw2JK0YP3WfvcQgAW0HgoF96afGJ09ENiVtNBJ59Pj6EAnPg7iBccBF0mns8S15PXEEUesMjPrbbc/+CjL/kcnKyacdUhtTp75O5W7lc04itjWc7Gb61HJFg8vrUmdvmP2UQufJyDZ+IxRT8UTTpHv6BCLJjkBM5r4nP7i/bQRgA0SPMn2GiH2zTe/KrZk1yJcZFzUNKG92fOzJ4pRPo15au/NDCOabbFMYn1GC+VuU4INJJZFcdDn7xuvvIhgAAAAMNBnjRFETwr/wAADJOhlR0HWmwE/8dw2wuh7prLouy7QAs1joIUDgAz4hpZZSDts30DhVIXlamIHO6jMsPqWZorko6w2UTkzGQo4hPdREO89Yss0NuosT31FyVdKbP3vUYIDOTbW52IDM8rtKtDCTkleP7EMOoWMaj72KV3oIDLqiK8rACpNTrfuQm9o+c8Oo1ejfpHP+3r1gF+P9s2evxMK4OMCj+7bcVe0patkhrFsn1U5yAOdEJKosew0l3gCLJDynEAAACpAZ5VakJ/AAAqFwCenSbnncGsQSuV6gl/VQAHO1KsqAFuaq+GlJEG60Bgph0QGZk0egW7Sw6TjX/8qHW1HrOkM4vlssabM5akEACjInO8GDS2VbJxRXGR0BpmzuMmJm0GADFJYGpcLpFU/zN3mhJyAeN49HMvSCP6/a5koUBL1Lqn5Aw4PpF4qQ9NE/OD40Pz7Nzrl3TzU3W4ITuCz84KfeeHBSvO9CbcrAAAAR1BmldJqEFomUwIX//+jLAAAZYUy7rxv8QAL14UJl0UaO+ffrK3e5+DxtYOb2PujMHE5QYr0gFLWG0Gv36+7Ly8GykQtLwFoySM3MLWg2AClc13JoaXqdU5446CIYcNoZC4ixF+5KXC/tdnu/b7pfaj0Ueygi+tA3A+/cd9i0k19U/8Xjiv8AWf9W+1+AyEfAV83fahzJ8DOYwh3FqHV7YMc1IwI/f/WhUkP3JytmY0PQjaqE3BBkhYWnztSwaOWJRcJIt83bYEG9BGVemaQ9DC6QguFstUnWLHMwD0+VILMtwQ+eOkCz6pSTEjsdkHd2fFaBhqypvjGQFhSORNOM8xpWCCjpB24+TAqWu2PvRD9Xjh3E48mTQm7VWldSEAAAERQZp4SeEKUmUwIX/+jLAABCMgWTXcULZRLkUV0oP1/3QANGyTmvAoFlJc7gu4cH4PVeK3rR+Q0n11wLyoJymny0WbWWQ/QlNYdf+UJ/t/IxINV1YafvD1KeK/v3GvttKzoK911CnUtP02Y7pt991h2JLEF0lhDJA/mnLbkxXt2WoV8FNZb9+j+LISsnDDf/KR7dVOBrBiGunxvHPONSh+/viXVbG6VeEZ9Um4k/L8S3kG0xYn6wAAnkXS9xYp9keL0kxvX+SQ+HmB7JLEq77ZRSJV9lhA28YqPBq6lomAVGHS2S70gDySehbR8jLi1FQ0163vI9yj6OHFpP/vc2suhRu/BzfR1oj3sy8NCAtrhNzBAAAA8EGamUnhDomUwIX//oywABvRRQuvFQCABLVhveyQh8/MhmHbfR3pB/HgNC/GcPrGVccq0m3FKIKG3+wY85QhKUTvnI4fUCEJOOZ0UTPq4BhyukkxL3lYCI6Kb6lQUeg4M5TwF9Zoco8Y+OGtqts+hGl3g1dS1AD6cVzNqnBTDvEWOcqw5Wt7XOtz81kQZ8/0svuk/B6QA9xXxfe+o+U23SqPfYj+YyVfnOXEAjz+BTNiuspYvheX9Hr4bfvBjPy6e4QmhE9vx3ON/r6NYmbsfsRo6czrUWcFjAeFCGD5VzXaD9Q7C3YXltkbc0WSIAAaMAAAAOdBmrpJ4Q8mUwIX//6MsABIAcjq3mwgAWyFzBkiP3YYW3qQ1TiquboPI/sbyl6K8ImKUkMPIlVZrn47eMOby77/udkRhab3/n/W0O7BiQR43X2LpzTC3Spek7AU5VmAlZksixrgb0BpGweSUOn2KrQitMfYezzrv9dHcrU0Bi2hTa0GixY5oIaGjJneOvFgaaDVNjb90nfpVITxVgeRjV3y/mqdzHEh8CQgUbH+s1deQfIRlqkHE0dyl2iO+7jLNjW4BS84chdKnEhqZzGaWbRccM2WweUfYsCfp8dOnKEheY8nFRAAJmEAAAD5QZrbSeEPJlMCF//+jLAAttU78yidRACE6LhMlLk/JJXi3vlsnECAtJsXLe7Q2ZAAOmGXwJzX1i0sYyxyU8lOVeISx7VDAZot9wZB5d+oTpmji1Zcfihsn1z1SyXcDHuWDI2UR4obGv5ohZcPN9ZfqImxIp0JtFbuPbbHuPynidAATtdtbW8vG0drCLHd/EQYwHc37VXd/XU3ZWaaiJTo4auLv2pcdXrHHUnYPrfSBDMAFYchWA4gZ+c90c1JZ5JFIRyEkbX+R8qZbgHzm/RQB4IugluN3KtWPvnqHOBV2DFftht4ycshjT2ziEP8Pqzj1WS0P9n6AAHXAAABIEGa/EnhDyZTAhf//oywALu2IKlLDlHD1hHsAFST4F+sNxntjw00qbtXKseLVWMF6txM/y3fqiHDTdfUdJ82RoEiYrVz+h5uMORVZsrF3vszoGbxf4gn1ilAM+Ga8RqEU5oh9Y4+W6D0XUBqYPLQu/P3T3UWj1alnvi1EV2dg8gAoHPFCwjh+wOmM+16ML+xlv/msmwuiWPU3CrW87+UHLWkBdZy+zgsIQCvCBGvEYsrxOsHfPC4/cJ7WiMi7L+XgK1VjVlpFzxgitmBrbHk7OqVuEfZYnidD5Ot0d2H/3ZQFaUMwcNd5aaaXiZMPrpGqUIba9KTcG43IWMgCQHy55/aIJacVyP6QueUl/+6PtAexrKnGxFGAvvltXEuAAAOOQAAARdBmx1J4Q8mUwIX//6MsAHSCisAOPa8n1yjBWAtfCNju+0+7pK6TN2XC+5rGfBC4wHc1Oc2DxkUjNSSJpXlROSuubpliT+e/fvHQnT6yLM7+ZaXNdXSDnDBQOEj4E2YcNrlUhMej0AgpRL/OtTlIKbhV4vPAM/IJX08+FqyDoC3rbnlSo+WYTdSYXOhKHVJ3eiI574Q/+zhfW6GUkLscJlL222qrtTtty7yGbdtTn9Fy3QnlcsEYDRrwGGyQYKOSIYiErlh9lZR6h2Bk8sIem5kBBPYV/C/YYBouiXR2qRFmXhQlGK68rY3eMEPDCafejxKxoDk/Gt62NUDSEP//mVf4MfYMsqBPjYWV6bvq46GwNhYGQAAGrEAAADcQZs/SeEPJlMFETwn//3xABFvgGN3YL6inKOjABfMfAjyKFpazXfs1RX013gB+w3NpesEP2PqqcOGF2JyfmJSDtKkTBurT3n7xbKNq2S8O1RYZyCf7AAOZeO3RQ0KZJLYqo+mWhZDbrS0gu/aZ/r8ICkKPE1e7nO11F2mPRSgI0hzJBzXtUk4Zr93J/00z7W2I/XelULDNuvGJcQlf/pdsCUsySwFT1DqQ2nhI1qxSTM64LI5wBg9lSlnlYvN5RG6e+M2y7u+5gxGMrcXc95N4bUePTB32i/AAADKgAAAANsBn15qQn8AfDcfJufnDaK+cADn4qrOhtNaw2PF/9gOK5sBe/jGKGYRM/NghlzhpJMxxPvQKJhuFUpdRGXHRN8sYFrG3P7T7KYLX06BmpLdfW3mMmORdUPNdwxLwW6ORhej/7FunTzU/UE2vtlBlJKOTtAHhEgGS5+1N2l8eKkuIsc56ztUIitrRQjHzQn6k/Zv7iO7utsd5MkJ2bnH6Cb1AUz7YPBQde6ort2eSNybrLA5LSCLKH4bu7RSA+7ma+gzUxNFfDUBTZfNELjUyR5kyLABDQ7jtjt609AAAAlrbW9vdgAAAGxtdmhkAAAAAAAAAAAAAAAAAAAD6AAAFNYAAQAAAQAAAAAAAAAAAAAAAAEAAAAAAAAAAAAAAAAAAAABAAAAAAAAAAAAAAAAAABAAAAAAAAAAAAAAAAAAAAAAAAAAAAAAAAAAAAAAAAAAgAACJV0cmFrAAAAXHRraGQAAAADAAAAAAAAAAAAAAABAAAAAAAAFNYAAAAAAAAAAAAAAAAAAAAAAAEAAAAAAAAAAAAAAAAAAAABAAAAAAAAAAAAAAAAAABAAAAAAlgAAAGQAAAAAAAkZWR0cwAAABxlbHN0AAAAAAAAAAEAABTWAAAEAAABAAAAAAgNbWRpYQAAACBtZGhkAAAAAAAAAAAAAAAAAAA8AAABQABVxAAAAAAALWhkbHIAAAAAAAAAAHZpZGUAAAAAAAAAAAAAAABWaWRlb0hhbmRsZXIAAAAHuG1pbmYAAAAUdm1oZAAAAAEAAAAAAAAAAAAAACRkaW5mAAAAHGRyZWYAAAAAAAAAAQAAAAx1cmwgAAAAAQAAB3hzdGJsAAAAmHN0c2QAAAAAAAAAAQAAAIhhdmMxAAAAAAAAAAEAAAAAAAAAAAAAAAAAAAAAAlgBkABIAAAASAAAAAAAAAABAAAAAAAAAAAAAAAAAAAAAAAAAAAAAAAAAAAAAAAAAAAAGP//AAAAMmF2Y0MBZAAe/+EAGWdkAB6s2UCYM+XhAAADAAEAAAMAPA8WLZYBAAZo6+PLIsAAAAAYc3R0cwAAAAAAAAABAAAAoAAAAgAAAAAUc3RzcwAAAAAAAAABAAAAAQAAA+hjdHRzAAAAAAAAAHsAAAABAAAEAAAAAAEAAAYAAAAAAQAAAgAAAAABAAAKAAAAAAEAAAQAAAAAAQAAAAAAAAABAAACAAAAAAEAAAoAAAAAAQAABAAAAAABAAAAAAAAAAEAAAIAAAAAAQAACAAAAAACAAACAAAAAAEAAAYAAAAAAQAAAgAAAAABAAAKAAAAAAEAAAQAAAAAAQAAAAAAAAABAAACAAAAAAEAAAgAAAAAAgAAAgAAAAABAAAKAAAAAAEAAAQAAAAAAQAAAAAAAAABAAACAAAAAAEAAAgAAAAAAgAAAgAAAAABAAAGAAAAAAEAAAIAAAAAAQAACgAAAAABAAAEAAAAAAEAAAAAAAAAAQAAAgAAAAABAAAGAAAAAAEAAAIAAAAAAQAABgAAAAABAAACAAAAAAEAAAYAAAAAAQAAAgAAAAABAAAKAAAAAAEAAAQAAAAAAQAAAAAAAAABAAACAAAAAAEAAAgAAAAAAgAAAgAAAAACAAAEAAAAAAEAAAgAAAAAAgAAAgAAAAABAAAKAAAAAAEAAAQAAAAAAQAAAAAAAAABAAACAAAAAAEAAAQAAAAAAQAABgAAAAABAAACAAAAAAEAAAYAAAAAAQAAAgAAAAABAAAGAAAAAAEAAAIAAAAAAgAABAAAAAABAAAGAAAAAAEAAAIAAAAAAQAABgAAAAABAAACAAAAAAEAAAQAAAAAAQAABgAAAAABAAACAAAAAAEAAAYAAAAAAQAAAgAAAAABAAAEAAAAAAEAAAoAAAAAAQAABAAAAAABAAAAAAAAAAEAAAIAAAAAAQAACgAAAAABAAAEAAAAAAEAAAAAAAAAAQAAAgAAAAABAAAGAAAAAAEAAAIAAAAAAQAACgAAAAABAAAEAAAAAAEAAAAAAAAAAQAAAgAAAAABAAAGAAAAAAEAAAIAAAAAAQAABAAAAAABAAAGAAAAAAEAAAIAAAAAAQAABAAAAAABAAAKAAAAAAEAAAQAAAAAAQAAAAAAAAABAAACAAAAAAUAAAQAAAAAAQAACgAAAAABAAAEAAAAAAEAAAAAAAAAAQAAAgAAAAABAAAEAAAAAAEAAAgAAAAAAgAAAgAAAAAFAAAEAAAAAAEAAAoAAAAAAQAABAAAAAABAAAAAAAAAAEAAAIAAAAAAQAABgAAAAABAAACAAAAAA4AAAQAAAAAAQAACgAAAAABAAAEAAAAAAEAAAAAAAAAAQAAAgAAAAABAAAEAAAAAAEAAAYAAAAAAQAAAgAAAAACAAAEAAAAAAEAAAgAAAAAAgAAAgAAAAAHAAAEAAAAAAEAAAYAAAAAAQAAAgAAAAAcc3RzYwAAAAAAAAABAAAAAQAAAKAAAAABAAAClHN0c3oAAAAAAAAAAAAAAKAAABM+AAAB7QAAAIYAAAErAAAAiAAAAF0AAAB/AAABFwAAAJ4AAACMAAAAqAAAATcAAADJAAAAmgAAAQcAAACxAAABegAAAMwAAACLAAAAqAAAAWQAAACgAAAAowAAAVIAAADXAAAAmgAAAKEAAAFIAAAArwAAAK0AAADfAAAAfQAAAS0AAACVAAAAhQAAAFgAAACZAAAAfQAAAD4AAABPAAAAsQAAAFQAAAFIAAAAzQAAAIgAAACtAAABeAAAAM0AAADDAAABQQAAARcAAAD3AAAAxgAAAJoAAAGGAAABBgAAAJ8AAADuAAABSgAAAUwAAAC/AAABPwAAALoAAAEwAAAAsgAAAN8AAADqAAAA/AAAAI4AAAD8AAAAnQAAALAAAADWAAAAlgAAAOsAAACaAAAA3wAAAUgAAADBAAAAlQAAAJIAAAEcAAAAogAAAI8AAAB8AAAAnAAAAKUAAADfAAAAmAAAAE8AAAB8AAAA3QAAAL4AAADWAAABAAAAAJEAAAEEAAABagAAAKkAAAChAAAArQAAARIAAAElAAABAQAAASkAAAEoAAABNwAAATUAAAD7AAAA6gAAAU8AAAG+AAABFQAAAPUAAAEZAAABJgAAAPgAAAEKAAAA5AAAARsAAAC+AAAAsgAAAG4AAAEIAAAAmQAAAMcAAADpAAAA4QAAAK8AAADJAAAAuAAAAMYAAADFAAAA3gAAAPgAAADnAAAA/AAAASIAAAEnAAABaAAAAQQAAAD9AAAA0QAAATQAAAGDAAAA+wAAARkAAAEdAAABbQAAAMcAAACtAAABIQAAARUAAAD0AAAA6wAAAP0AAAEkAAABGwAAAOAAAADfAAAAFHN0Y28AAAAAAAAAAQAAADAAAABidWR0YQAAAFptZXRhAAAAAAAAACFoZGxyAAAAAAAAAABtZGlyYXBwbAAAAAAAAAAAAAAAAC1pbHN0AAAAJal0b28AAAAdZGF0YQAAAAEAAAAATGF2ZjU3LjgzLjEwMA==\" type=\"video/mp4\" />\n",
              "             </video>"
            ],
            "text/plain": [
              "<IPython.core.display.HTML object>"
            ]
          },
          "metadata": {
            "tags": []
          }
        }
      ]
    },
    {
      "cell_type": "markdown",
      "metadata": {
        "id": "NX8GHuKgkHvY"
      },
      "source": [
        "### Q-Learning Car\n",
        "\n",
        "\n",
        "$Q^{new}(s_{t},a_{t}) \\leftarrow \\underbrace{Q(s_{t},a_{t})}_{\\text{old value}} + \\underbrace{\\alpha}_{\\text{learning rate}} \\cdot  \\overbrace{\\bigg( \\underbrace{\\underbrace{r_{t}}_{\\text{reward}} + \\underbrace{\\gamma}_{\\text{discount factor}} \\cdot \\underbrace{\\max_{a}Q(s_{t+1}, a)}_{\\text{estimate of optimal future value}}}_{\\text{new value (TD-target)}} - \\underbrace{Q(s_{t},a_{t})}_{\\text{old value}} \\bigg) }^{\\text{TD-error}}$\n",
        "\n",
        "\n",
        "\n",
        "\n"
      ]
    },
    {
      "cell_type": "code",
      "metadata": {
        "id": "UrQgXqbS-Noi"
      },
      "source": [
        "import gym\n",
        "import numpy as np\n",
        "\n",
        "# Binning in discrete state space\n",
        "def calc_discrete_state(state):\n",
        "    discrete_state = (state - env.observation_space.low)/buckets\n",
        "    return tuple(discrete_state.astype(np.int))  \n",
        "\n",
        "# Run one game.  The q_table to use is provided.  We also \n",
        "# provide a flag to indicate if the game should be \n",
        "# rendered/animated.  Finally, we also provide\n",
        "# a flag to indicate if the q_table should be updated.\n",
        "\n",
        "def run_game(q_table, render, should_update):\n",
        "    done = False\n",
        "    discrete_state = calc_discrete_state(env.reset())\n",
        "    success = False\n",
        "    \n",
        "    while not done:\n",
        "        # Exploit or explore\n",
        "        if np.random.random() > epsilon:\n",
        "            # Exploit - use q-table to take current best action \n",
        "            # (and probably refine)\n",
        "            action = np.argmax(q_table[discrete_state])\n",
        "        else:\n",
        "            # Explore - t\n",
        "            action = np.random.randint(0, env.action_space.n)\n",
        "            \n",
        "        # Run simulation step\n",
        "        new_state, reward, done, _ = env.step(action)\n",
        "        \n",
        "        # Convert continuous state to discrete\n",
        "        new_state_disc = calc_discrete_state(new_state)\n",
        "\n",
        "        # Have we reached the goal position (have we won?)?\n",
        "        if new_state[0] >= env.unwrapped.goal_position:\n",
        "            success = True\n",
        "          \n",
        "        # Update q-table\n",
        "        if should_update:\n",
        "            max_future_q = np.max(q_table[new_state_disc])\n",
        "            current_q = q_table[discrete_state + (action,)]\n",
        "            new_q = (1 - LEARNING_RATE) * current_q + LEARNING_RATE * \\\n",
        "              (reward + DISCOUNT * max_future_q)\n",
        "            q_table[discrete_state + (action,)] = new_q\n",
        "\n",
        "        discrete_state = new_state_disc\n",
        "        \n",
        "        if render:\n",
        "            env.render()\n",
        "            \n",
        "    return success\n"
      ],
      "execution_count": 8,
      "outputs": []
    },
    {
      "cell_type": "markdown",
      "metadata": {
        "id": "n3j1M4MddIBF"
      },
      "source": [
        "Several hyperparameters are very important for Q-Learning. These parameters will likely need adjustment as you apply Q-Learning to other problems.  Because of this, it is crucial to understand the role of each parameter.\n",
        "\n",
        "* **LEARNING_RATE** The rate at which previous Q-values are updated based on new episodes run during training. \n",
        "* **DISCOUNT** The amount of significance to give estimates of future rewards when added to the reward for the current action taken.  A value of 0.95 would indicate a discount of 5% to the future reward estimates. \n",
        "* **EPISODES** The number of episodes to train over.  Increase this for more complex problems; however, training time also increases.\n",
        "* **SHOW_EVERY** How many episodes to allow to elapse before showing an update.\n",
        "* **DISCRETE_GRID_SIZE** How many buckets to use when converting each of the continuous state variables.  For example, [10, 10] indicates that the algorithm should use ten buckets for the first and second state variables.\n",
        "* **START_EPSILON_DECAYING** Epsilon is the probability that the agent will select a random action over what the Q-Table suggests. This value determines the starting probability of randomness.\n",
        "* **END_EPSILON_DECAYING** How many episodes should elapse before epsilon goes to zero and no random actions are permitted. For example, EPISODES//10  means only the first 1/10th of the episodes might have random actions."
      ]
    },
    {
      "cell_type": "code",
      "metadata": {
        "id": "rI0TJc7T-Nol"
      },
      "source": [
        "LEARNING_RATE = 0.1\n",
        "DISCOUNT = 0.95\n",
        "EPISODES = 50\n",
        "SHOW_EVERY = 1000\n",
        "\n",
        "DISCRETE_GRID_SIZE = [10, 10]\n",
        "START_EPSILON_DECAYING = 0.5\n",
        "END_EPSILON_DECAYING = EPISODES//10"
      ],
      "execution_count": 9,
      "outputs": []
    },
    {
      "cell_type": "code",
      "metadata": {
        "id": "2IdL-46y-Noo"
      },
      "source": [
        "env = wrap_env(gym.make(\"MountainCar-v0\"))\n",
        "\n",
        "epsilon = 1  \n",
        "epsilon_change = epsilon/(END_EPSILON_DECAYING - START_EPSILON_DECAYING)\n",
        "buckets = (env.observation_space.high - env.observation_space.low) \\\n",
        "    /DISCRETE_GRID_SIZE\n",
        "q_table = np.random.uniform(low=-3, high=0, size=(DISCRETE_GRID_SIZE \\\n",
        "    + [env.action_space.n]))\n",
        "success = False"
      ],
      "execution_count": 10,
      "outputs": []
    },
    {
      "cell_type": "code",
      "metadata": {
        "colab": {
          "base_uri": "https://localhost:8080/"
        },
        "id": "Ot7cF0bX-Nor",
        "outputId": "81df0798-0318-4b25-db8e-0787c6be2db3"
      },
      "source": [
        "episode = 0\n",
        "success_count = 0\n",
        "\n",
        "# Loop through the required number of episodes\n",
        "while episode<EPISODES:\n",
        "    episode+=1\n",
        "    done = False\n",
        "\n",
        "    # Run the game.  If we are local, display render animation at SHOW_EVERY\n",
        "    # intervals. \n",
        "    if episode % SHOW_EVERY == 0:\n",
        "        print(f\"Current episode: {episode}, success: {success_count}\" +\\\n",
        "              \" ({float(success_count)/SHOW_EVERY})\")\n",
        "        success = run_game(q_table, True, False)\n",
        "        success_count = 0\n",
        "    else:\n",
        "        success = run_game(q_table, False, True)\n",
        "        \n",
        "    # Count successes\n",
        "    if success:\n",
        "        success_count += 1\n",
        "\n",
        "    # Move epsilon towards its ending value, if it still needs to move\n",
        "    if END_EPSILON_DECAYING >= episode >= START_EPSILON_DECAYING:\n",
        "        epsilon = max(0, epsilon - epsilon_change)\n",
        "\n",
        "print(success)"
      ],
      "execution_count": 11,
      "outputs": [
        {
          "output_type": "stream",
          "text": [
            "False\n"
          ],
          "name": "stdout"
        }
      ]
    },
    {
      "cell_type": "markdown",
      "metadata": {
        "id": "kDHTQkREFRSE"
      },
      "source": [
        "As you can see, the number of successful episodes generally increases as training progresses.  It is not advisable to stop the first time that we observe 100% success over 1,000 episodes. There is a randomness to most games, so it is not likely that an agent would retain its 100% success rate with a new run.  Once you observe that the agent has gotten 100% for several update intervals, it might be safe to stop training."
      ]
    },
    {
      "cell_type": "markdown",
      "metadata": {
        "id": "dMPR70U0sY7o"
      },
      "source": [
        "# Running and Observing the Agent\n",
        "\n",
        "Now that the algorithm has trained the agent, we can observe the agent in action. You can use the following code to see the agent in action."
      ]
    },
    {
      "cell_type": "code",
      "metadata": {
        "colab": {
          "base_uri": "https://localhost:8080/",
          "height": 421
        },
        "id": "v_mf3A0h-Nox",
        "outputId": "bc8dc026-f86c-4127-8e06-941a8868d8c3"
      },
      "source": [
        "run_game(q_table, True, False)\n",
        "show_video()"
      ],
      "execution_count": 12,
      "outputs": [
        {
          "output_type": "display_data",
          "data": {
            "text/html": [
              "<video alt=\"test\" autoplay \n",
              "                loop controls style=\"height: 400px;\">\n",
              "                <source src=\"data:video/mp4;base64,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\" type=\"video/mp4\" />\n",
              "             </video>"
            ],
            "text/plain": [
              "<IPython.core.display.HTML object>"
            ]
          },
          "metadata": {
            "tags": []
          }
        }
      ]
    },
    {
      "cell_type": "markdown",
      "metadata": {
        "id": "WeQzNFSosdys"
      },
      "source": [
        "# Inspecting the Q-Table\n",
        "\n",
        "We can also display the Q-table.  The following code shows the action that the agent would perform for each environment state.  As the weights of a neural network, this table is not straightforward to interpret.  Some patterns do emerge in that directions do arise, as seen by calculating the means of rows and columns. The actions seem consistent at upper and lower halves of both velocity and position."
      ]
    },
    {
      "cell_type": "code",
      "metadata": {
        "colab": {
          "base_uri": "https://localhost:8080/",
          "height": 359
        },
        "id": "L62lyCTr-Noz",
        "outputId": "f15cf6c2-016e-4956-f16a-74c5df3945ca"
      },
      "source": [
        "import pandas as pd\n",
        "\n",
        "df = pd.DataFrame(q_table.argmax(axis=2))\n",
        "\n",
        "df.columns = [f'v-{x}' for x in range(DISCRETE_GRID_SIZE[0])]\n",
        "df.index = [f'p-{x}' for x in range(DISCRETE_GRID_SIZE[1])]\n",
        "df"
      ],
      "execution_count": 13,
      "outputs": [
        {
          "output_type": "execute_result",
          "data": {
            "text/html": [
              "<div>\n",
              "<style scoped>\n",
              "    .dataframe tbody tr th:only-of-type {\n",
              "        vertical-align: middle;\n",
              "    }\n",
              "\n",
              "    .dataframe tbody tr th {\n",
              "        vertical-align: top;\n",
              "    }\n",
              "\n",
              "    .dataframe thead th {\n",
              "        text-align: right;\n",
              "    }\n",
              "</style>\n",
              "<table border=\"1\" class=\"dataframe\">\n",
              "  <thead>\n",
              "    <tr style=\"text-align: right;\">\n",
              "      <th></th>\n",
              "      <th>v-0</th>\n",
              "      <th>v-1</th>\n",
              "      <th>v-2</th>\n",
              "      <th>v-3</th>\n",
              "      <th>v-4</th>\n",
              "      <th>v-5</th>\n",
              "      <th>v-6</th>\n",
              "      <th>v-7</th>\n",
              "      <th>v-8</th>\n",
              "      <th>v-9</th>\n",
              "    </tr>\n",
              "  </thead>\n",
              "  <tbody>\n",
              "    <tr>\n",
              "      <th>p-0</th>\n",
              "      <td>1</td>\n",
              "      <td>2</td>\n",
              "      <td>2</td>\n",
              "      <td>0</td>\n",
              "      <td>2</td>\n",
              "      <td>1</td>\n",
              "      <td>0</td>\n",
              "      <td>0</td>\n",
              "      <td>2</td>\n",
              "      <td>0</td>\n",
              "    </tr>\n",
              "    <tr>\n",
              "      <th>p-1</th>\n",
              "      <td>1</td>\n",
              "      <td>2</td>\n",
              "      <td>0</td>\n",
              "      <td>0</td>\n",
              "      <td>2</td>\n",
              "      <td>1</td>\n",
              "      <td>1</td>\n",
              "      <td>2</td>\n",
              "      <td>1</td>\n",
              "      <td>1</td>\n",
              "    </tr>\n",
              "    <tr>\n",
              "      <th>p-2</th>\n",
              "      <td>0</td>\n",
              "      <td>0</td>\n",
              "      <td>1</td>\n",
              "      <td>0</td>\n",
              "      <td>1</td>\n",
              "      <td>1</td>\n",
              "      <td>2</td>\n",
              "      <td>2</td>\n",
              "      <td>1</td>\n",
              "      <td>0</td>\n",
              "    </tr>\n",
              "    <tr>\n",
              "      <th>p-3</th>\n",
              "      <td>2</td>\n",
              "      <td>0</td>\n",
              "      <td>0</td>\n",
              "      <td>0</td>\n",
              "      <td>2</td>\n",
              "      <td>2</td>\n",
              "      <td>1</td>\n",
              "      <td>2</td>\n",
              "      <td>1</td>\n",
              "      <td>2</td>\n",
              "    </tr>\n",
              "    <tr>\n",
              "      <th>p-4</th>\n",
              "      <td>1</td>\n",
              "      <td>1</td>\n",
              "      <td>0</td>\n",
              "      <td>0</td>\n",
              "      <td>1</td>\n",
              "      <td>2</td>\n",
              "      <td>2</td>\n",
              "      <td>0</td>\n",
              "      <td>2</td>\n",
              "      <td>2</td>\n",
              "    </tr>\n",
              "    <tr>\n",
              "      <th>p-5</th>\n",
              "      <td>2</td>\n",
              "      <td>1</td>\n",
              "      <td>2</td>\n",
              "      <td>1</td>\n",
              "      <td>2</td>\n",
              "      <td>2</td>\n",
              "      <td>0</td>\n",
              "      <td>1</td>\n",
              "      <td>1</td>\n",
              "      <td>1</td>\n",
              "    </tr>\n",
              "    <tr>\n",
              "      <th>p-6</th>\n",
              "      <td>0</td>\n",
              "      <td>1</td>\n",
              "      <td>0</td>\n",
              "      <td>2</td>\n",
              "      <td>1</td>\n",
              "      <td>1</td>\n",
              "      <td>2</td>\n",
              "      <td>1</td>\n",
              "      <td>1</td>\n",
              "      <td>0</td>\n",
              "    </tr>\n",
              "    <tr>\n",
              "      <th>p-7</th>\n",
              "      <td>1</td>\n",
              "      <td>0</td>\n",
              "      <td>0</td>\n",
              "      <td>1</td>\n",
              "      <td>0</td>\n",
              "      <td>0</td>\n",
              "      <td>1</td>\n",
              "      <td>1</td>\n",
              "      <td>0</td>\n",
              "      <td>2</td>\n",
              "    </tr>\n",
              "    <tr>\n",
              "      <th>p-8</th>\n",
              "      <td>0</td>\n",
              "      <td>2</td>\n",
              "      <td>2</td>\n",
              "      <td>2</td>\n",
              "      <td>1</td>\n",
              "      <td>1</td>\n",
              "      <td>0</td>\n",
              "      <td>0</td>\n",
              "      <td>1</td>\n",
              "      <td>2</td>\n",
              "    </tr>\n",
              "    <tr>\n",
              "      <th>p-9</th>\n",
              "      <td>2</td>\n",
              "      <td>1</td>\n",
              "      <td>0</td>\n",
              "      <td>0</td>\n",
              "      <td>0</td>\n",
              "      <td>1</td>\n",
              "      <td>1</td>\n",
              "      <td>1</td>\n",
              "      <td>0</td>\n",
              "      <td>1</td>\n",
              "    </tr>\n",
              "  </tbody>\n",
              "</table>\n",
              "</div>"
            ],
            "text/plain": [
              "     v-0  v-1  v-2  v-3  v-4  v-5  v-6  v-7  v-8  v-9\n",
              "p-0    1    2    2    0    2    1    0    0    2    0\n",
              "p-1    1    2    0    0    2    1    1    2    1    1\n",
              "p-2    0    0    1    0    1    1    2    2    1    0\n",
              "p-3    2    0    0    0    2    2    1    2    1    2\n",
              "p-4    1    1    0    0    1    2    2    0    2    2\n",
              "p-5    2    1    2    1    2    2    0    1    1    1\n",
              "p-6    0    1    0    2    1    1    2    1    1    0\n",
              "p-7    1    0    0    1    0    0    1    1    0    2\n",
              "p-8    0    2    2    2    1    1    0    0    1    2\n",
              "p-9    2    1    0    0    0    1    1    1    0    1"
            ]
          },
          "metadata": {
            "tags": []
          },
          "execution_count": 13
        }
      ]
    },
    {
      "cell_type": "code",
      "metadata": {
        "colab": {
          "base_uri": "https://localhost:8080/"
        },
        "id": "Z-ZOL-d5Jbon",
        "outputId": "6fd0bbcb-4bce-4671-bee8-918a56227918"
      },
      "source": [
        "df.mean(axis=0)"
      ],
      "execution_count": 14,
      "outputs": [
        {
          "output_type": "execute_result",
          "data": {
            "text/plain": [
              "v-0    1.0\n",
              "v-1    1.0\n",
              "v-2    0.7\n",
              "v-3    0.6\n",
              "v-4    1.2\n",
              "v-5    1.2\n",
              "v-6    1.0\n",
              "v-7    1.0\n",
              "v-8    1.0\n",
              "v-9    1.1\n",
              "dtype: float64"
            ]
          },
          "metadata": {
            "tags": []
          },
          "execution_count": 14
        }
      ]
    },
    {
      "cell_type": "code",
      "metadata": {
        "colab": {
          "base_uri": "https://localhost:8080/"
        },
        "id": "LOGA4HP9KHW3",
        "outputId": "3654258e-66db-4c3b-a9e2-13fa5306d0f7"
      },
      "source": [
        "df.mean(axis=1)"
      ],
      "execution_count": 15,
      "outputs": [
        {
          "output_type": "execute_result",
          "data": {
            "text/plain": [
              "p-0    1.0\n",
              "p-1    1.1\n",
              "p-2    0.8\n",
              "p-3    1.2\n",
              "p-4    1.1\n",
              "p-5    1.3\n",
              "p-6    0.9\n",
              "p-7    0.6\n",
              "p-8    1.1\n",
              "p-9    0.7\n",
              "dtype: float64"
            ]
          },
          "metadata": {
            "tags": []
          },
          "execution_count": 15
        }
      ]
    }
  ]
}