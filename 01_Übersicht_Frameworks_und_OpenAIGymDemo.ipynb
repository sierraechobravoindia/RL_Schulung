{
  "nbformat": 4,
  "nbformat_minor": 0,
  "metadata": {
    "colab": {
      "name": "Übersicht Frameworks und OpenAIGymDemo.ipynb",
      "provenance": [],
      "collapsed_sections": [],
      "toc_visible": true,
      "mount_file_id": "1y1cU7UcRRnP6Zg8uhgjBjZuBx8zbZdxJ",
      "authorship_tag": "ABX9TyPegpvbjTicMfA/axGqSz9d",
      "include_colab_link": true
    },
    "kernelspec": {
      "name": "python3",
      "display_name": "Python 3"
    },
    "language_info": {
      "name": "python"
    },
    "accelerator": "GPU"
  },
  "cells": [
    {
      "cell_type": "markdown",
      "metadata": {
        "id": "view-in-github",
        "colab_type": "text"
      },
      "source": [
        "<a href=\"https://colab.research.google.com/github/sierraechobravoindia/RL_Schulung/blob/main/01_%C3%9Cbersicht_Frameworks_und_OpenAIGymDemo.ipynb\" target=\"_parent\"><img src=\"https://colab.research.google.com/assets/colab-badge.svg\" alt=\"Open In Colab\"/></a>"
      ]
    },
    {
      "cell_type": "markdown",
      "metadata": {
        "id": "-uwEimlpBqqE"
      },
      "source": [
        "# Übersicht Frameworks\n",
        "\n",
        "\n",
        "## Übersicht über Simulationsenvironments\n",
        "\n",
        "*  [Open AI Gym](https://gym.openai.com)\n",
        "*  [MuJoCo](http://www.mujoco.org) (Multi-Joint Dynamics with Contact)\n",
        "*  [unity agents](https://unity.com/de/products/machine-learning-agents)\n",
        "* [Deepmind Lab](https://github.com/deepmind/lab)\n",
        "* [Microsoft Project Malmö](https://github.com/Microsoft/malmo)\n",
        "* ...\n",
        "\n",
        "\n",
        "## Übersicht über Frameworks mit Algorithmen, Benchmarks, Baselines, Basisalgorithmen\n",
        "\n",
        "* [Keras-RL](https://https://github.com/keras-rl/keras-rl)\n",
        "* [Google Dopamine](https://github.com/google/dopamine)\n",
        "* [TensorForce](https://github.com/tensorforce/tensorforce)\n",
        "* [Stable Baseslines](https://stable-baselines.readthedocs.io/en/master/)\n",
        "\n",
        "## Sonstiges\n",
        "\n",
        "* [Open AI \"spinning up\" in Deep RL](https://spinningup.openai.com/en/latest/)\n",
        "\n",
        "* [Beispiele aus dem Buch von Sutton und Barto](https://github.com/ShangtongZhang/reinforcement-learning-an-introduction)\n",
        "\n"
      ]
    },
    {
      "cell_type": "markdown",
      "metadata": {
        "id": "Se91W1gW9h54"
      },
      "source": [
        "#Demo Open AI Gym\n",
        "\n",
        "In diesem Notebook soll kurz das RL Framework Open AI Gym und die Interaktion sowie eine Standard-Architektur mit Agenten vorgestellt werden.\n",
        "\n",
        "Homepage des Frameworks:\n",
        "\n",
        "[Open AI Gym](https://gym.openai.com)\n",
        "\n",
        "Übersicht der Environments des Frameworks:\n",
        "\n",
        "[Gym Environments](https://gym.openai.com/envs/#classic_control)"
      ]
    },
    {
      "cell_type": "markdown",
      "metadata": {
        "id": "6YeNJLQC_J4e"
      },
      "source": [
        "Die folgenden drei Code-Zellen werden nur gebraucht, um das Rendering in Google Colab zu ermöglichen, bei lokaler Installation geht es auch ohne."
      ]
    },
    {
      "cell_type": "code",
      "metadata": {
        "id": "ePJ1GbCxqzZ4"
      },
      "source": [
        "!pip install gym pyvirtualdisplay > /dev/null 2>&1\n",
        "!apt-get install -y xvfb python-opengl ffmpeg > /dev/null 2>&1"
      ],
      "execution_count": null,
      "outputs": []
    },
    {
      "cell_type": "code",
      "metadata": {
        "colab": {
          "base_uri": "https://localhost:8080/"
        },
        "id": "WQICxuczq3fl",
        "outputId": "d757783e-f5c5-4941-e9a7-e2889f581781"
      },
      "source": [
        "!apt-get update > /dev/null 2>&1\n",
        "!apt-get install cmake > /dev/null 2>&1\n",
        "!pip install --upgrade setuptools 2>&1\n",
        "!pip install ez_setup > /dev/null 2>&1\n",
        "!pip install gym[atari] > /dev/null 2>&1"
      ],
      "execution_count": null,
      "outputs": [
        {
          "output_type": "stream",
          "text": [
            "Requirement already up-to-date: setuptools in /usr/local/lib/python3.7/dist-packages (57.0.0)\n"
          ],
          "name": "stdout"
        }
      ]
    },
    {
      "cell_type": "code",
      "metadata": {
        "id": "wUIqBnVLqXCK"
      },
      "source": [
        "import gym\n",
        "from gym.wrappers import Monitor\n",
        "import glob\n",
        "import io\n",
        "import base64\n",
        "from IPython.display import HTML\n",
        "from pyvirtualdisplay import Display\n",
        "from IPython import display as ipythondisplay\n",
        "\n",
        "display = Display(visible=0, size=(1400, 900))\n",
        "display.start()\n",
        "\n",
        "\"\"\"\n",
        "Utility functions to enable video recording of gym environment \n",
        "and displaying it.\n",
        "To enable video, just do \"env = wrap_env(env)\"\"\n",
        "\"\"\"\n",
        "\n",
        "def show_video():\n",
        "  mp4list = glob.glob('video/*.mp4')\n",
        "  if len(mp4list) > 0:\n",
        "    mp4 = mp4list[0]\n",
        "    video = io.open(mp4, 'r+b').read()\n",
        "    encoded = base64.b64encode(video)\n",
        "    ipythondisplay.display(HTML(data='''<video alt=\"test\" autoplay \n",
        "                loop controls style=\"height: 400px;\">\n",
        "                <source src=\"data:video/mp4;base64,{0}\" type=\"video/mp4\" />\n",
        "             </video>'''.format(encoded.decode('ascii'))))\n",
        "  else: \n",
        "    print(\"Could not find video\")\n",
        "    \n",
        "\n",
        "def wrap_env(env):\n",
        "  env = Monitor(env, './video', force=True)\n",
        "  return env"
      ],
      "execution_count": null,
      "outputs": []
    },
    {
      "cell_type": "markdown",
      "metadata": {
        "id": "OK033JwqSaS_"
      },
      "source": [
        "Import des Gym Package"
      ]
    },
    {
      "cell_type": "code",
      "metadata": {
        "id": "sRA2Qt6HFwYR"
      },
      "source": [
        "import gym"
      ],
      "execution_count": null,
      "outputs": []
    },
    {
      "cell_type": "markdown",
      "metadata": {
        "id": "HzubMYu2ShJy"
      },
      "source": [
        "Erzeugung eines Environments"
      ]
    },
    {
      "cell_type": "code",
      "metadata": {
        "id": "AqJSwWk-qsPl"
      },
      "source": [
        "env_name = \"CartPole-v1\"\n",
        "#env_name = \"MountainCar-v0\"\n",
        "\n",
        "#Ausserhalb von Colab\n",
        "#env = gym.make(env_name)\n",
        "\n",
        "#Innerhalb von Colab ist ein Wrapper für die Visualisierung notwendig\n",
        "env = wrap_env(gym.make(env_name))"
      ],
      "execution_count": null,
      "outputs": []
    },
    {
      "cell_type": "markdown",
      "metadata": {
        "id": "c0feEo61T2cQ"
      },
      "source": [
        "Wir initialisieren das Environment"
      ]
    },
    {
      "cell_type": "code",
      "metadata": {
        "colab": {
          "base_uri": "https://localhost:8080/"
        },
        "id": "lgwNwtmLT23B",
        "outputId": "46df20b4-2cf1-4e22-af36-d4ad34421b67"
      },
      "source": [
        "env.reset()"
      ],
      "execution_count": null,
      "outputs": [
        {
          "output_type": "execute_result",
          "data": {
            "text/plain": [
              "array([ 0.03001621, -0.03791209,  0.0300353 , -0.04900278])"
            ]
          },
          "metadata": {
            "tags": []
          },
          "execution_count": 6
        }
      ]
    },
    {
      "cell_type": "markdown",
      "metadata": {
        "id": "ZPCzqLQOTUlK"
      },
      "source": [
        "Informationen zum Environment"
      ]
    },
    {
      "cell_type": "code",
      "metadata": {
        "colab": {
          "base_uri": "https://localhost:8080/"
        },
        "id": "y2dBZxokGI_X",
        "outputId": "f2d786da-ab4d-4367-cfad-a7dea961981f"
      },
      "source": [
        "env_name = \"CartPole-v1\"\n",
        "#env_name = \"MountainCar-v0\"\n",
        "#env_name = \"Atlantis-v0\"\n",
        "env = gym.make(env_name)\n",
        "spec = gym.spec(env_name)\n",
        "print(f\"Action Space: {env.action_space}\")\n",
        "print(f\"Observation Space: {env.observation_space}\")\n",
        "print(f\"Max Episode Steps: {spec.max_episode_steps}\")\n",
        "print(f\"Nondeterministic: {spec.nondeterministic}\")\n",
        "print(f\"Reward Range: {env.reward_range}\")\n",
        "print(f\"Reward Threshold: {spec.reward_threshold}\")\n",
        " "
      ],
      "execution_count": null,
      "outputs": [
        {
          "output_type": "stream",
          "text": [
            "Action Space: Discrete(2)\n",
            "Observation Space: Box(-3.4028234663852886e+38, 3.4028234663852886e+38, (4,), float32)\n",
            "Max Episode Steps: 500\n",
            "Nondeterministic: False\n",
            "Reward Range: (-inf, inf)\n",
            "Reward Threshold: 475.0\n"
          ],
          "name": "stdout"
        }
      ]
    },
    {
      "cell_type": "markdown",
      "metadata": {
        "id": "-D4ScUv1AVKz"
      },
      "source": [
        "Aus dem Code für Cartpole V1\n",
        "\n",
        "```\n",
        " Description:\n",
        "        A pole is attached by an un-actuated joint to a cart, which moves along\n",
        "        a frictionless track. The pendulum starts upright, and the goal is to\n",
        "        prevent it from falling over by increasing and reducing the cart's\n",
        "        velocity.\n",
        "    Source:\n",
        "        This environment corresponds to the version of the cart-pole problem\n",
        "        described by Barto, Sutton, and Anderson\n",
        "    Observation:\n",
        "        Type: Box(4)\n",
        "        Num     Observation               Min                     Max\n",
        "        0       Cart Position             -4.8                    4.8\n",
        "        1       Cart Velocity             -Inf                    Inf\n",
        "        2       Pole Angle                -0.418 rad (-24 deg)    0.418 rad (24 deg)\n",
        "        3       Pole Angular Velocity     -Inf                    Inf\n",
        "    Actions:\n",
        "        Type: Discrete(2)\n",
        "        Num   Action\n",
        "        0     Push cart to the left\n",
        "        1     Push cart to the right\n",
        "        Note: The amount the velocity that is reduced or increased is not\n",
        "        fixed; it depends on the angle the pole is pointing. This is because\n",
        "        the center of gravity of the pole increases the amount of energy needed\n",
        "        to move the cart underneath it\n",
        "    Reward:\n",
        "        Reward is 1 for every step taken, including the termination step\n",
        "    Starting State:\n",
        "        All observations are assigned a uniform random value in [-0.05..0.05]\n",
        "    Episode Termination:\n",
        "        Pole Angle is more than 12 degrees.\n",
        "        Cart Position is more than 2.4 (center of the cart reaches the edge of\n",
        "        the display).\n",
        "        Episode length is greater than 200.\n",
        "        Solved Requirements:\n",
        "        Considered solved when the average return is greater than or equal to\n",
        "        195.0 over 100 consecutive trials.\n",
        "    \"\"\"\n",
        "```\n",
        "\n"
      ]
    },
    {
      "cell_type": "code",
      "metadata": {
        "colab": {
          "base_uri": "https://localhost:8080/",
          "height": 421
        },
        "id": "p8FQnI702NOV",
        "outputId": "71f96184-2a4d-4b8f-8866-874184fd11b6"
      },
      "source": [
        "#env = wrap_env(gym.make(\"MountainCar-v0\"))\n",
        "env = wrap_env(gym.make(\"CartPole-v1\"))\n",
        "\n",
        "observation = env.reset()\n",
        "\n",
        "while True:\n",
        "  \n",
        "    env.render()\n",
        "    \n",
        "    #your agent goes here\n",
        "    action = env.action_space.sample() \n",
        "         \n",
        "    observation, reward, done, info = env.step(action) \n",
        "   \n",
        "        \n",
        "    if done: \n",
        "      break;\n",
        "            \n",
        "env.close()\n",
        "show_video()"
      ],
      "execution_count": null,
      "outputs": [
        {
          "output_type": "display_data",
          "data": {
            "text/html": [
              "<video alt=\"test\" autoplay \n",
              "                loop controls style=\"height: 400px;\">\n",
              "                <source src=\"data:video/mp4;base64,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\" type=\"video/mp4\" />\n",
              "             </video>"
            ],
            "text/plain": [
              "<IPython.core.display.HTML object>"
            ]
          },
          "metadata": {
            "tags": []
          }
        }
      ]
    },
    {
      "cell_type": "markdown",
      "metadata": {
        "id": "ywNXFSm_TjEy"
      },
      "source": [
        "Jetzt definieren wir und einen Agenten mit einer einfachen regelbasierten policy"
      ]
    },
    {
      "cell_type": "code",
      "metadata": {
        "id": "D3gB1EHuMeUZ"
      },
      "source": [
        "import random\n",
        "\n",
        "class Agent():\n",
        "    def __init__(self, env):\n",
        "        self.action_size = env.action_space.n\n",
        "        print(\"Action size:\", self.action_size)\n",
        "        \n",
        "    def get_action(self, state):\n",
        "        #action = random.choice(range(self.action_size))\n",
        "        pole_angle = state[2]\n",
        "        action = 0 if pole_angle < 0 else 1\n",
        "        return action"
      ],
      "execution_count": null,
      "outputs": []
    },
    {
      "cell_type": "markdown",
      "metadata": {
        "id": "88HryO8pTstZ"
      },
      "source": [
        "Und lassen den Agenten mit dem Environment wechselwirken"
      ]
    },
    {
      "cell_type": "code",
      "metadata": {
        "colab": {
          "base_uri": "https://localhost:8080/",
          "height": 472
        },
        "id": "e4o_iFmcMiL5",
        "outputId": "d7b73cf6-349e-4cc1-8970-2e52911e7909"
      },
      "source": [
        "agent = Agent(env)\n",
        "state = env.reset()\n",
        "cnt = 0\n",
        "print(cnt)\n",
        "while True:\n",
        "    action = agent.get_action(state)\n",
        "    state, reward, done, info = env.step(action)\n",
        "    env.render()\n",
        "    cnt += 1\n",
        "\n",
        "    if done:\n",
        "      break\n",
        "\n",
        "print(cnt)   \n",
        "env.close()\n",
        "show_video()    \n",
        "    "
      ],
      "execution_count": null,
      "outputs": [
        {
          "output_type": "stream",
          "text": [
            "Action size: 2\n",
            "0\n",
            "45\n"
          ],
          "name": "stdout"
        },
        {
          "output_type": "display_data",
          "data": {
            "text/html": [
              "<video alt=\"test\" autoplay \n",
              "                loop controls style=\"height: 400px;\">\n",
              "                <source src=\"data:video/mp4;base64,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\" type=\"video/mp4\" />\n",
              "             </video>"
            ],
            "text/plain": [
              "<IPython.core.display.HTML object>"
            ]
          },
          "metadata": {
            "tags": []
          }
        }
      ]
    }
  ]
}