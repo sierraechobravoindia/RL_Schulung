{
  "nbformat": 4,
  "nbformat_minor": 0,
  "metadata": {
    "anaconda-cloud": {},
    "kernelspec": {
      "display_name": "Python 3.6 (tensorflow)",
      "language": "python",
      "name": "tensorflow"
    },
    "language_info": {
      "codemirror_mode": {
        "name": "ipython",
        "version": 3
      },
      "file_extension": ".py",
      "mimetype": "text/x-python",
      "name": "python",
      "nbconvert_exporter": "python",
      "pygments_lexer": "ipython3",
      "version": "3.7.7"
    },
    "colab": {
      "name": "Simple Q-Learning on Discrete Mountain Car.ipynb",
      "provenance": [],
      "collapsed_sections": [],
      "include_colab_link": true
    }
  },
  "cells": [
    {
      "cell_type": "markdown",
      "metadata": {
        "id": "view-in-github",
        "colab_type": "text"
      },
      "source": [
        "<a href=\"https://colab.research.google.com/github/sierraechobravoindia/RL_Schulung/blob/main/02_Simple_Q_Learning_on_Discrete_Mountain_Car.ipynb\" target=\"_parent\"><img src=\"https://colab.research.google.com/assets/colab-badge.svg\" alt=\"Open In Colab\"/></a>"
      ]
    },
    {
      "cell_type": "markdown",
      "metadata": {
        "id": "PF0TtkQ4-NoP"
      },
      "source": [
        "<a href=\"https://colab.research.google.com/github/jeffheaton/t81_558_deep_learning/blob/master/t81_558_class_12_02_qlearningreinforcement.ipynb\" target=\"_parent\"><img src=\"https://colab.research.google.com/assets/colab-badge.svg\" alt=\"Open In Colab\"/></a>"
      ]
    },
    {
      "cell_type": "markdown",
      "metadata": {
        "id": "MIOgB0oG-NoS"
      },
      "source": [
        "# Q-Learning on Mountain Car \n",
        "\n",
        "Weitgehend in Anlehnung an ein Notebook von [Jeff Heaton](https://github.com/jeffheaton)\n"
      ]
    },
    {
      "cell_type": "code",
      "metadata": {
        "colab": {
          "base_uri": "https://localhost:8080/"
        },
        "id": "IcTY1gkD-X5r",
        "outputId": "6d818dae-9685-4901-9dfe-aa4ba88409cf"
      },
      "source": [
        "!sudo apt-get install -y xvfb ffmpeg x11-utils\n",
        "!pip install -q gym\n",
        "!pip install -q imageio\n",
        "!pip install -q PILLOW\n",
        "!pip install -q pyglet\n",
        "!pip install -q pyvirtualdisplay\n",
        "!pip install -q tf-agents"
      ],
      "execution_count": null,
      "outputs": [
        {
          "output_type": "stream",
          "text": [
            "Reading package lists... Done\n",
            "Building dependency tree       \n",
            "Reading state information... Done\n",
            "x11-utils is already the newest version (7.7+3build1).\n",
            "ffmpeg is already the newest version (7:3.4.8-0ubuntu0.2).\n",
            "xvfb is already the newest version (2:1.19.6-1ubuntu4.9).\n",
            "0 upgraded, 0 newly installed, 0 to remove and 39 not upgraded.\n"
          ],
          "name": "stdout"
        }
      ]
    },
    {
      "cell_type": "code",
      "metadata": {
        "colab": {
          "base_uri": "https://localhost:8080/",
          "height": 553
        },
        "id": "ngaU1pVi-mjb",
        "outputId": "0654a16a-4fdd-4086-d5d7-a31f22deec2d"
      },
      "source": [
        "import tf_agents\n",
        "from tf_agents.environments import suite_gym\n",
        "import PIL.Image\n",
        "import pyvirtualdisplay\n",
        "\n",
        "display = pyvirtualdisplay.Display(visible=0, size=(1400, 900)).start()\n",
        "\n",
        "env_name = 'MountainCar-v0'\n",
        "env = suite_gym.load(env_name)\n",
        "time_step = env.reset()\n",
        "\n",
        "print('Observation Spec:')\n",
        "print(env.time_step_spec().observation)\n",
        "\n",
        "print('Action Spec:')\n",
        "print(env.action_spec())\n",
        "\n",
        "print('Reward Spec:')\n",
        "print(env.time_step_spec().reward)\n",
        "\n",
        "print('Time step:')\n",
        "print(time_step.step_type)\n",
        "PIL.Image.fromarray(env.render())"
      ],
      "execution_count": null,
      "outputs": [
        {
          "output_type": "stream",
          "text": [
            "Observation Spec:\n",
            "BoundedArraySpec(shape=(2,), dtype=dtype('float32'), name='observation', minimum=[-1.2  -0.07], maximum=[0.6  0.07])\n",
            "Action Spec:\n",
            "BoundedArraySpec(shape=(), dtype=dtype('int64'), name='action', minimum=0, maximum=2)\n",
            "Reward Spec:\n",
            "ArraySpec(shape=(), dtype=dtype('float32'), name='reward')\n",
            "Time step:\n",
            "0\n"
          ],
          "name": "stdout"
        },
        {
          "output_type": "execute_result",
          "data": {
            "image/png": "[encoded data removed]",
            "text/plain": [
              "<PIL.Image.Image image mode=RGB size=600x400 at 0x7EFFE9A413D0>"
            ]
          },
          "metadata": {
            "tags": []
          },
          "execution_count": 2
        }
      ]
    },
    {
      "cell_type": "markdown",
      "metadata": {
        "id": "cQBcs3yAMo_P"
      },
      "source": [
        "Aus dem Code:\n",
        "\n",
        "    Description:\n",
        "        The agent (a car) is started at the bottom of a valley. For any given\n",
        "        state the agent may choose to accelerate to the left, right or cease\n",
        "        any acceleration.\n",
        "\n",
        "    Source:\n",
        "        The environment appeared first in Andrew Moore's PhD Thesis (1990).\n",
        "\n",
        "    Observation:\n",
        "\n",
        "\n",
        "        Type: Box(2)\n",
        "        Num    Observation               Min            Max\n",
        "        0      Car Position              -1.2           0.6\n",
        "        1      Car Velocity              -0.07          0.07\n",
        "    \n",
        "    Actions:\n",
        "        Type: Discrete(3)\n",
        "        Num    Action\n",
        "        0      Accelerate to the Left\n",
        "        1      Don't accelerate\n",
        "        2      Accelerate to the Right\n",
        "        Note: This does not affect the amount of velocity affected by the\n",
        "        gravitational pull acting on the car.\n",
        "    \n",
        "    Reward:\n",
        "         Reward of 0 is awarded if the agent reached the flag (position = 0.5)\n",
        "         on top of the mountain.\n",
        "         Reward of -1 is awarded if the position of the agent is less than 0.5.\n",
        "    \n",
        "    Starting State:\n",
        "         The position of the car is assigned a uniform random value in\n",
        "         [-0.6 , -0.4].\n",
        "         The starting velocity of the car is always assigned to 0.\n",
        "    \n",
        "    Episode Termination:\n",
        "         The car position is more than 0.5\n",
        "         Episode length is greater than 200\n"
      ]
    },
    {
      "cell_type": "code",
      "metadata": {
        "id": "QMLS0b-tbc_j"
      },
      "source": [
        "import gym\n",
        "from gym.wrappers import Monitor\n",
        "import glob\n",
        "import io\n",
        "import base64\n",
        "from IPython.display import HTML\n",
        "from pyvirtualdisplay import Display\n",
        "from IPython import display as ipythondisplay\n",
        "\n",
        "display = Display(visible=0, size=(1400, 900))\n",
        "display.start()\n",
        "\n",
        "\"\"\"\n",
        "Utility functions to enable video recording of gym environment \n",
        "and displaying it.\n",
        "To enable video, just do \"env = wrap_env(env)\"\"\n",
        "\"\"\"\n",
        "\n",
        "def show_video():\n",
        "  mp4list = glob.glob('video/*.mp4')\n",
        "  if len(mp4list) > 0:\n",
        "    mp4 = mp4list[0]\n",
        "    video = io.open(mp4, 'r+b').read()\n",
        "    encoded = base64.b64encode(video)\n",
        "    ipythondisplay.display(HTML(data='''<video alt=\"test\" autoplay \n",
        "                loop controls style=\"height: 400px;\">\n",
        "                <source src=\"data:video/mp4;base64,{0}\" type=\"video/mp4\" />\n",
        "             </video>'''.format(encoded.decode('ascii'))))\n",
        "  else: \n",
        "    print(\"Could not find video\")\n",
        "    \n",
        "\n",
        "def wrap_env(env):\n",
        "  env = Monitor(env, './video', force=True)\n",
        "  return env"
      ],
      "execution_count": null,
      "outputs": []
    },
    {
      "cell_type": "markdown",
      "metadata": {
        "id": "DfKVL5x4KjoR"
      },
      "source": [
        "\n",
        "The following code shows an agent that applies full throttle to climb the hill.  The cart is not strong enough.  It will need to use potential energy from the mountain behind it."
      ]
    },
    {
      "cell_type": "code",
      "metadata": {
        "colab": {
          "base_uri": "https://localhost:8080/"
        },
        "id": "iCRJdn0G-NoZ",
        "outputId": "a58dd0ef-1ecf-4619-c58c-9cf85fb0c6bd"
      },
      "source": [
        "env = wrap_env(gym.make(\"MountainCar-v0\"))\n",
        "env.reset()\n",
        "done = False\n",
        "\n",
        "i = 0\n",
        "while not done:\n",
        "    i += 1\n",
        "    state, reward, done, _ = env.step(2)\n",
        "    env.render()\n",
        "    print(f\"Step {i}: State={state}, Reward={reward}\")\n",
        "    \n",
        "env.close()"
      ],
      "execution_count": null,
      "outputs": [
        {
          "output_type": "stream",
          "text": [
            "Step 1: State=[-0.54867527  0.00119685], Reward=-1.0\n",
            "Step 2: State=[-0.54629053  0.00238474], Reward=-1.0\n",
            "Step 3: State=[-0.54273573  0.0035548 ], Reward=-1.0\n",
            "Step 4: State=[-0.53803748  0.00469825], Reward=-1.0\n",
            "Step 5: State=[-0.53223098  0.0058065 ], Reward=-1.0\n",
            "Step 6: State=[-0.52535974  0.00687124], Reward=-1.0\n",
            "Step 7: State=[-0.51747529  0.00788445], Reward=-1.0\n",
            "Step 8: State=[-0.50863677  0.00883852], Reward=-1.0\n",
            "Step 9: State=[-0.49891043  0.00972634], Reward=-1.0\n",
            "Step 10: State=[-0.48836908  0.01054135], Reward=-1.0\n",
            "Step 11: State=[-0.47709146  0.01127762], Reward=-1.0\n",
            "Step 12: State=[-0.46516151  0.01192995], Reward=-1.0\n",
            "Step 13: State=[-0.4526676   0.01249391], Reward=-1.0\n",
            "Step 14: State=[-0.43970167  0.01296593], Reward=-1.0\n",
            "Step 15: State=[-0.42635835  0.01334332], Reward=-1.0\n",
            "Step 16: State=[-0.41273403  0.01362432], Reward=-1.0\n",
            "Step 17: State=[-0.39892595  0.01380808], Reward=-1.0\n",
            "Step 18: State=[-0.38503127  0.01389468], Reward=-1.0\n",
            "Step 19: State=[-0.37114616  0.0138851 ], Reward=-1.0\n",
            "Step 20: State=[-0.35736501  0.01378115], Reward=-1.0\n",
            "Step 21: State=[-0.34377957  0.01358544], Reward=-1.0\n",
            "Step 22: State=[-0.33047831  0.01330126], Reward=-1.0\n",
            "Step 23: State=[-0.31754577  0.01293254], Reward=-1.0\n",
            "Step 24: State=[-0.30506207  0.0124837 ], Reward=-1.0\n",
            "Step 25: State=[-0.29310248  0.01195959], Reward=-1.0\n",
            "Step 26: State=[-0.2817371   0.01136538], Reward=-1.0\n",
            "Step 27: State=[-0.27103065  0.01070645], Reward=-1.0\n",
            "Step 28: State=[-0.26104234  0.00998831], Reward=-1.0\n",
            "Step 29: State=[-0.25182581  0.00921653], Reward=-1.0\n",
            "Step 30: State=[-0.24342914  0.00839667], Reward=-1.0\n",
            "Step 31: State=[-0.23589493  0.00753421], Reward=-1.0\n",
            "Step 32: State=[-0.22926039  0.00663454], Reward=-1.0\n",
            "Step 33: State=[-0.22355749  0.0057029 ], Reward=-1.0\n",
            "Step 34: State=[-0.2188131   0.00474439], Reward=-1.0\n",
            "Step 35: State=[-0.21504914  0.00376396], Reward=-1.0\n",
            "Step 36: State=[-0.2122827   0.00276644], Reward=-1.0\n",
            "Step 37: State=[-0.2105262  0.0017565], Reward=-1.0\n",
            "Step 38: State=[-0.20978744  0.00073876], Reward=-1.0\n",
            "Step 39: State=[-0.21006969 -0.00028225], Reward=-1.0\n",
            "Step 40: State=[-0.2113717  -0.00130201], Reward=-1.0\n",
            "Step 41: State=[-0.2136877 -0.002316 ], Reward=-1.0\n",
            "Step 42: State=[-0.21700735 -0.00331965], Reward=-1.0\n",
            "Step 43: State=[-0.22131566 -0.00430831], Reward=-1.0\n",
            "Step 44: State=[-0.22659289 -0.00527723], Reward=-1.0\n",
            "Step 45: State=[-0.2328144  -0.00622151], Reward=-1.0\n",
            "Step 46: State=[-0.23995052 -0.00713612], Reward=-1.0\n",
            "Step 47: State=[-0.24796639 -0.00801588], Reward=-1.0\n",
            "Step 48: State=[-0.25682185 -0.00885546], Reward=-1.0\n",
            "Step 49: State=[-0.26647128 -0.00964943], Reward=-1.0\n",
            "Step 50: State=[-0.27686353 -0.01039225], Reward=-1.0\n",
            "Step 51: State=[-0.28794187 -0.01107835], Reward=-1.0\n",
            "Step 52: State=[-0.29964405 -0.01170218], Reward=-1.0\n",
            "Step 53: State=[-0.31190235 -0.01225829], Reward=-1.0\n",
            "Step 54: State=[-0.32464376 -0.01274142], Reward=-1.0\n",
            "Step 55: State=[-0.33779031 -0.01314655], Reward=-1.0\n",
            "Step 56: State=[-0.35125937 -0.01346906], Reward=-1.0\n",
            "Step 57: State=[-0.36496415 -0.01370478], Reward=-1.0\n",
            "Step 58: State=[-0.37881429 -0.01385014], Reward=-1.0\n",
            "Step 59: State=[-0.39271648 -0.0139022 ], Reward=-1.0\n",
            "Step 60: State=[-0.40657527 -0.01385878], Reward=-1.0\n",
            "Step 61: State=[-0.42029381 -0.01371854], Reward=-1.0\n",
            "Step 62: State=[-0.4337748  -0.01348099], Reward=-1.0\n",
            "Step 63: State=[-0.44692134 -0.01314654], Reward=-1.0\n",
            "Step 64: State=[-0.45963791 -0.01271657], Reward=-1.0\n",
            "Step 65: State=[-0.47183124 -0.01219333], Reward=-1.0\n",
            "Step 66: State=[-0.48341127 -0.01158003], Reward=-1.0\n",
            "Step 67: State=[-0.49429198 -0.01088071], Reward=-1.0\n",
            "Step 68: State=[-0.50439221 -0.01010023], Reward=-1.0\n",
            "Step 69: State=[-0.5136364 -0.0092442], Reward=-1.0\n",
            "Step 70: State=[-0.5219553 -0.0083189], Reward=-1.0\n",
            "Step 71: State=[-0.52928653 -0.00733123], Reward=-1.0\n",
            "Step 72: State=[-0.5355751  -0.00628857], Reward=-1.0\n",
            "Step 73: State=[-0.54077387 -0.00519877], Reward=-1.0\n",
            "Step 74: State=[-0.54484389 -0.00407001], Reward=-1.0\n",
            "Step 75: State=[-0.54775467 -0.00291078], Reward=-1.0\n",
            "Step 76: State=[-0.54948444 -0.00172977], Reward=-1.0\n",
            "Step 77: State=[-5.50020264e-01 -5.35824179e-04], Reward=-1.0\n",
            "Step 78: State=[-0.54935813  0.00066213], Reward=-1.0\n",
            "Step 79: State=[-0.547503    0.00185513], Reward=-1.0\n",
            "Step 80: State=[-0.54446874  0.00303426], Reward=-1.0\n",
            "Step 81: State=[-0.54027806  0.00419068], Reward=-1.0\n",
            "Step 82: State=[-0.53496233  0.00531573], Reward=-1.0\n",
            "Step 83: State=[-0.5285614   0.00640094], Reward=-1.0\n",
            "Step 84: State=[-0.52112324  0.00743815], Reward=-1.0\n",
            "Step 85: State=[-0.51270366  0.00841959], Reward=-1.0\n",
            "Step 86: State=[-0.50336577  0.00933789], Reward=-1.0\n",
            "Step 87: State=[-0.49317953  0.01018623], Reward=-1.0\n",
            "Step 88: State=[-0.48222113  0.01095841], Reward=-1.0\n",
            "Step 89: State=[-0.47057226  0.01164887], Reward=-1.0\n",
            "Step 90: State=[-0.45831941  0.01225285], Reward=-1.0\n",
            "Step 91: State=[-0.44555303  0.01276638], Reward=-1.0\n",
            "Step 92: State=[-0.43236667  0.01318637], Reward=-1.0\n",
            "Step 93: State=[-0.41885603  0.01351064], Reward=-1.0\n",
            "Step 94: State=[-0.4051181   0.01373793], Reward=-1.0\n",
            "Step 95: State=[-0.39125019  0.01386792], Reward=-1.0\n",
            "Step 96: State=[-0.37734901  0.01390118], Reward=-1.0\n",
            "Step 97: State=[-0.36350985  0.01383916], Reward=-1.0\n",
            "Step 98: State=[-0.34982573  0.01368412], Reward=-1.0\n",
            "Step 99: State=[-0.33638667  0.01343906], Reward=-1.0\n",
            "Step 100: State=[-0.32327904  0.01310763], Reward=-1.0\n",
            "Step 101: State=[-0.310585    0.01269404], Reward=-1.0\n",
            "Step 102: State=[-0.29838202  0.01220298], Reward=-1.0\n",
            "Step 103: State=[-0.28674255  0.01163947], Reward=-1.0\n",
            "Step 104: State=[-0.27573375  0.0110088 ], Reward=-1.0\n",
            "Step 105: State=[-0.26541729  0.01031646], Reward=-1.0\n",
            "Step 106: State=[-0.25584931  0.00956798], Reward=-1.0\n",
            "Step 107: State=[-0.24708036  0.00876894], Reward=-1.0\n",
            "Step 108: State=[-0.2391555   0.00792487], Reward=-1.0\n",
            "Step 109: State=[-0.23211432  0.00704118], Reward=-1.0\n",
            "Step 110: State=[-0.22599112  0.0061232 ], Reward=-1.0\n",
            "Step 111: State=[-0.22081504  0.00517608], Reward=-1.0\n",
            "Step 112: State=[-0.21661018  0.00420486], Reward=-1.0\n",
            "Step 113: State=[-0.21339579  0.00321439], Reward=-1.0\n",
            "Step 114: State=[-0.21118636  0.00220943], Reward=-1.0\n",
            "Step 115: State=[-0.20999174  0.00119462], Reward=-1.0\n",
            "Step 116: State=[-2.09817224e-01  1.74512811e-04], Reward=-1.0\n",
            "Step 117: State=[-0.21066359 -0.00084636], Reward=-1.0\n",
            "Step 118: State=[-0.21252708 -0.0018635 ], Reward=-1.0\n",
            "Step 119: State=[-0.21539942 -0.00287234], Reward=-1.0\n",
            "Step 120: State=[-0.21926771 -0.00386829], Reward=-1.0\n",
            "Step 121: State=[-0.22411434 -0.00484663], Reward=-1.0\n",
            "Step 122: State=[-0.22991688 -0.00580254], Reward=-1.0\n",
            "Step 123: State=[-0.23664794 -0.00673105], Reward=-1.0\n",
            "Step 124: State=[-0.24427499 -0.00762705], Reward=-1.0\n",
            "Step 125: State=[-0.25276026 -0.00848527], Reward=-1.0\n",
            "Step 126: State=[-0.26206057 -0.00930032], Reward=-1.0\n",
            "Step 127: State=[-0.27212727 -0.0100667 ], Reward=-1.0\n",
            "Step 128: State=[-0.28290613 -0.01077885], Reward=-1.0\n",
            "Step 129: State=[-0.29433734 -0.01143122], Reward=-1.0\n",
            "Step 130: State=[-0.30635563 -0.01201828], Reward=-1.0\n",
            "Step 131: State=[-0.31889032 -0.01253469], Reward=-1.0\n",
            "Step 132: State=[-0.33186562 -0.0129753 ], Reward=-1.0\n",
            "Step 133: State=[-0.34520093 -0.01333531], Reward=-1.0\n",
            "Step 134: State=[-0.35881125 -0.01361032], Reward=-1.0\n",
            "Step 135: State=[-0.37260775 -0.0137965 ], Reward=-1.0\n",
            "Step 136: State=[-0.38649835 -0.0138906 ], Reward=-1.0\n",
            "Step 137: State=[-0.40038846 -0.01389011], Reward=-1.0\n",
            "Step 138: State=[-0.41418175 -0.01379329], Reward=-1.0\n",
            "Step 139: State=[-0.42778101 -0.01359926], Reward=-1.0\n",
            "Step 140: State=[-0.44108904 -0.01330803], Reward=-1.0\n",
            "Step 141: State=[-0.4540096  -0.01292056], Reward=-1.0\n",
            "Step 142: State=[-0.46644829 -0.01243869], Reward=-1.0\n",
            "Step 143: State=[-0.47831352 -0.01186523], Reward=-1.0\n",
            "Step 144: State=[-0.48951734 -0.01120382], Reward=-1.0\n",
            "Step 145: State=[-0.49997632 -0.01045899], Reward=-1.0\n",
            "Step 146: State=[-0.50961233 -0.00963601], Reward=-1.0\n",
            "Step 147: State=[-0.5183532  -0.00874087], Reward=-1.0\n",
            "Step 148: State=[-0.52613342 -0.00778021], Reward=-1.0\n",
            "Step 149: State=[-0.53289462 -0.0067612 ], Reward=-1.0\n",
            "Step 150: State=[-0.53858612 -0.00569149], Reward=-1.0\n",
            "Step 151: State=[-0.54316524 -0.00457913], Reward=-1.0\n",
            "Step 152: State=[-0.54659771 -0.00343246], Reward=-1.0\n",
            "Step 153: State=[-0.54885782 -0.00226011], Reward=-1.0\n",
            "Step 154: State=[-0.54992866 -0.00107085], Reward=-1.0\n",
            "Step 155: State=[-5.49802240e-01  1.26422255e-04], Reward=-1.0\n",
            "Step 156: State=[-0.54847949  0.00132275], Reward=-1.0\n",
            "Step 157: State=[-0.54597032  0.00250918], Reward=-1.0\n",
            "Step 158: State=[-0.54229348  0.00367684], Reward=-1.0\n",
            "Step 159: State=[-0.5374765   0.00481698], Reward=-1.0\n",
            "Step 160: State=[-0.53155547  0.00592103], Reward=-1.0\n",
            "Step 161: State=[-0.52457478  0.0069807 ], Reward=-1.0\n",
            "Step 162: State=[-0.51658676  0.00798802], Reward=-1.0\n",
            "Step 163: State=[-0.50765133  0.00893543], Reward=-1.0\n",
            "Step 164: State=[-0.49783546  0.00981587], Reward=-1.0\n",
            "Step 165: State=[-0.48721262  0.01062284], Reward=-1.0\n",
            "Step 166: State=[-0.47586213  0.01135048], Reward=-1.0\n",
            "Step 167: State=[-0.46386845  0.01199368], Reward=-1.0\n",
            "Step 168: State=[-0.45132035  0.0125481 ], Reward=-1.0\n",
            "Step 169: State=[-0.4383101   0.01301025], Reward=-1.0\n",
            "Step 170: State=[-0.42493256  0.01337754], Reward=-1.0\n",
            "Step 171: State=[-0.41128426  0.0136483 ], Reward=-1.0\n",
            "Step 172: State=[-0.39746247  0.01382179], Reward=-1.0\n",
            "Step 173: State=[-0.38356429  0.01389819], Reward=-1.0\n",
            "Step 174: State=[-0.36968574  0.01387855], Reward=-1.0\n",
            "Step 175: State=[-0.35592095  0.01376478], Reward=-1.0\n",
            "Step 176: State=[-0.34236138  0.01355957], Reward=-1.0\n",
            "Step 177: State=[-0.32909511  0.01326628], Reward=-1.0\n",
            "Step 178: State=[-0.31620622  0.01288889], Reward=-1.0\n",
            "Step 179: State=[-0.30377435  0.01243187], Reward=-1.0\n",
            "Step 180: State=[-0.29187423  0.01190012], Reward=-1.0\n",
            "Step 181: State=[-0.28057541  0.01129882], Reward=-1.0\n",
            "Step 182: State=[-0.26994203  0.01063338], Reward=-1.0\n",
            "Step 183: State=[-0.26003271  0.00990932], Reward=-1.0\n",
            "Step 184: State=[-0.2509005   0.00913221], Reward=-1.0\n",
            "Step 185: State=[-0.2425929  0.0083076], Reward=-1.0\n",
            "Step 186: State=[-0.23515194  0.00744096], Reward=-1.0\n",
            "Step 187: State=[-0.22861427  0.00653767], Reward=-1.0\n",
            "Step 188: State=[-0.22301131  0.00560296], Reward=-1.0\n",
            "Step 189: State=[-0.21836941  0.0046419 ], Reward=-1.0\n",
            "Step 190: State=[-0.21470996  0.00365945], Reward=-1.0\n",
            "Step 191: State=[-0.21204957  0.00266039], Reward=-1.0\n",
            "Step 192: State=[-0.21040015  0.00164942], Reward=-1.0\n",
            "Step 193: State=[-0.20976903  0.00063112], Reward=-1.0\n",
            "Step 194: State=[-0.210159   -0.00038997], Reward=-1.0\n",
            "Step 195: State=[-0.21156833 -0.00140934], Reward=-1.0\n",
            "Step 196: State=[-0.21399078 -0.00242245], Reward=-1.0\n",
            "Step 197: State=[-0.21741553 -0.00342474], Reward=-1.0\n",
            "Step 198: State=[-0.22182708 -0.00441155], Reward=-1.0\n",
            "Step 199: State=[-0.22720517 -0.0053781 ], Reward=-1.0\n",
            "Step 200: State=[-0.23352466 -0.00631949], Reward=-1.0\n"
          ],
          "name": "stdout"
        }
      ]
    },
    {
      "cell_type": "code",
      "metadata": {
        "colab": {
          "base_uri": "https://localhost:8080/",
          "height": 421
        },
        "id": "lrJxIxzpdI_s",
        "outputId": "b5edcee4-7f29-4976-d2f3-4ec3063a65cf"
      },
      "source": [
        "show_video()"
      ],
      "execution_count": null,
      "outputs": [
        {
          "output_type": "display_data",
          "data": {
            "text/html": [
              "<video alt=\"test\" autoplay \n",
              "                loop controls style=\"height: 400px;\">\n",
              "                <source src=\"data:video/mp4;base64,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\" type=\"video/mp4\" />\n",
              "             </video>"
            ],
            "text/plain": [
              "<IPython.core.display.HTML object>"
            ]
          },
          "metadata": {
            "tags": []
          }
        }
      ]
    },
    {
      "cell_type": "markdown",
      "metadata": {
        "id": "IVcdwI-0-Nod"
      },
      "source": [
        "### Programmed Car\n",
        "\n",
        "Now we will look at a car with a rule based policy: Whatever direction the vehicle is currently rolling, the agent uses power in that direction.  Therefore, the car begins to climb a hill, is overpowered, and turns backward.  However, once it starts to roll backward force is immediately applied in this new direction.\n",
        "\n",
        "The following code implements this preprogrammed car."
      ]
    },
    {
      "cell_type": "code",
      "metadata": {
        "colab": {
          "base_uri": "https://localhost:8080/"
        },
        "id": "AMzYrqRy-Noe",
        "outputId": "c1196008-5521-4de2-8e52-7eaaf343ba4a"
      },
      "source": [
        "import gym\n",
        "\n",
        "env = wrap_env(gym.make(\"MountainCar-v0\"))\n",
        " \n",
        "state = env.reset()\n",
        "done = False\n",
        "\n",
        "i = 0\n",
        "while not done:\n",
        "    i += 1\n",
        "    \n",
        "    if state[1]>0:\n",
        "        action = 2\n",
        "    else:\n",
        "        action = 0\n",
        "    \n",
        "    state, reward, done, _ = env.step(action)\n",
        "    env.render()\n",
        "    print(f\"Step {i}: State={state}, Reward={reward}\")\n",
        "\n",
        "\n",
        "\n",
        "env.close()"
      ],
      "execution_count": null,
      "outputs": [
        {
          "output_type": "stream",
          "text": [
            "Step 1: State=[-0.48498995 -0.00129859], Reward=-1.0\n",
            "Step 2: State=[-0.48757746 -0.00258751], Reward=-1.0\n",
            "Step 3: State=[-0.49143461 -0.00385714], Reward=-1.0\n",
            "Step 4: State=[-0.49653261 -0.005098  ], Reward=-1.0\n",
            "Step 5: State=[-0.50283338 -0.00630078], Reward=-1.0\n",
            "Step 6: State=[-0.5102898  -0.00745641], Reward=-1.0\n",
            "Step 7: State=[-0.518846   -0.00855621], Reward=-1.0\n",
            "Step 8: State=[-0.52843785 -0.00959185], Reward=-1.0\n",
            "Step 9: State=[-0.53899341 -0.01055556], Reward=-1.0\n",
            "Step 10: State=[-0.55043355 -0.01144014], Reward=-1.0\n",
            "Step 11: State=[-0.56267265 -0.0122391 ], Reward=-1.0\n",
            "Step 12: State=[-0.57561936 -0.01294671], Reward=-1.0\n",
            "Step 13: State=[-0.5891775  -0.01355814], Reward=-1.0\n",
            "Step 14: State=[-0.60324697 -0.01406947], Reward=-1.0\n",
            "Step 15: State=[-0.61772474 -0.01447777], Reward=-1.0\n",
            "Step 16: State=[-0.63250591 -0.01478117], Reward=-1.0\n",
            "Step 17: State=[-0.64748474 -0.01497882], Reward=-1.0\n",
            "Step 18: State=[-0.66255566 -0.01507092], Reward=-1.0\n",
            "Step 19: State=[-0.67761433 -0.01505867], Reward=-1.0\n",
            "Step 20: State=[-0.69255854 -0.01494422], Reward=-1.0\n",
            "Step 21: State=[-0.70728913 -0.01473059], Reward=-1.0\n",
            "Step 22: State=[-0.72171072 -0.01442159], Reward=-1.0\n",
            "Step 23: State=[-0.73573241 -0.01402169], Reward=-1.0\n",
            "Step 24: State=[-0.74926834 -0.01353593], Reward=-1.0\n",
            "Step 25: State=[-0.76223811 -0.01296977], Reward=-1.0\n",
            "Step 26: State=[-0.77456711 -0.01232899], Reward=-1.0\n",
            "Step 27: State=[-0.7861867  -0.01161959], Reward=-1.0\n",
            "Step 28: State=[-0.79703434 -0.01084765], Reward=-1.0\n",
            "Step 29: State=[-0.8070536  -0.01001926], Reward=-1.0\n",
            "Step 30: State=[-0.81619406 -0.00914046], Reward=-1.0\n",
            "Step 31: State=[-0.8244112  -0.00821714], Reward=-1.0\n",
            "Step 32: State=[-0.83166624 -0.00725504], Reward=-1.0\n",
            "Step 33: State=[-0.83792593 -0.00625969], Reward=-1.0\n",
            "Step 34: State=[-0.84316234 -0.00523641], Reward=-1.0\n",
            "Step 35: State=[-0.84735265 -0.00419031], Reward=-1.0\n",
            "Step 36: State=[-0.85047896 -0.00312631], Reward=-1.0\n",
            "Step 37: State=[-0.85252814 -0.00204918], Reward=-1.0\n",
            "Step 38: State=[-0.85349166 -0.00096353], Reward=-1.0\n",
            "Step 39: State=[-8.53365570e-01  1.26094762e-04], Reward=-1.0\n",
            "Step 40: State=[-0.85015037  0.0032152 ], Reward=-1.0\n",
            "Step 41: State=[-0.84385941  0.00629096], Reward=-1.0\n",
            "Step 42: State=[-0.83451935  0.00934006], Reward=-1.0\n",
            "Step 43: State=[-0.82217112  0.01234823], Reward=-1.0\n",
            "Step 44: State=[-0.80687124  0.01529987], Reward=-1.0\n",
            "Step 45: State=[-0.78869347  0.01817777], Reward=-1.0\n",
            "Step 46: State=[-0.76773054  0.02096293], Reward=-1.0\n",
            "Step 47: State=[-0.74409597  0.02363456], Reward=-1.0\n",
            "Step 48: State=[-0.71792567  0.0261703 ], Reward=-1.0\n",
            "Step 49: State=[-0.68937909  0.02854659], Reward=-1.0\n",
            "Step 50: State=[-0.65863978  0.03073931], Reward=-1.0\n",
            "Step 51: State=[-0.62591514  0.03272464], Reward=-1.0\n",
            "Step 52: State=[-0.59143512  0.03448002], Reward=-1.0\n",
            "Step 53: State=[-0.55544983  0.03598529], Reward=-1.0\n",
            "Step 54: State=[-0.51822602  0.03722381], Reward=-1.0\n",
            "Step 55: State=[-0.48004251  0.03818351], Reward=-1.0\n",
            "Step 56: State=[-0.44118474  0.03885777], Reward=-1.0\n",
            "Step 57: State=[-0.40193879  0.03924594], Reward=-1.0\n",
            "Step 58: State=[-0.36258518  0.03935362], Reward=-1.0\n",
            "Step 59: State=[-0.32339275  0.03919243], Reward=-1.0\n",
            "Step 60: State=[-0.2846132   0.03877955], Reward=-1.0\n",
            "Step 61: State=[-0.24647638  0.03813682], Reward=-1.0\n",
            "Step 62: State=[-0.2091867   0.03728968], Reward=-1.0\n",
            "Step 63: State=[-0.17292067  0.03626603], Reward=-1.0\n",
            "Step 64: State=[-0.13782573  0.03509494], Reward=-1.0\n",
            "Step 65: State=[-0.10402011  0.03380562], Reward=-1.0\n",
            "Step 66: State=[-0.07159375  0.03242636], Reward=-1.0\n",
            "Step 67: State=[-0.04060995  0.0309838 ], Reward=-1.0\n",
            "Step 68: State=[-0.01110761  0.02950233], Reward=-1.0\n",
            "Step 69: State=[0.01689611 0.02800372], Reward=-1.0\n",
            "Step 70: State=[0.04340304 0.02650693], Reward=-1.0\n",
            "Step 71: State=[0.06843114 0.0250281 ], Reward=-1.0\n",
            "Step 72: State=[0.09201173 0.02358059], Reward=-1.0\n",
            "Step 73: State=[0.11418697 0.02217523], Reward=-1.0\n",
            "Step 74: State=[0.13500746 0.02082049], Reward=-1.0\n",
            "Step 75: State=[0.15453021 0.01952276], Reward=-1.0\n",
            "Step 76: State=[0.17281684 0.01828662], Reward=-1.0\n",
            "Step 77: State=[0.18993199 0.01711515], Reward=-1.0\n",
            "Step 78: State=[0.20594212 0.01601013], Reward=-1.0\n",
            "Step 79: State=[0.22091439 0.01497228], Reward=-1.0\n",
            "Step 80: State=[0.2349159  0.01400151], Reward=-1.0\n",
            "Step 81: State=[0.24801298 0.01309707], Reward=-1.0\n",
            "Step 82: State=[0.2602707  0.01225772], Reward=-1.0\n",
            "Step 83: State=[0.27175257 0.01148187], Reward=-1.0\n",
            "Step 84: State=[0.28252024 0.01076767], Reward=-1.0\n",
            "Step 85: State=[0.29263337 0.01011313], Reward=-1.0\n",
            "Step 86: State=[0.30214958 0.00951621], Reward=-1.0\n",
            "Step 87: State=[0.31112443 0.00897485], Reward=-1.0\n",
            "Step 88: State=[0.31961146 0.00848703], Reward=-1.0\n",
            "Step 89: State=[0.3276623  0.00805085], Reward=-1.0\n",
            "Step 90: State=[0.3353268 0.0076645], Reward=-1.0\n",
            "Step 91: State=[0.34265315 0.00732635], Reward=-1.0\n",
            "Step 92: State=[0.34968807 0.00703493], Reward=-1.0\n",
            "Step 93: State=[0.35647704 0.00678897], Reward=-1.0\n",
            "Step 94: State=[0.36306446 0.00658741], Reward=-1.0\n",
            "Step 95: State=[0.36949387 0.00642941], Reward=-1.0\n",
            "Step 96: State=[0.37580823 0.00631436], Reward=-1.0\n",
            "Step 97: State=[0.38205012 0.00624189], Reward=-1.0\n",
            "Step 98: State=[0.38826202 0.0062119 ], Reward=-1.0\n",
            "Step 99: State=[0.39448655 0.00622453], Reward=-1.0\n",
            "Step 100: State=[0.40076676 0.00628022], Reward=-1.0\n",
            "Step 101: State=[0.40714645 0.00637969], Reward=-1.0\n",
            "Step 102: State=[0.4136704  0.00652395], Reward=-1.0\n",
            "Step 103: State=[0.42038476 0.00671435], Reward=-1.0\n",
            "Step 104: State=[0.42733731 0.00695256], Reward=-1.0\n",
            "Step 105: State=[0.4345779  0.00724059], Reward=-1.0\n",
            "Step 106: State=[0.44215875 0.00758084], Reward=-1.0\n",
            "Step 107: State=[0.45013485 0.0079761 ], Reward=-1.0\n",
            "Step 108: State=[0.45856442 0.00842957], Reward=-1.0\n",
            "Step 109: State=[0.46750932 0.0089449 ], Reward=-1.0\n",
            "Step 110: State=[0.47703553 0.00952621], Reward=-1.0\n",
            "Step 111: State=[0.48721366 0.01017812], Reward=-1.0\n",
            "Step 112: State=[0.49811943 0.01090578], Reward=-1.0\n",
            "Step 113: State=[0.5098343  0.01171487], Reward=-1.0\n"
          ],
          "name": "stdout"
        }
      ]
    },
    {
      "cell_type": "markdown",
      "metadata": {
        "id": "eDSKmI___tEl"
      },
      "source": [
        "We now visualize the preprogrammed car solving the problem."
      ]
    },
    {
      "cell_type": "code",
      "metadata": {
        "colab": {
          "base_uri": "https://localhost:8080/",
          "height": 421
        },
        "id": "_FyIrJokfDA6",
        "outputId": "0f822e69-b369-4663-c7ad-68bf3b338e40"
      },
      "source": [
        "show_video()"
      ],
      "execution_count": null,
      "outputs": [
        {
          "output_type": "display_data",
          "data": {
            "text/html": [
              "<video alt=\"test\" autoplay \n",
              "                loop controls style=\"height: 400px;\">\n",
              "                <source src=\"data:video/mp4;base64,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\" type=\"video/mp4\" />\n",
              "             </video>"
            ],
            "text/plain": [
              "<IPython.core.display.HTML object>"
            ]
          },
          "metadata": {
            "tags": []
          }
        }
      ]
    },
    {
      "cell_type": "markdown",
      "metadata": {
        "id": "NX8GHuKgkHvY"
      },
      "source": [
        "### Q-Learning Car\n",
        "\n",
        "\n",
        "$Q^{new}(s_{t},a_{t}) \\leftarrow \\underbrace{Q(s_{t},a_{t})}_{\\text{old value}} + \\underbrace{\\alpha}_{\\text{learning rate}} \\cdot  \\overbrace{\\bigg( \\underbrace{\\underbrace{r_{t}}_{\\text{reward}} + \\underbrace{\\gamma}_{\\text{discount factor}} \\cdot \\underbrace{\\max_{a}Q(s_{t+1}, a)}_{\\text{estimate of optimal future value}}}_{\\text{new value (TD-target)}} - \\underbrace{Q(s_{t},a_{t})}_{\\text{old value}} \\bigg) }^{\\text{TD-error}}$\n",
        "\n",
        "\n",
        "\n",
        "\n"
      ]
    },
    {
      "cell_type": "code",
      "metadata": {
        "id": "UrQgXqbS-Noi"
      },
      "source": [
        "import gym\n",
        "import numpy as np\n",
        "\n",
        "# Binning in discrete state space\n",
        "def calc_discrete_state(state):\n",
        "    discrete_state = (state - env.observation_space.low)/buckets\n",
        "    return tuple(discrete_state.astype(np.int))  \n",
        "\n",
        "# Run one game.  The q_table to use is provided.  We also \n",
        "# provide a flag to indicate if the game should be \n",
        "# rendered/animated.  Finally, we also provide\n",
        "# a flag to indicate if the q_table should be updated.\n",
        "\n",
        "def run_game(q_table, render, should_update):\n",
        "    done = False\n",
        "    discrete_state = calc_discrete_state(env.reset())\n",
        "    success = False\n",
        "    \n",
        "    while not done:\n",
        "        # Exploit or explore\n",
        "        if np.random.random() > epsilon:\n",
        "            # Exploit - use q-table to take current best action \n",
        "            # (and probably refine)\n",
        "            action = np.argmax(q_table[discrete_state])\n",
        "        else:\n",
        "            # Explore - t\n",
        "            action = np.random.randint(0, env.action_space.n)\n",
        "            \n",
        "        # Run simulation step\n",
        "        new_state, reward, done, _ = env.step(action)\n",
        "        \n",
        "        # Convert continuous state to discrete\n",
        "        new_state_disc = calc_discrete_state(new_state)\n",
        "\n",
        "        # Have we reached the goal position (have we won?)?\n",
        "        if new_state[0] >= env.unwrapped.goal_position:\n",
        "            success = True\n",
        "          \n",
        "        # Update q-table\n",
        "        if should_update:\n",
        "            max_future_q = np.max(q_table[new_state_disc])\n",
        "            current_q = q_table[discrete_state + (action,)]\n",
        "            new_q = (1 - LEARNING_RATE) * current_q + LEARNING_RATE * \\\n",
        "              (reward + DISCOUNT * max_future_q)\n",
        "            q_table[discrete_state + (action,)] = new_q\n",
        "\n",
        "        discrete_state = new_state_disc\n",
        "        \n",
        "        if render:\n",
        "            env.render()\n",
        "            \n",
        "    return success\n"
      ],
      "execution_count": null,
      "outputs": []
    },
    {
      "cell_type": "markdown",
      "metadata": {
        "id": "n3j1M4MddIBF"
      },
      "source": [
        "Several hyperparameters are very important for Q-Learning. These parameters will likely need adjustment as you apply Q-Learning to other problems.  Because of this, it is crucial to understand the role of each parameter.\n",
        "\n",
        "* **LEARNING_RATE** The rate at which previous Q-values are updated based on new episodes run during training. \n",
        "* **DISCOUNT** The amount of significance to give estimates of future rewards when added to the reward for the current action taken.  A value of 0.95 would indicate a discount of 5% to the future reward estimates. \n",
        "* **EPISODES** The number of episodes to train over.  Increase this for more complex problems; however, training time also increases.\n",
        "* **SHOW_EVERY** How many episodes to allow to elapse before showing an update.\n",
        "* **DISCRETE_GRID_SIZE** How many buckets to use when converting each of the continuous state variables.  For example, [10, 10] indicates that the algorithm should use ten buckets for the first and second state variables.\n",
        "* **START_EPSILON_DECAYING** Epsilon is the probability that the agent will select a random action over what the Q-Table suggests. This value determines the starting probability of randomness.\n",
        "* **END_EPSILON_DECAYING** How many episodes should elapse before epsilon goes to zero and no random actions are permitted. For example, EPISODES//10  means only the first 1/10th of the episodes might have random actions."
      ]
    },
    {
      "cell_type": "code",
      "metadata": {
        "id": "rI0TJc7T-Nol"
      },
      "source": [
        "LEARNING_RATE = 0.1\n",
        "DISCOUNT = 0.95\n",
        "EPISODES = 5000\n",
        "SHOW_EVERY = 1000\n",
        "\n",
        "DISCRETE_GRID_SIZE = [10, 10]\n",
        "START_EPSILON_DECAYING = 0.5\n",
        "END_EPSILON_DECAYING = EPISODES//10"
      ],
      "execution_count": null,
      "outputs": []
    },
    {
      "cell_type": "code",
      "metadata": {
        "id": "2IdL-46y-Noo"
      },
      "source": [
        "env = wrap_env(gym.make(\"MountainCar-v0\"))\n",
        "\n",
        "epsilon = 1  \n",
        "epsilon_change = epsilon/(END_EPSILON_DECAYING - START_EPSILON_DECAYING)\n",
        "buckets = (env.observation_space.high - env.observation_space.low) \\\n",
        "    /DISCRETE_GRID_SIZE\n",
        "q_table = np.random.uniform(low=-3, high=0, size=(DISCRETE_GRID_SIZE \\\n",
        "    + [env.action_space.n]))\n",
        "success = False"
      ],
      "execution_count": null,
      "outputs": []
    },
    {
      "cell_type": "code",
      "metadata": {
        "colab": {
          "base_uri": "https://localhost:8080/",
          "height": 130
        },
        "id": "Ot7cF0bX-Nor",
        "outputId": "892a9c98-9092-4300-9c9b-9280091077c9"
      },
      "source": [
        "episode = 0\n",
        "success_count = 0\n",
        "\n",
        "# Loop through the required number of episodes\n",
        "while episode<EPISODES:\n",
        "    episode+=1\n",
        "    done = False\n",
        "\n",
        "    # Run the game.  If we are local, display render animation at SHOW_EVERY\n",
        "    # intervals. \n",
        "    if episode % SHOW_EVERY == 0:\n",
        "        print(f\"Current episode: {episode}, success: {success_count}, Current epsilon:{epsilon}\"\n",
        "        success = run_game(q_table, True, False)\n",
        "        success_count = 0\n",
        "    else:\n",
        "        success = run_game(q_table, False, True)\n",
        "        \n",
        "    # Count successes\n",
        "    if success:\n",
        "        success_count += 1\n",
        "\n",
        "    # Move epsilon towards its ending value, if it still needs to move\n",
        "    if END_EPSILON_DECAYING >= episode >= START_EPSILON_DECAYING:\n",
        "        epsilon = max(0, epsilon - epsilon_change)\n",
        "\n",
        "print(success)"
      ],
      "execution_count": null,
      "outputs": [
        {
          "output_type": "error",
          "ename": "SyntaxError",
          "evalue": "ignored",
          "traceback": [
            "\u001b[0;36m  File \u001b[0;32m\"<ipython-input-11-4ee44164d643>\"\u001b[0;36m, line \u001b[0;32m13\u001b[0m\n\u001b[0;31m    success = run_game(q_table, True, False)\u001b[0m\n\u001b[0m          ^\u001b[0m\n\u001b[0;31mSyntaxError\u001b[0m\u001b[0;31m:\u001b[0m invalid syntax\n"
          ]
        }
      ]
    },
    {
      "cell_type": "markdown",
      "metadata": {
        "id": "kDHTQkREFRSE"
      },
      "source": [
        "As you can see, the number of successful episodes generally increases as training progresses.  It is not advisable to stop the first time that we observe 100% success over 1,000 episodes. There is a randomness to most games, so it is not likely that an agent would retain its 100% success rate with a new run.  Once you observe that the agent has gotten 100% for several update intervals, it might be safe to stop training."
      ]
    },
    {
      "cell_type": "markdown",
      "metadata": {
        "id": "dMPR70U0sY7o"
      },
      "source": [
        "# Running and Observing the Agent\n",
        "\n",
        "Now that the algorithm has trained the agent, we can observe the agent in action. You can use the following code to see the agent in action."
      ]
    },
    {
      "cell_type": "code",
      "metadata": {
        "id": "v_mf3A0h-Nox"
      },
      "source": [
        "run_game(q_table, True, False)\n",
        "show_video()"
      ],
      "execution_count": null,
      "outputs": []
    },
    {
      "cell_type": "markdown",
      "metadata": {
        "id": "WeQzNFSosdys"
      },
      "source": [
        "# Inspecting the Q-Table\n",
        "\n",
        "We can also display the Q-table.  The following code shows the action that the agent would perform for each environment state.  As the weights of a neural network, this table is not straightforward to interpret.  Some patterns do emerge in that directions do arise, as seen by calculating the means of rows and columns. The actions seem consistent at upper and lower halves of both velocity and position."
      ]
    },
    {
      "cell_type": "code",
      "metadata": {
        "id": "L62lyCTr-Noz"
      },
      "source": [
        "import pandas as pd\n",
        "\n",
        "df = pd.DataFrame(q_table.argmax(axis=2))\n",
        "\n",
        "df.columns = [f'v-{x}' for x in range(DISCRETE_GRID_SIZE[0])]\n",
        "df.index = [f'p-{x}' for x in range(DISCRETE_GRID_SIZE[1])]\n",
        "df"
      ],
      "execution_count": null,
      "outputs": []
    },
    {
      "cell_type": "code",
      "metadata": {
        "id": "Z-ZOL-d5Jbon"
      },
      "source": [
        "df.mean(axis=0)"
      ],
      "execution_count": null,
      "outputs": []
    },
    {
      "cell_type": "code",
      "metadata": {
        "id": "LOGA4HP9KHW3"
      },
      "source": [
        "df.mean(axis=1)"
      ],
      "execution_count": null,
      "outputs": []
    }
  ]
}